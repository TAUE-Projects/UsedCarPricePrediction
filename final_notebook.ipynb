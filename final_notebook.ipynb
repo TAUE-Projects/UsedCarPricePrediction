{
 "cells": [
  {
   "cell_type": "code",
   "execution_count": 125,
   "id": "35e85b6e",
   "metadata": {},
   "outputs": [],
   "source": [
    "import numpy as np\n",
    "import pandas as pd \n",
    "import matplotlib.pyplot as plt\n",
    "import seaborn as sns\n",
    "%matplotlib inline \n",
    "\n",
    "\n",
    "# modeling \n",
    "\n",
    "from sklearn.model_selection import train_test_split\n",
    "from sklearn.linear_model import LinearRegression"
   ]
  },
  {
   "cell_type": "code",
   "execution_count": 126,
   "id": "d75a8792",
   "metadata": {},
   "outputs": [],
   "source": [
    "train = pd.read_csv('train.csv')\n",
    "test = pd.read_csv('test.csv')"
   ]
  },
  {
   "cell_type": "markdown",
   "id": "71e17315",
   "metadata": {},
   "source": [
    "### Univariate analysis (before data cleaning)"
   ]
  },
  {
   "cell_type": "code",
   "execution_count": 127,
   "id": "4eb24335",
   "metadata": {},
   "outputs": [
    {
     "name": "stdout",
     "output_type": "stream",
     "text": [
      "<class 'pandas.core.frame.DataFrame'>\n",
      "RangeIndex: 290129 entries, 0 to 290128\n",
      "Data columns (total 20 columns):\n",
      " #   Column        Non-Null Count   Dtype  \n",
      "---  ------        --------------   -----  \n",
      " 0   Unnamed: 0    290129 non-null  int64  \n",
      " 1   id            290129 non-null  int64  \n",
      " 2   year          290129 non-null  float64\n",
      " 3   manufacturer  278787 non-null  object \n",
      " 4   model         290129 non-null  object \n",
      " 5   condition     174025 non-null  object \n",
      " 6   cylinders     170829 non-null  object \n",
      " 7   fuel          288676 non-null  object \n",
      " 8   odometer      290129 non-null  float64\n",
      " 9   title_status  285063 non-null  object \n",
      " 10  transmission  290129 non-null  object \n",
      " 11  drive         202042 non-null  object \n",
      " 12  size          82445 non-null   object \n",
      " 13  type          227533 non-null  object \n",
      " 14  paint_color   203016 non-null  object \n",
      " 15  state         290129 non-null  object \n",
      " 16  lat           285726 non-null  float64\n",
      " 17  long          285726 non-null  float64\n",
      " 18  posting_date  290129 non-null  object \n",
      " 19  price         290129 non-null  int64  \n",
      "dtypes: float64(4), int64(3), object(13)\n",
      "memory usage: 44.3+ MB\n"
     ]
    }
   ],
   "source": [
    "train.info()"
   ]
  },
  {
   "cell_type": "markdown",
   "id": "4a5c832c",
   "metadata": {},
   "source": [
    "### Data cleaning "
   ]
  },
  {
   "cell_type": "code",
   "execution_count": 128,
   "id": "fbc9352b",
   "metadata": {},
   "outputs": [],
   "source": [
    "train.drop(['Unnamed: 0','id','lat','long'],axis=1,inplace = True)\n",
    "test.drop(['Unnamed: 0','id','lat','long'],axis=1,inplace = True)"
   ]
  },
  {
   "cell_type": "code",
   "execution_count": 129,
   "id": "7937107a",
   "metadata": {},
   "outputs": [],
   "source": [
    "train.drop(['posting_date'],axis=1,inplace = True)\n",
    "test.drop(['posting_date'],axis=1,inplace = True)"
   ]
  },
  {
   "cell_type": "code",
   "execution_count": 130,
   "id": "d9aad7ff",
   "metadata": {},
   "outputs": [
    {
     "data": {
      "text/plain": [
       "year                 0\n",
       "manufacturer     11342\n",
       "model                0\n",
       "condition       116104\n",
       "cylinders       119300\n",
       "fuel              1453\n",
       "odometer             0\n",
       "title_status      5066\n",
       "transmission         0\n",
       "drive            88087\n",
       "size            207684\n",
       "type             62596\n",
       "paint_color      87113\n",
       "state                0\n",
       "price                0\n",
       "dtype: int64"
      ]
     },
     "execution_count": 130,
     "metadata": {},
     "output_type": "execute_result"
    }
   ],
   "source": [
    "train.isna().sum()"
   ]
  },
  {
   "cell_type": "code",
   "execution_count": 131,
   "id": "78b9e555",
   "metadata": {},
   "outputs": [],
   "source": [
    "# impute null values using eterative imputer \n",
    "\n",
    "from sklearn.experimental import enable_iterative_imputer\n",
    "from sklearn.impute import IterativeImputer\n",
    "# import estimator as BayesianRidge \n",
    "from sklearn.linear_model import BayesianRidge\n",
    "from sklearn.preprocessing import LabelEncoder\n",
    "\n",
    "import warnings\n",
    "warnings.filterwarnings(action='ignore')\n"
   ]
  },
  {
   "cell_type": "code",
   "execution_count": 132,
   "id": "666a4e90",
   "metadata": {},
   "outputs": [
    {
     "data": {
      "text/html": [
       "<div>\n",
       "<style scoped>\n",
       "    .dataframe tbody tr th:only-of-type {\n",
       "        vertical-align: middle;\n",
       "    }\n",
       "\n",
       "    .dataframe tbody tr th {\n",
       "        vertical-align: top;\n",
       "    }\n",
       "\n",
       "    .dataframe thead th {\n",
       "        text-align: right;\n",
       "    }\n",
       "</style>\n",
       "<table border=\"1\" class=\"dataframe\">\n",
       "  <thead>\n",
       "    <tr style=\"text-align: right;\">\n",
       "      <th></th>\n",
       "      <th>year</th>\n",
       "      <th>manufacturer</th>\n",
       "      <th>model</th>\n",
       "      <th>condition</th>\n",
       "      <th>cylinders</th>\n",
       "      <th>fuel</th>\n",
       "      <th>odometer</th>\n",
       "      <th>title_status</th>\n",
       "      <th>transmission</th>\n",
       "      <th>drive</th>\n",
       "      <th>size</th>\n",
       "      <th>type</th>\n",
       "      <th>paint_color</th>\n",
       "      <th>state</th>\n",
       "      <th>price</th>\n",
       "    </tr>\n",
       "  </thead>\n",
       "  <tbody>\n",
       "    <tr>\n",
       "      <th>0</th>\n",
       "      <td>2007.0</td>\n",
       "      <td>infiniti</td>\n",
       "      <td>m45</td>\n",
       "      <td>excellent</td>\n",
       "      <td>NaN</td>\n",
       "      <td>gas</td>\n",
       "      <td>214740.0</td>\n",
       "      <td>clean</td>\n",
       "      <td>automatic</td>\n",
       "      <td>rwd</td>\n",
       "      <td>NaN</td>\n",
       "      <td>sedan</td>\n",
       "      <td>black</td>\n",
       "      <td>ga</td>\n",
       "      <td>7995</td>\n",
       "    </tr>\n",
       "    <tr>\n",
       "      <th>1</th>\n",
       "      <td>2008.0</td>\n",
       "      <td>cadillac</td>\n",
       "      <td>escalade</td>\n",
       "      <td>NaN</td>\n",
       "      <td>NaN</td>\n",
       "      <td>gas</td>\n",
       "      <td>170276.0</td>\n",
       "      <td>clean</td>\n",
       "      <td>automatic</td>\n",
       "      <td>NaN</td>\n",
       "      <td>NaN</td>\n",
       "      <td>SUV</td>\n",
       "      <td>black</td>\n",
       "      <td>wa</td>\n",
       "      <td>14999</td>\n",
       "    </tr>\n",
       "  </tbody>\n",
       "</table>\n",
       "</div>"
      ],
      "text/plain": [
       "     year manufacturer     model  condition cylinders fuel  odometer  \\\n",
       "0  2007.0     infiniti       m45  excellent       NaN  gas  214740.0   \n",
       "1  2008.0     cadillac  escalade        NaN       NaN  gas  170276.0   \n",
       "\n",
       "  title_status transmission drive size   type paint_color state  price  \n",
       "0        clean    automatic   rwd  NaN  sedan       black    ga   7995  \n",
       "1        clean    automatic   NaN  NaN    SUV       black    wa  14999  "
      ]
     },
     "execution_count": 132,
     "metadata": {},
     "output_type": "execute_result"
    }
   ],
   "source": [
    "train.head(2)"
   ]
  },
  {
   "cell_type": "code",
   "execution_count": 133,
   "id": "60a1b897",
   "metadata": {},
   "outputs": [],
   "source": [
    "# splitting the data into categorical and numerical columns \n",
    "num_columns =['year','odometer']\n",
    "cat_columns = ['size','manufacturer','model','condition','cylinders','fuel','title_status','transmission','drive','type','paint_color','state']"
   ]
  },
  {
   "cell_type": "code",
   "execution_count": 134,
   "id": "80dfd321",
   "metadata": {},
   "outputs": [],
   "source": [
    "# change Year column to represent int type \n",
    "train.year = train.year.astype('int64')\n",
    "test.year = test.year.astype('int64')"
   ]
  },
  {
   "cell_type": "code",
   "execution_count": 135,
   "id": "0e5f0627",
   "metadata": {
    "scrolled": false
   },
   "outputs": [],
   "source": [
    "# create function to encode data using label encoding becasue iterative methode runs with \n",
    "# numerical values only \n",
    "\n",
    "sample = train.copy()\n",
    "encoder = LabelEncoder()\n",
    "\n",
    "\n",
    "def encod(column):\n",
    "    n_nulls = pd.notnull(column)\n",
    "    encoded_column = encoder.fit_transform(column[n_nulls])\n",
    "    column.loc[n_nulls] = encoded_column\n",
    "    return column\n",
    "\n",
    "for col in cat_columns:\n",
    "    sample[col] = encod(sample[col])"
   ]
  },
  {
   "cell_type": "code",
   "execution_count": 136,
   "id": "a36496aa",
   "metadata": {},
   "outputs": [
    {
     "data": {
      "text/html": [
       "<div>\n",
       "<style scoped>\n",
       "    .dataframe tbody tr th:only-of-type {\n",
       "        vertical-align: middle;\n",
       "    }\n",
       "\n",
       "    .dataframe tbody tr th {\n",
       "        vertical-align: top;\n",
       "    }\n",
       "\n",
       "    .dataframe thead th {\n",
       "        text-align: right;\n",
       "    }\n",
       "</style>\n",
       "<table border=\"1\" class=\"dataframe\">\n",
       "  <thead>\n",
       "    <tr style=\"text-align: right;\">\n",
       "      <th></th>\n",
       "      <th>year</th>\n",
       "      <th>manufacturer</th>\n",
       "      <th>model</th>\n",
       "      <th>condition</th>\n",
       "      <th>cylinders</th>\n",
       "      <th>fuel</th>\n",
       "      <th>odometer</th>\n",
       "      <th>title_status</th>\n",
       "      <th>transmission</th>\n",
       "      <th>drive</th>\n",
       "      <th>size</th>\n",
       "      <th>type</th>\n",
       "      <th>paint_color</th>\n",
       "      <th>state</th>\n",
       "      <th>price</th>\n",
       "    </tr>\n",
       "  </thead>\n",
       "  <tbody>\n",
       "    <tr>\n",
       "      <th>0</th>\n",
       "      <td>2007</td>\n",
       "      <td>18</td>\n",
       "      <td>15798</td>\n",
       "      <td>0</td>\n",
       "      <td>NaN</td>\n",
       "      <td>2</td>\n",
       "      <td>214740.0</td>\n",
       "      <td>0</td>\n",
       "      <td>0</td>\n",
       "      <td>2</td>\n",
       "      <td>NaN</td>\n",
       "      <td>9</td>\n",
       "      <td>0</td>\n",
       "      <td>10</td>\n",
       "      <td>7995</td>\n",
       "    </tr>\n",
       "    <tr>\n",
       "      <th>1</th>\n",
       "      <td>2008</td>\n",
       "      <td>6</td>\n",
       "      <td>10830</td>\n",
       "      <td>NaN</td>\n",
       "      <td>NaN</td>\n",
       "      <td>2</td>\n",
       "      <td>170276.0</td>\n",
       "      <td>0</td>\n",
       "      <td>0</td>\n",
       "      <td>NaN</td>\n",
       "      <td>NaN</td>\n",
       "      <td>0</td>\n",
       "      <td>0</td>\n",
       "      <td>47</td>\n",
       "      <td>14999</td>\n",
       "    </tr>\n",
       "    <tr>\n",
       "      <th>2</th>\n",
       "      <td>2003</td>\n",
       "      <td>23</td>\n",
       "      <td>10786</td>\n",
       "      <td>NaN</td>\n",
       "      <td>NaN</td>\n",
       "      <td>2</td>\n",
       "      <td>176910.0</td>\n",
       "      <td>0</td>\n",
       "      <td>0</td>\n",
       "      <td>1</td>\n",
       "      <td>NaN</td>\n",
       "      <td>9</td>\n",
       "      <td>NaN</td>\n",
       "      <td>27</td>\n",
       "      <td>5995</td>\n",
       "    </tr>\n",
       "    <tr>\n",
       "      <th>3</th>\n",
       "      <td>2017</td>\n",
       "      <td>4</td>\n",
       "      <td>2061</td>\n",
       "      <td>0</td>\n",
       "      <td>NaN</td>\n",
       "      <td>2</td>\n",
       "      <td>41000.0</td>\n",
       "      <td>0</td>\n",
       "      <td>0</td>\n",
       "      <td>0</td>\n",
       "      <td>NaN</td>\n",
       "      <td>0</td>\n",
       "      <td>NaN</td>\n",
       "      <td>4</td>\n",
       "      <td>0</td>\n",
       "    </tr>\n",
       "    <tr>\n",
       "      <th>4</th>\n",
       "      <td>2008</td>\n",
       "      <td>38</td>\n",
       "      <td>18455</td>\n",
       "      <td>2</td>\n",
       "      <td>5</td>\n",
       "      <td>2</td>\n",
       "      <td>138900.0</td>\n",
       "      <td>0</td>\n",
       "      <td>0</td>\n",
       "      <td>0</td>\n",
       "      <td>1</td>\n",
       "      <td>0</td>\n",
       "      <td>9</td>\n",
       "      <td>38</td>\n",
       "      <td>7995</td>\n",
       "    </tr>\n",
       "  </tbody>\n",
       "</table>\n",
       "</div>"
      ],
      "text/plain": [
       "   year manufacturer  model condition cylinders fuel  odometer title_status  \\\n",
       "0  2007           18  15798         0       NaN    2  214740.0            0   \n",
       "1  2008            6  10830       NaN       NaN    2  170276.0            0   \n",
       "2  2003           23  10786       NaN       NaN    2  176910.0            0   \n",
       "3  2017            4   2061         0       NaN    2   41000.0            0   \n",
       "4  2008           38  18455         2         5    2  138900.0            0   \n",
       "\n",
       "  transmission drive size type paint_color state  price  \n",
       "0            0     2  NaN    9           0    10   7995  \n",
       "1            0   NaN  NaN    0           0    47  14999  \n",
       "2            0     1  NaN    9         NaN    27   5995  \n",
       "3            0     0  NaN    0         NaN     4      0  \n",
       "4            0     0    1    0           9    38   7995  "
      ]
     },
     "execution_count": 136,
     "metadata": {},
     "output_type": "execute_result"
    }
   ],
   "source": [
    "sample.head()"
   ]
  },
  {
   "cell_type": "markdown",
   "id": "60595870",
   "metadata": {},
   "source": [
    "Great that works !!!!!!!!!\n",
    "\n",
    "\n",
    "now we will impute train and test data with iterateve imputer "
   ]
  },
  {
   "cell_type": "code",
   "execution_count": 137,
   "id": "65f86d9a",
   "metadata": {},
   "outputs": [],
   "source": [
    "imputer = IterativeImputer(estimator=BayesianRidge())\n",
    "train_cat = train[cat_columns]\n",
    "test_cat = test[cat_columns]"
   ]
  },
  {
   "cell_type": "code",
   "execution_count": null,
   "id": "52e8b30e",
   "metadata": {
    "scrolled": true
   },
   "outputs": [],
   "source": []
  },
  {
   "cell_type": "code",
   "execution_count": 138,
   "id": "44e62ebd",
   "metadata": {},
   "outputs": [
    {
     "data": {
      "text/html": [
       "<div>\n",
       "<style scoped>\n",
       "    .dataframe tbody tr th:only-of-type {\n",
       "        vertical-align: middle;\n",
       "    }\n",
       "\n",
       "    .dataframe tbody tr th {\n",
       "        vertical-align: top;\n",
       "    }\n",
       "\n",
       "    .dataframe thead th {\n",
       "        text-align: right;\n",
       "    }\n",
       "</style>\n",
       "<table border=\"1\" class=\"dataframe\">\n",
       "  <thead>\n",
       "    <tr style=\"text-align: right;\">\n",
       "      <th></th>\n",
       "      <th>year</th>\n",
       "      <th>manufacturer</th>\n",
       "      <th>model</th>\n",
       "      <th>condition</th>\n",
       "      <th>cylinders</th>\n",
       "      <th>fuel</th>\n",
       "      <th>odometer</th>\n",
       "      <th>title_status</th>\n",
       "      <th>transmission</th>\n",
       "      <th>drive</th>\n",
       "      <th>size</th>\n",
       "      <th>type</th>\n",
       "      <th>paint_color</th>\n",
       "      <th>state</th>\n",
       "    </tr>\n",
       "  </thead>\n",
       "  <tbody>\n",
       "    <tr>\n",
       "      <th>0</th>\n",
       "      <td>2018</td>\n",
       "      <td>honda</td>\n",
       "      <td>civic</td>\n",
       "      <td>NaN</td>\n",
       "      <td>4 cylinders</td>\n",
       "      <td>gas</td>\n",
       "      <td>28898.0</td>\n",
       "      <td>clean</td>\n",
       "      <td>automatic</td>\n",
       "      <td>fwd</td>\n",
       "      <td>NaN</td>\n",
       "      <td>sedan</td>\n",
       "      <td>NaN</td>\n",
       "      <td>or</td>\n",
       "    </tr>\n",
       "    <tr>\n",
       "      <th>1</th>\n",
       "      <td>2017</td>\n",
       "      <td>cadillac</td>\n",
       "      <td>cts 2.0 luxury sedan 4d</td>\n",
       "      <td>good</td>\n",
       "      <td>NaN</td>\n",
       "      <td>gas</td>\n",
       "      <td>41147.0</td>\n",
       "      <td>clean</td>\n",
       "      <td>other</td>\n",
       "      <td>NaN</td>\n",
       "      <td>NaN</td>\n",
       "      <td>sedan</td>\n",
       "      <td>red</td>\n",
       "      <td>fl</td>\n",
       "    </tr>\n",
       "    <tr>\n",
       "      <th>2</th>\n",
       "      <td>2006</td>\n",
       "      <td>toyota</td>\n",
       "      <td>sienna</td>\n",
       "      <td>excellent</td>\n",
       "      <td>6 cylinders</td>\n",
       "      <td>gas</td>\n",
       "      <td>165500.0</td>\n",
       "      <td>clean</td>\n",
       "      <td>automatic</td>\n",
       "      <td>NaN</td>\n",
       "      <td>NaN</td>\n",
       "      <td>mini-van</td>\n",
       "      <td>grey</td>\n",
       "      <td>tx</td>\n",
       "    </tr>\n",
       "    <tr>\n",
       "      <th>3</th>\n",
       "      <td>2016</td>\n",
       "      <td>mitsubishi</td>\n",
       "      <td>outlander sel sport</td>\n",
       "      <td>good</td>\n",
       "      <td>NaN</td>\n",
       "      <td>other</td>\n",
       "      <td>29430.0</td>\n",
       "      <td>clean</td>\n",
       "      <td>other</td>\n",
       "      <td>NaN</td>\n",
       "      <td>NaN</td>\n",
       "      <td>SUV</td>\n",
       "      <td>white</td>\n",
       "      <td>wi</td>\n",
       "    </tr>\n",
       "    <tr>\n",
       "      <th>4</th>\n",
       "      <td>2017</td>\n",
       "      <td>audi</td>\n",
       "      <td>a6 3.0t premium plus sedan</td>\n",
       "      <td>good</td>\n",
       "      <td>6 cylinders</td>\n",
       "      <td>gas</td>\n",
       "      <td>24238.0</td>\n",
       "      <td>clean</td>\n",
       "      <td>automatic</td>\n",
       "      <td>NaN</td>\n",
       "      <td>NaN</td>\n",
       "      <td>sedan</td>\n",
       "      <td>white</td>\n",
       "      <td>pa</td>\n",
       "    </tr>\n",
       "    <tr>\n",
       "      <th>...</th>\n",
       "      <td>...</td>\n",
       "      <td>...</td>\n",
       "      <td>...</td>\n",
       "      <td>...</td>\n",
       "      <td>...</td>\n",
       "      <td>...</td>\n",
       "      <td>...</td>\n",
       "      <td>...</td>\n",
       "      <td>...</td>\n",
       "      <td>...</td>\n",
       "      <td>...</td>\n",
       "      <td>...</td>\n",
       "      <td>...</td>\n",
       "      <td>...</td>\n",
       "    </tr>\n",
       "    <tr>\n",
       "      <th>124336</th>\n",
       "      <td>2015</td>\n",
       "      <td>ram</td>\n",
       "      <td>3500</td>\n",
       "      <td>excellent</td>\n",
       "      <td>6 cylinders</td>\n",
       "      <td>diesel</td>\n",
       "      <td>123000.0</td>\n",
       "      <td>clean</td>\n",
       "      <td>automatic</td>\n",
       "      <td>rwd</td>\n",
       "      <td>NaN</td>\n",
       "      <td>NaN</td>\n",
       "      <td>white</td>\n",
       "      <td>mt</td>\n",
       "    </tr>\n",
       "    <tr>\n",
       "      <th>124337</th>\n",
       "      <td>2007</td>\n",
       "      <td>nissan</td>\n",
       "      <td>murano.awd</td>\n",
       "      <td>NaN</td>\n",
       "      <td>NaN</td>\n",
       "      <td>gas</td>\n",
       "      <td>150000.0</td>\n",
       "      <td>rebuilt</td>\n",
       "      <td>automatic</td>\n",
       "      <td>NaN</td>\n",
       "      <td>NaN</td>\n",
       "      <td>NaN</td>\n",
       "      <td>NaN</td>\n",
       "      <td>tx</td>\n",
       "    </tr>\n",
       "    <tr>\n",
       "      <th>124338</th>\n",
       "      <td>2015</td>\n",
       "      <td>dodge</td>\n",
       "      <td>dart sxt</td>\n",
       "      <td>excellent</td>\n",
       "      <td>4 cylinders</td>\n",
       "      <td>gas</td>\n",
       "      <td>90430.0</td>\n",
       "      <td>clean</td>\n",
       "      <td>automatic</td>\n",
       "      <td>fwd</td>\n",
       "      <td>NaN</td>\n",
       "      <td>NaN</td>\n",
       "      <td>white</td>\n",
       "      <td>oh</td>\n",
       "    </tr>\n",
       "    <tr>\n",
       "      <th>124339</th>\n",
       "      <td>2001</td>\n",
       "      <td>chevrolet</td>\n",
       "      <td>2500</td>\n",
       "      <td>NaN</td>\n",
       "      <td>NaN</td>\n",
       "      <td>gas</td>\n",
       "      <td>137000.0</td>\n",
       "      <td>clean</td>\n",
       "      <td>automatic</td>\n",
       "      <td>NaN</td>\n",
       "      <td>NaN</td>\n",
       "      <td>NaN</td>\n",
       "      <td>NaN</td>\n",
       "      <td>ny</td>\n",
       "    </tr>\n",
       "    <tr>\n",
       "      <th>124340</th>\n",
       "      <td>2019</td>\n",
       "      <td>bmw</td>\n",
       "      <td>x1 328i</td>\n",
       "      <td>excellent</td>\n",
       "      <td>4 cylinders</td>\n",
       "      <td>gas</td>\n",
       "      <td>11431.0</td>\n",
       "      <td>clean</td>\n",
       "      <td>automatic</td>\n",
       "      <td>fwd</td>\n",
       "      <td>mid-size</td>\n",
       "      <td>SUV</td>\n",
       "      <td>black</td>\n",
       "      <td>mi</td>\n",
       "    </tr>\n",
       "  </tbody>\n",
       "</table>\n",
       "<p>124341 rows × 14 columns</p>\n",
       "</div>"
      ],
      "text/plain": [
       "        year manufacturer                       model  condition    cylinders  \\\n",
       "0       2018        honda                       civic        NaN  4 cylinders   \n",
       "1       2017     cadillac     cts 2.0 luxury sedan 4d       good          NaN   \n",
       "2       2006       toyota                      sienna  excellent  6 cylinders   \n",
       "3       2016   mitsubishi         outlander sel sport       good          NaN   \n",
       "4       2017         audi  a6 3.0t premium plus sedan       good  6 cylinders   \n",
       "...      ...          ...                         ...        ...          ...   \n",
       "124336  2015          ram                        3500  excellent  6 cylinders   \n",
       "124337  2007       nissan                  murano.awd        NaN          NaN   \n",
       "124338  2015        dodge                    dart sxt  excellent  4 cylinders   \n",
       "124339  2001    chevrolet                        2500        NaN          NaN   \n",
       "124340  2019          bmw                     x1 328i  excellent  4 cylinders   \n",
       "\n",
       "          fuel  odometer title_status transmission drive      size      type  \\\n",
       "0          gas   28898.0        clean    automatic   fwd       NaN     sedan   \n",
       "1          gas   41147.0        clean        other   NaN       NaN     sedan   \n",
       "2          gas  165500.0        clean    automatic   NaN       NaN  mini-van   \n",
       "3        other   29430.0        clean        other   NaN       NaN       SUV   \n",
       "4          gas   24238.0        clean    automatic   NaN       NaN     sedan   \n",
       "...        ...       ...          ...          ...   ...       ...       ...   \n",
       "124336  diesel  123000.0        clean    automatic   rwd       NaN       NaN   \n",
       "124337     gas  150000.0      rebuilt    automatic   NaN       NaN       NaN   \n",
       "124338     gas   90430.0        clean    automatic   fwd       NaN       NaN   \n",
       "124339     gas  137000.0        clean    automatic   NaN       NaN       NaN   \n",
       "124340     gas   11431.0        clean    automatic   fwd  mid-size       SUV   \n",
       "\n",
       "       paint_color state  \n",
       "0              NaN    or  \n",
       "1              red    fl  \n",
       "2             grey    tx  \n",
       "3            white    wi  \n",
       "4            white    pa  \n",
       "...            ...   ...  \n",
       "124336       white    mt  \n",
       "124337         NaN    tx  \n",
       "124338       white    oh  \n",
       "124339         NaN    ny  \n",
       "124340       black    mi  \n",
       "\n",
       "[124341 rows x 14 columns]"
      ]
     },
     "execution_count": 138,
     "metadata": {},
     "output_type": "execute_result"
    }
   ],
   "source": [
    "test"
   ]
  },
  {
   "cell_type": "code",
   "execution_count": null,
   "id": "efd4858e",
   "metadata": {},
   "outputs": [],
   "source": []
  },
  {
   "cell_type": "code",
   "execution_count": 139,
   "id": "7f89942b",
   "metadata": {},
   "outputs": [],
   "source": [
    "for col in cat_columns:\n",
    "    encod(train_cat[col])\n",
    "    imputed_data = imputer.fit_transform(train_cat[col].values.reshape(-1,1))\n",
    "    imputed_data = imputed_data.astype('int64')\n",
    "    imputed_data = pd.DataFrame(imputed_data)\n",
    "    imputed_data = encoder.inverse_transform(imputed_data.values.reshape(-1,1))\n",
    "    train_cat[col] = imputed_data\n",
    "train[cat_columns]= train_cat"
   ]
  },
  {
   "cell_type": "code",
   "execution_count": 140,
   "id": "402b2abd",
   "metadata": {
    "scrolled": true
   },
   "outputs": [],
   "source": [
    "for col in cat_columns:\n",
    "    encod(test_cat[col])\n",
    "    imputed_data = imputer.fit_transform(test_cat[col].values.reshape(-1,1))\n",
    "    imputed_data = imputed_data.astype('int64')\n",
    "    imputed_data = pd.DataFrame(imputed_data)\n",
    "    imputed_data = encoder.inverse_transform(imputed_data.values.reshape(-1,1))\n",
    "    test_cat[col] = imputed_data\n",
    "test[cat_columns]= test_cat"
   ]
  },
  {
   "cell_type": "code",
   "execution_count": 141,
   "id": "d33d885e",
   "metadata": {},
   "outputs": [],
   "source": [
    "train.to_csv('final_train.csv',index=False)\n",
    "test.to_csv('final_test.csv',index = False)"
   ]
  },
  {
   "cell_type": "markdown",
   "id": "c3619b4c",
   "metadata": {},
   "source": [
    "### Prepare for modelling "
   ]
  },
  {
   "cell_type": "code",
   "execution_count": 142,
   "id": "111f5f3c",
   "metadata": {},
   "outputs": [],
   "source": [
    "train.drop(['model','condition','cylinders','title_status','drive','size','type',\n",
    "           'paint_color','state'],axis=1,inplace=True)\n",
    "\n",
    "test.drop(['model','condition','cylinders','title_status','drive','size','type',\n",
    "           'paint_color','state'],axis=1,inplace=True)"
   ]
  },
  {
   "cell_type": "code",
   "execution_count": 145,
   "id": "6934035b",
   "metadata": {},
   "outputs": [],
   "source": [
    "columns_dict ={'manufacturer':'Car_Name','year':'Year',\n",
    "              'odometer':'Kms_Driven','fuel':'Fuel_type','transmission':'Transmission'}"
   ]
  },
  {
   "cell_type": "code",
   "execution_count": 146,
   "id": "e11d0925",
   "metadata": {},
   "outputs": [],
   "source": [
    "train.rename(columns=columns_dict, inplace=True)\n",
    "test.rename(columns = columns_dict,inplace=True)"
   ]
  },
  {
   "cell_type": "code",
   "execution_count": 147,
   "id": "4e335648",
   "metadata": {},
   "outputs": [],
   "source": [
    "train.to_csv('model_train.csv',index=False)\n",
    "test.to_csv('model_test.csv',index = False)"
   ]
  },
  {
   "cell_type": "code",
   "execution_count": 148,
   "id": "5211cf81",
   "metadata": {},
   "outputs": [],
   "source": [
    "#import required libraries\n",
    "import pandas as pd\n",
    "import matplotlib.pyplot as plt\n",
    "%matplotlib inline\n",
    "import seaborn as sns\n",
    "from sklearn.model_selection import train_test_split\n",
    "from sklearn.preprocessing import StandardScaler\n",
    "from sklearn.linear_model import LinearRegression\n",
    "from sklearn import metrics\n",
    "\n"
   ]
  },
  {
   "cell_type": "code",
   "execution_count": 149,
   "id": "25f0b981",
   "metadata": {},
   "outputs": [
    {
     "data": {
      "text/html": [
       "<div>\n",
       "<style scoped>\n",
       "    .dataframe tbody tr th:only-of-type {\n",
       "        vertical-align: middle;\n",
       "    }\n",
       "\n",
       "    .dataframe tbody tr th {\n",
       "        vertical-align: top;\n",
       "    }\n",
       "\n",
       "    .dataframe thead th {\n",
       "        text-align: right;\n",
       "    }\n",
       "</style>\n",
       "<table border=\"1\" class=\"dataframe\">\n",
       "  <thead>\n",
       "    <tr style=\"text-align: right;\">\n",
       "      <th></th>\n",
       "      <th>Year</th>\n",
       "      <th>Car_Name</th>\n",
       "      <th>Fuel_type</th>\n",
       "      <th>Kms_Driven</th>\n",
       "      <th>Transmission</th>\n",
       "      <th>price</th>\n",
       "    </tr>\n",
       "  </thead>\n",
       "  <tbody>\n",
       "    <tr>\n",
       "      <th>0</th>\n",
       "      <td>2007</td>\n",
       "      <td>infiniti</td>\n",
       "      <td>gas</td>\n",
       "      <td>214740.0</td>\n",
       "      <td>automatic</td>\n",
       "      <td>7995</td>\n",
       "    </tr>\n",
       "    <tr>\n",
       "      <th>1</th>\n",
       "      <td>2008</td>\n",
       "      <td>cadillac</td>\n",
       "      <td>gas</td>\n",
       "      <td>170276.0</td>\n",
       "      <td>automatic</td>\n",
       "      <td>14999</td>\n",
       "    </tr>\n",
       "    <tr>\n",
       "      <th>2</th>\n",
       "      <td>2003</td>\n",
       "      <td>lexus</td>\n",
       "      <td>gas</td>\n",
       "      <td>176910.0</td>\n",
       "      <td>automatic</td>\n",
       "      <td>5995</td>\n",
       "    </tr>\n",
       "    <tr>\n",
       "      <th>3</th>\n",
       "      <td>2017</td>\n",
       "      <td>bmw</td>\n",
       "      <td>gas</td>\n",
       "      <td>41000.0</td>\n",
       "      <td>automatic</td>\n",
       "      <td>0</td>\n",
       "    </tr>\n",
       "    <tr>\n",
       "      <th>4</th>\n",
       "      <td>2008</td>\n",
       "      <td>toyota</td>\n",
       "      <td>gas</td>\n",
       "      <td>138900.0</td>\n",
       "      <td>automatic</td>\n",
       "      <td>7995</td>\n",
       "    </tr>\n",
       "  </tbody>\n",
       "</table>\n",
       "</div>"
      ],
      "text/plain": [
       "   Year  Car_Name Fuel_type  Kms_Driven Transmission  price\n",
       "0  2007  infiniti       gas    214740.0    automatic   7995\n",
       "1  2008  cadillac       gas    170276.0    automatic  14999\n",
       "2  2003     lexus       gas    176910.0    automatic   5995\n",
       "3  2017       bmw       gas     41000.0    automatic      0\n",
       "4  2008    toyota       gas    138900.0    automatic   7995"
      ]
     },
     "execution_count": 149,
     "metadata": {},
     "output_type": "execute_result"
    }
   ],
   "source": [
    "car_data = pd.read_csv('model_train.csv')\n",
    "\n",
    "car_data.head()\n",
    "\n"
   ]
  },
  {
   "cell_type": "code",
   "execution_count": 150,
   "id": "faf0b7bb",
   "metadata": {},
   "outputs": [
    {
     "name": "stdout",
     "output_type": "stream",
     "text": [
      "<class 'pandas.core.frame.DataFrame'>\n",
      "RangeIndex: 290129 entries, 0 to 290128\n",
      "Data columns (total 6 columns):\n",
      " #   Column        Non-Null Count   Dtype  \n",
      "---  ------        --------------   -----  \n",
      " 0   Year          290129 non-null  int64  \n",
      " 1   Car_Name      290129 non-null  object \n",
      " 2   Fuel_type     290129 non-null  object \n",
      " 3   Kms_Driven    290129 non-null  float64\n",
      " 4   Transmission  290129 non-null  object \n",
      " 5   price         290129 non-null  int64  \n",
      "dtypes: float64(1), int64(2), object(3)\n",
      "memory usage: 13.3+ MB\n"
     ]
    }
   ],
   "source": [
    "car_data.info()\n",
    "\n"
   ]
  },
  {
   "cell_type": "code",
   "execution_count": 151,
   "id": "f1b67847",
   "metadata": {},
   "outputs": [
    {
     "data": {
      "text/plain": [
       "Index(['Year', 'Car_Name', 'Fuel_type', 'Kms_Driven', 'Transmission', 'price'], dtype='object')"
      ]
     },
     "execution_count": 151,
     "metadata": {},
     "output_type": "execute_result"
    }
   ],
   "source": [
    "car_data.isnull().sum()\n",
    "\n",
    "car_data.describe()\n",
    "car_data.columns\n"
   ]
  },
  {
   "cell_type": "code",
   "execution_count": 152,
   "id": "fb093967",
   "metadata": {},
   "outputs": [
    {
     "name": "stdout",
     "output_type": "stream",
     "text": [
      "gas         244146\n",
      "other        20904\n",
      "diesel       20309\n",
      "hybrid        3607\n",
      "electric      1163\n",
      "Name: Fuel_type, dtype: int64\n",
      "automatic    229671\n",
      "other         43686\n",
      "manual        16772\n",
      "Name: Transmission, dtype: int64\n"
     ]
    }
   ],
   "source": [
    "print(car_data['Fuel_type'].value_counts())\n",
    "\n",
    "print(car_data['Transmission'].value_counts())\n",
    "fuel_type = car_data['Fuel_type']\n",
    "transmission_type = car_data['Transmission']\n",
    "selling_price = car_data['price']\n",
    "\n",
    "\n"
   ]
  },
  {
   "cell_type": "code",
   "execution_count": 153,
   "id": "d9f9e14d",
   "metadata": {},
   "outputs": [
    {
     "data": {
      "image/png": "[encoded data removed]",
      "text/plain": [
       "<Figure size 720x504 with 2 Axes>"
      ]
     },
     "metadata": {
      "needs_background": "light"
     },
     "output_type": "display_data"
    }
   ],
   "source": [
    "\n",
    "#manual encoding\n",
    "car_data.replace({'Fuel_type':{'gas':0, 'diesel':1, 'hybrid':2,'electric':3,'other':4}}, inplace=True)\n",
    "#one hot encoding\n",
    "car_data = pd.get_dummies(car_data, columns=[ 'Transmission'], drop_first=True)\n",
    "\n",
    "plt.figure(figsize=(10,7))\n",
    "sns.heatmap(car_data.corr(), annot=True)\n",
    "plt.title('Correlation between the columns')\n",
    "plt.show()\n",
    "\n"
   ]
  },
  {
   "cell_type": "code",
   "execution_count": 154,
   "id": "94fdb392",
   "metadata": {},
   "outputs": [
    {
     "name": "stdout",
     "output_type": "stream",
     "text": [
      "Shape of X is:  (290129, 5)\n",
      "Shape of y is:  (290129,)\n",
      "X_test shape: (87039, 5)\n",
      "X_train shape: (203090, 5)\n",
      "y_test shape:  (87039,)\n",
      "y_train shape: (203090,)\n"
     ]
    }
   ],
   "source": [
    "\n",
    "X = car_data.drop(['Car_Name','price'], axis=1)\n",
    "y = car_data['price']\n",
    "\n",
    "print(\"Shape of X is: \",X.shape)\n",
    "print(\"Shape of y is: \", y.shape)\n",
    "\n",
    "X_train, X_test, y_train, y_test = train_test_split(X,y, test_size=0.3, random_state=42)\n",
    "\n",
    "print(\"X_test shape:\", X_test.shape)\n",
    "print(\"X_train shape:\", X_train.shape)\n",
    "print(\"y_test shape: \", y_test.shape)\n",
    "print(\"y_train shape:\", y_train.shape)\n",
    "\n"
   ]
  },
  {
   "cell_type": "code",
   "execution_count": 155,
   "id": "2d790eb4",
   "metadata": {},
   "outputs": [
    {
     "name": "stdout",
     "output_type": "stream",
     "text": [
      "MAE:  99794.68369533839\n",
      "MSE:  200966792661503.78\n",
      "R2 score:  -570538.755303893\n"
     ]
    },
    {
     "data": {
      "image/png": "[encoded data removed]",
      "text/plain": [
       "<Figure size 432x288 with 1 Axes>"
      ]
     },
     "metadata": {
      "needs_background": "light"
     },
     "output_type": "display_data"
    }
   ],
   "source": [
    "scaler = StandardScaler()\n",
    "\n",
    "X_train = scaler.fit_transform(X_train)\n",
    "X_test = scaler.transform(X_test)\n",
    "\n",
    "model = LinearRegression()\n",
    "\n",
    "model.fit(X_train, y_train)\n",
    "\n",
    "pred = model.predict(X_test)\n",
    "\n",
    "from sklearn.metrics import mean_absolute_error, mean_squared_error, r2_score\n",
    "\n",
    "print(\"MAE: \", (metrics.mean_absolute_error(pred, y_test)))\n",
    "print(\"MSE: \", (metrics.mean_squared_error(pred, y_test)))\n",
    "print(\"R2 score: \", (metrics.r2_score(pred, y_test)))\n",
    "\n",
    "sns.regplot(x=pred, y=y_test)\n",
    "plt.xlabel(\"Predicted Price\")\n",
    "plt.ylabel('Actual Price')\n",
    "plt.title(\"ACtual vs predicted price\")\n",
    "plt.show()"
   ]
  },
  {
   "cell_type": "code",
   "execution_count": 157,
   "id": "4693b15f",
   "metadata": {},
   "outputs": [],
   "source": [
    "test = pd.read_csv('model_test.csv')"
   ]
  },
  {
   "cell_type": "code",
   "execution_count": 158,
   "id": "879f31bf",
   "metadata": {},
   "outputs": [],
   "source": [
    "test.replace({'Fuel_type':{'gas':0, 'diesel':1, 'hybrid':2,'electric':3,'other':4}}, inplace=True)\n",
    "#one hot encoding\n",
    "test = pd.get_dummies(test, columns=[ 'Transmission'], drop_first=True)"
   ]
  },
  {
   "cell_type": "code",
   "execution_count": 159,
   "id": "c89118ca",
   "metadata": {},
   "outputs": [],
   "source": [
    "test.drop(['Car_Name'],axis=1,inplace=True)"
   ]
  },
  {
   "cell_type": "code",
   "execution_count": 160,
   "id": "5ba9ac79",
   "metadata": {},
   "outputs": [],
   "source": [
    "test = scaler.transform(test)"
   ]
  },
  {
   "cell_type": "code",
   "execution_count": 161,
   "id": "c0039960",
   "metadata": {},
   "outputs": [],
   "source": [
    "target = model.predict(test)"
   ]
  },
  {
   "cell_type": "code",
   "execution_count": 162,
   "id": "7f64307e",
   "metadata": {},
   "outputs": [],
   "source": [
    "id_test = pd.read_csv('test.csv')\n",
    "id_test = id_test['id']"
   ]
  },
  {
   "cell_type": "code",
   "execution_count": 163,
   "id": "60ceab9b",
   "metadata": {},
   "outputs": [],
   "source": [
    "submission = pd.DataFrame({'id':id_test,'Target':target},columns=['id','Target'])"
   ]
  },
  {
   "cell_type": "code",
   "execution_count": 164,
   "id": "20019b82",
   "metadata": {},
   "outputs": [],
   "source": [
    "submission.to_csv('submit.csv',index=False)"
   ]
  },
  {
   "cell_type": "code",
   "execution_count": null,
   "id": "2ec45d0b",
   "metadata": {},
   "outputs": [],
   "source": []
  }
 ],
 "metadata": {
  "kernelspec": {
   "display_name": "Python 3 (ipykernel)",
   "language": "python",
   "name": "python3"
  },
  "language_info": {
   "codemirror_mode": {
    "name": "ipython",
    "version": 3
   },
   "file_extension": ".py",
   "mimetype": "text/x-python",
   "name": "python",
   "nbconvert_exporter": "python",
   "pygments_lexer": "ipython3",
   "version": "3.9.12"
  }
 },
 "nbformat": 4,
 "nbformat_minor": 5
}
