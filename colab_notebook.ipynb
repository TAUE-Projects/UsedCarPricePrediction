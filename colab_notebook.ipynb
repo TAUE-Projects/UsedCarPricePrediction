{
  "cells": [
    {
      "cell_type": "code",
      "execution_count": 2,
      "metadata": {
        "id": "mMfmRLTbjQ46"
      },
      "outputs": [],
      "source": [
        "import numpy as np\n",
        "import pandas as pd\n",
        "import matplotlib.pyplot as plt\n",
        "import seaborn as sns\n",
        "import re\n",
        "import string\n",
        "%matplotlib inline"
      ]
    },
    {
      "cell_type": "code",
      "source": [
        "from google.colab import drive\n",
        "drive.mount('/content/drive')"
      ],
      "metadata": {
        "colab": {
          "base_uri": "https://localhost:8080/"
        },
        "id": "0bdDfT3qm7ad",
        "outputId": "4e09db6b-0f2f-43ac-aff5-6dbd29ff9995"
      },
      "execution_count": 3,
      "outputs": [
        {
          "output_type": "stream",
          "name": "stdout",
          "text": [
            "Mounted at /content/drive\n"
          ]
        }
      ]
    },
    {
      "cell_type": "code",
      "execution_count": 4,
      "metadata": {
        "id": "V8oi1hrgjQ49"
      },
      "outputs": [],
      "source": [
        "test= pd.read_csv('/content/drive/MyDrive/DataSets/Usedcar price /test.csv')\n",
        "train = pd.read_csv('/content/drive/MyDrive/DataSets/Usedcar price /train.csv')"
      ]
    },
    {
      "cell_type": "code",
      "execution_count": 5,
      "metadata": {
        "colab": {
          "base_uri": "https://localhost:8080/"
        },
        "id": "BEOyT4edjQ49",
        "outputId": "b9835386-385e-47c8-bf3b-0f7c6a723e36"
      },
      "outputs": [
        {
          "output_type": "stream",
          "name": "stdout",
          "text": [
            "(290129, 20) (124341, 19)\n"
          ]
        }
      ],
      "source": [
        "print(train.shape,test.shape)"
      ]
    },
    {
      "cell_type": "code",
      "execution_count": null,
      "metadata": {
        "id": "hzTOXwa6jQ4-",
        "outputId": "f9184c41-6cc4-4ad8-e20a-e2ba6a3f9a3b"
      },
      "outputs": [
        {
          "data": {
            "text/html": [
              "<div>\n",
              "<style scoped>\n",
              "    .dataframe tbody tr th:only-of-type {\n",
              "        vertical-align: middle;\n",
              "    }\n",
              "\n",
              "    .dataframe tbody tr th {\n",
              "        vertical-align: top;\n",
              "    }\n",
              "\n",
              "    .dataframe thead th {\n",
              "        text-align: right;\n",
              "    }\n",
              "</style>\n",
              "<table border=\"1\" class=\"dataframe\">\n",
              "  <thead>\n",
              "    <tr style=\"text-align: right;\">\n",
              "      <th></th>\n",
              "      <th>Unnamed: 0</th>\n",
              "      <th>id</th>\n",
              "      <th>year</th>\n",
              "      <th>manufacturer</th>\n",
              "      <th>model</th>\n",
              "      <th>condition</th>\n",
              "      <th>cylinders</th>\n",
              "      <th>fuel</th>\n",
              "      <th>odometer</th>\n",
              "      <th>title_status</th>\n",
              "      <th>transmission</th>\n",
              "      <th>drive</th>\n",
              "      <th>size</th>\n",
              "      <th>type</th>\n",
              "      <th>paint_color</th>\n",
              "      <th>state</th>\n",
              "      <th>lat</th>\n",
              "      <th>long</th>\n",
              "      <th>posting_date</th>\n",
              "      <th>price</th>\n",
              "    </tr>\n",
              "  </thead>\n",
              "  <tbody>\n",
              "    <tr>\n",
              "      <th>0</th>\n",
              "      <td>121610</td>\n",
              "      <td>7309831550</td>\n",
              "      <td>2007.0</td>\n",
              "      <td>infiniti</td>\n",
              "      <td>m45</td>\n",
              "      <td>excellent</td>\n",
              "      <td>NaN</td>\n",
              "      <td>gas</td>\n",
              "      <td>214740.0</td>\n",
              "      <td>clean</td>\n",
              "      <td>automatic</td>\n",
              "      <td>rwd</td>\n",
              "      <td>NaN</td>\n",
              "      <td>sedan</td>\n",
              "      <td>black</td>\n",
              "      <td>ga</td>\n",
              "      <td>34.139588</td>\n",
              "      <td>-83.971135</td>\n",
              "      <td>2021-04-20T11:46:13-0400</td>\n",
              "      <td>7995</td>\n",
              "    </tr>\n",
              "    <tr>\n",
              "      <th>1</th>\n",
              "      <td>395646</td>\n",
              "      <td>7317007429</td>\n",
              "      <td>2008.0</td>\n",
              "      <td>cadillac</td>\n",
              "      <td>escalade</td>\n",
              "      <td>NaN</td>\n",
              "      <td>NaN</td>\n",
              "      <td>gas</td>\n",
              "      <td>170276.0</td>\n",
              "      <td>clean</td>\n",
              "      <td>automatic</td>\n",
              "      <td>NaN</td>\n",
              "      <td>NaN</td>\n",
              "      <td>SUV</td>\n",
              "      <td>black</td>\n",
              "      <td>wa</td>\n",
              "      <td>47.756950</td>\n",
              "      <td>-122.212230</td>\n",
              "      <td>2021-05-04T16:16:32-0700</td>\n",
              "      <td>14999</td>\n",
              "    </tr>\n",
              "    <tr>\n",
              "      <th>2</th>\n",
              "      <td>236366</td>\n",
              "      <td>7309202024</td>\n",
              "      <td>2003.0</td>\n",
              "      <td>lexus</td>\n",
              "      <td>es</td>\n",
              "      <td>NaN</td>\n",
              "      <td>NaN</td>\n",
              "      <td>gas</td>\n",
              "      <td>176910.0</td>\n",
              "      <td>clean</td>\n",
              "      <td>automatic</td>\n",
              "      <td>fwd</td>\n",
              "      <td>NaN</td>\n",
              "      <td>sedan</td>\n",
              "      <td>NaN</td>\n",
              "      <td>nc</td>\n",
              "      <td>34.209703</td>\n",
              "      <td>-77.843995</td>\n",
              "      <td>2021-04-19T10:07:58-0400</td>\n",
              "      <td>5995</td>\n",
              "    </tr>\n",
              "    <tr>\n",
              "      <th>3</th>\n",
              "      <td>66001</td>\n",
              "      <td>7306341714</td>\n",
              "      <td>2017.0</td>\n",
              "      <td>bmw</td>\n",
              "      <td>320i</td>\n",
              "      <td>excellent</td>\n",
              "      <td>NaN</td>\n",
              "      <td>gas</td>\n",
              "      <td>41000.0</td>\n",
              "      <td>clean</td>\n",
              "      <td>automatic</td>\n",
              "      <td>4wd</td>\n",
              "      <td>NaN</td>\n",
              "      <td>SUV</td>\n",
              "      <td>NaN</td>\n",
              "      <td>ca</td>\n",
              "      <td>33.811000</td>\n",
              "      <td>-117.849300</td>\n",
              "      <td>2021-04-13T13:05:06-0700</td>\n",
              "      <td>0</td>\n",
              "    </tr>\n",
              "    <tr>\n",
              "      <th>4</th>\n",
              "      <td>320855</td>\n",
              "      <td>7307880118</td>\n",
              "      <td>2008.0</td>\n",
              "      <td>toyota</td>\n",
              "      <td>rav4</td>\n",
              "      <td>good</td>\n",
              "      <td>6 cylinders</td>\n",
              "      <td>gas</td>\n",
              "      <td>138900.0</td>\n",
              "      <td>clean</td>\n",
              "      <td>automatic</td>\n",
              "      <td>4wd</td>\n",
              "      <td>full-size</td>\n",
              "      <td>SUV</td>\n",
              "      <td>silver</td>\n",
              "      <td>pa</td>\n",
              "      <td>40.143550</td>\n",
              "      <td>-76.597071</td>\n",
              "      <td>2021-04-16T15:22:02-0400</td>\n",
              "      <td>7995</td>\n",
              "    </tr>\n",
              "  </tbody>\n",
              "</table>\n",
              "</div>"
            ],
            "text/plain": [
              "   Unnamed: 0          id    year manufacturer     model  condition  \\\n",
              "0      121610  7309831550  2007.0     infiniti       m45  excellent   \n",
              "1      395646  7317007429  2008.0     cadillac  escalade        NaN   \n",
              "2      236366  7309202024  2003.0        lexus        es        NaN   \n",
              "3       66001  7306341714  2017.0          bmw      320i  excellent   \n",
              "4      320855  7307880118  2008.0       toyota      rav4       good   \n",
              "\n",
              "     cylinders fuel  odometer title_status transmission drive       size  \\\n",
              "0          NaN  gas  214740.0        clean    automatic   rwd        NaN   \n",
              "1          NaN  gas  170276.0        clean    automatic   NaN        NaN   \n",
              "2          NaN  gas  176910.0        clean    automatic   fwd        NaN   \n",
              "3          NaN  gas   41000.0        clean    automatic   4wd        NaN   \n",
              "4  6 cylinders  gas  138900.0        clean    automatic   4wd  full-size   \n",
              "\n",
              "    type paint_color state        lat        long              posting_date  \\\n",
              "0  sedan       black    ga  34.139588  -83.971135  2021-04-20T11:46:13-0400   \n",
              "1    SUV       black    wa  47.756950 -122.212230  2021-05-04T16:16:32-0700   \n",
              "2  sedan         NaN    nc  34.209703  -77.843995  2021-04-19T10:07:58-0400   \n",
              "3    SUV         NaN    ca  33.811000 -117.849300  2021-04-13T13:05:06-0700   \n",
              "4    SUV      silver    pa  40.143550  -76.597071  2021-04-16T15:22:02-0400   \n",
              "\n",
              "   price  \n",
              "0   7995  \n",
              "1  14999  \n",
              "2   5995  \n",
              "3      0  \n",
              "4   7995  "
            ]
          },
          "execution_count": 153,
          "metadata": {},
          "output_type": "execute_result"
        }
      ],
      "source": [
        "train.head()"
      ]
    },
    {
      "cell_type": "code",
      "execution_count": null,
      "metadata": {
        "id": "m8l_mVbyjQ4_",
        "outputId": "59c65eba-107d-41d9-f629-f1770d0edf1a"
      },
      "outputs": [
        {
          "name": "stdout",
          "output_type": "stream",
          "text": [
            "<class 'pandas.core.frame.DataFrame'>\n",
            "RangeIndex: 290129 entries, 0 to 290128\n",
            "Data columns (total 20 columns):\n",
            " #   Column        Non-Null Count   Dtype  \n",
            "---  ------        --------------   -----  \n",
            " 0   Unnamed: 0    290129 non-null  int64  \n",
            " 1   id            290129 non-null  int64  \n",
            " 2   year          290129 non-null  float64\n",
            " 3   manufacturer  278787 non-null  object \n",
            " 4   model         290129 non-null  object \n",
            " 5   condition     174025 non-null  object \n",
            " 6   cylinders     170829 non-null  object \n",
            " 7   fuel          288676 non-null  object \n",
            " 8   odometer      290129 non-null  float64\n",
            " 9   title_status  285063 non-null  object \n",
            " 10  transmission  290129 non-null  object \n",
            " 11  drive         202042 non-null  object \n",
            " 12  size          82445 non-null   object \n",
            " 13  type          227533 non-null  object \n",
            " 14  paint_color   203016 non-null  object \n",
            " 15  state         290129 non-null  object \n",
            " 16  lat           285726 non-null  float64\n",
            " 17  long          285726 non-null  float64\n",
            " 18  posting_date  290129 non-null  object \n",
            " 19  price         290129 non-null  int64  \n",
            "dtypes: float64(4), int64(3), object(13)\n",
            "memory usage: 44.3+ MB\n"
          ]
        }
      ],
      "source": [
        "train.info()"
      ]
    },
    {
      "cell_type": "code",
      "execution_count": 5,
      "metadata": {
        "id": "x3o5ojXvjQ4_"
      },
      "outputs": [],
      "source": [
        "train.drop(['Unnamed: 0'],axis=1,inplace=True)\n",
        "test.drop(['Unnamed: 0'],axis = 1, inplace = True )\n"
      ]
    },
    {
      "cell_type": "markdown",
      "metadata": {
        "id": "n3ZqhKygjQ5A"
      },
      "source": [
        "### Let's talk about the data\n",
        "\n",
        "we can see that we have alot off null values in this data we want to handle.\n",
        "\n",
        "Now we want to explain every column represent what !"
      ]
    },
    {
      "cell_type": "markdown",
      "metadata": {
        "id": "xT0HAz2djQ5B"
      },
      "source": [
        "* ID: An identification number or code assigned to each car listing in the dataset. It is a unique identifier that distinguishes one listing from another.\n",
        "\n",
        "* Price:The price of the used car listed for sale. It represents the asking price set by the seller.\n",
        "\n",
        "* Year:The year of manufacture or production of the vehicle. It indicates the age of the car.\n",
        "\n",
        "* Manufacturer: The brand or manufacturer of the car, such as Toyota, Honda, Ford, etc.\n",
        "\n",
        "* Model: The specific model or variant of the car, such as Camry, Civic, Mustang, etc.\n",
        "\n",
        "* Condition:Describes the condition of the car, which can range from new to excellent, good, fair, or salvage. It provides an indication of the overall state of the vehicle.(ordianl)\n",
        "\n",
        "* Cylinders: The number of cylinders in the car's engine. It indicates the engine's configuration and affects the performance of the vehicle.\n",
        "\n",
        "* Fuel:The type of fuel used by the car, such as gasoline, diesel, electric, hybrid, or other alternative fuels.\n",
        "\n",
        "* Odometer: The recorded mileage or distance traveled by the vehicle. It gives an indication of the car's usage and can influence its value.\n",
        "\n",
        "* Title Status: Refers to the status of the car's title or ownership documents, such as clean, salvage, rebuilt, or lien. It provides information about the legal status of the vehicle.\n",
        "\n",
        "* Transmission:Specifies the type of transmission system in the car, such as manual, automatic, or continuously variable transmission (CVT).\n",
        "\n",
        "* Drive: Indicates the drivetrain configuration of the vehicle, such as front-wheel drive (FWD), rear-wheel drive (RWD), all-wheel drive (AWD), or four-wheel drive (4WD).\n",
        "\n",
        "* Size: Describes the size or class of the car, such as compact, mid-size, full-size, SUV, truck, etc.\n",
        "\n",
        "* Type: Refers to the body type or style of the car, such as sedan, coupe, hatchback, SUV, truck, convertible, etc.\n",
        "\n",
        "* Paint Color: Specifies the exterior color of the car, such as black, white, red, blue, etc.\n",
        "\n",
        "* State:Indicates the state or location where the car is listed for sale.\n",
        "\n",
        "* Latitude (Lat) and Longitude (Long): The geographical coordinates of the location where the car is listed. It allows for mapping and geospatial analysis.\n",
        "\n",
        "* Posting Date: The date and time when the car listing was posted or made available for sale.\n",
        "\n",
        "These fields provide a comprehensive set of information about used cars, enabling various analyses and insights into the market dynamics, pricing trends, vehicle characteristics, and buyer preferences"
      ]
    },
    {
      "cell_type": "markdown",
      "metadata": {
        "id": "Xt_D4MjFjQ5C"
      },
      "source": [
        "# EDA\n",
        "\n",
        "\n",
        "## Data Cleaning"
      ]
    },
    {
      "cell_type": "code",
      "execution_count": 10,
      "metadata": {
        "colab": {
          "base_uri": "https://localhost:8080/",
          "height": 918
        },
        "id": "l1u6UFNxjQ5D",
        "outputId": "dd87f577-6997-4aa6-ec5c-c947b2586f2a"
      },
      "outputs": [
        {
          "output_type": "display_data",
          "data": {
            "text/plain": [
              "<Figure size 1500x1000 with 2 Axes>"
            ],
            "image/png": "[encoded data removed]"
          },
          "metadata": {}
        }
      ],
      "source": [
        "# check null values\n",
        "plt.figure(figsize=(15,10))\n",
        "sns.heatmap(train.isnull())\n",
        "plt.show()"
      ]
    },
    {
      "cell_type": "code",
      "execution_count": 6,
      "metadata": {
        "colab": {
          "base_uri": "https://localhost:8080/"
        },
        "id": "r6ELct6SjQ5E",
        "outputId": "bc4bfd49-4571-42d1-9a3e-368100ee1da1"
      },
      "outputs": [
        {
          "output_type": "stream",
          "name": "stdout",
          "text": [
            "train duplicated data 0\n",
            "test duplicated data 0\n"
          ]
        }
      ],
      "source": [
        "# check for duplicates without id column for train and test data\n",
        "# in this case we just consider data with same id and same infromation as duplicated data.\n",
        "print('train duplicated data',train.duplicated().sum())\n",
        "\n",
        "print('test duplicated data',test.duplicated().sum())"
      ]
    },
    {
      "cell_type": "code",
      "execution_count": 11,
      "metadata": {
        "id": "8gATFHRWjQ5E"
      },
      "outputs": [],
      "source": []
    },
    {
      "cell_type": "code",
      "execution_count": 12,
      "metadata": {
        "colab": {
          "base_uri": "https://localhost:8080/"
        },
        "id": "aT6KuMUWjQ5F",
        "outputId": "541a531f-cdf6-4fae-b32a-0166446962db"
      },
      "outputs": [
        {
          "output_type": "execute_result",
          "data": {
            "text/plain": [
              "id                   0\n",
              "year                 0\n",
              "manufacturer     11342\n",
              "model                0\n",
              "condition       116104\n",
              "cylinders       119300\n",
              "fuel              1453\n",
              "odometer             0\n",
              "title_status      5066\n",
              "transmission         0\n",
              "drive            88087\n",
              "size            207684\n",
              "type             62596\n",
              "paint_color      87113\n",
              "state                0\n",
              "lat               4403\n",
              "long              4403\n",
              "posting_date         0\n",
              "price                0\n",
              "dtype: int64"
            ]
          },
          "metadata": {},
          "execution_count": 12
        }
      ],
      "source": [
        "# we can see that we have alot off null values in this data\n",
        "# this is hard but we wanna to do it\n",
        "train.isna().sum()"
      ]
    },
    {
      "cell_type": "code",
      "source": [
        "# split the data to X and y\n",
        "X = train.drop(['price'],axis=1)\n",
        "y = train['price']"
      ],
      "metadata": {
        "id": "mO0KRlbj7s5v"
      },
      "execution_count": 53,
      "outputs": []
    },
    {
      "cell_type": "markdown",
      "metadata": {
        "id": "QruEK75KjQ5F"
      },
      "source": [
        "### fill manufacturer column\n"
      ]
    },
    {
      "cell_type": "code",
      "execution_count": 59,
      "metadata": {
        "id": "VQZ_QiudjQ5F"
      },
      "outputs": [],
      "source": [
        "# define list with the most manufacture appears in real life\n",
        "\n",
        "manufacturer_list = [\n",
        "    'toyota', 'volkswagen', 'gm', 'hyundai', 'ford', 'honda', 'nissan', 'bmw', 'fca', 'daimler',\n",
        "    'subaru', 'mazda', 'renault', 'tata', 'geely', 'kia', 'suzuki', 'volvo', 'peugeot', 'mitsubishi',\n",
        "    'greatwall', 'saic', 'changan', 'byd', 'proton', 'mahindra', 'isuzu', 'astonmartin', 'lotus', 'jeep',\n",
        "    'ram', 'lexus', 'audi', 'cadillac', 'chrysler', 'acura', 'buick', 'infiniti', 'mini', 'pontiac', 'jaguar',\n",
        "    'rover', 'porsche', 'mercury', 'saturn', 'alfa-romeo', 'tesla', 'harley-davidson', 'ferrari', 'datsun',\n",
        "    'landrover', 'haval', 'brilliance', 'gac', 'jac', 'saipa', 'byton', 'lucid', 'rimac', 'polestar', 'xiaopeng', 'lynkco',\n",
        "    'nissho', 'iveco', 'baic', 'bellier', 'jmc', 'gaz', 'gwm', 'gacmotor', 'baw', 'chery', 'sceo',\n",
        "    'bugatti', 'lincoln', 'bentley', 'lamborghini', 'astonmartin', 'rollsroyce', 'maybach', 'pagani',\n",
        "    'koenigsegg', 'spyker', 'hennessey', 'ariel', 'vector','chevrolet', 'mercedes-benz']\n"
      ]
    },
    {
      "cell_type": "code",
      "execution_count": 60,
      "metadata": {
        "id": "_EP6Ea_ajQ5G"
      },
      "outputs": [],
      "source": [
        "# some manuall catching for some model and it's manufacture\n",
        "custom_dict = {'hino':'toyota','freightliner':'freightliner','scion':'toyota','smart':'mercedes-benz','hummar':'gm'}"
      ]
    },
    {
      "cell_type": "code",
      "execution_count": 61,
      "metadata": {
        "id": "Ht2r_6EnjQ5G"
      },
      "outputs": [],
      "source": [
        "# function to clean text and get good results\n",
        "def clean_text(text):\n",
        "    if len(text)> 1 :\n",
        "        text = text.lower()\n",
        "\n",
        "        if all(char in string.punctuation or char.isspace() for char in text):\n",
        "            return \"special\"\n",
        "        #keep a-z character\n",
        "        text = re.sub(r'[^a-zA-Z\\s\\d]', ' ', text)\n",
        "\n",
        "        # Remove extra white spaces\n",
        "        text = ' '.join(text.split())\n",
        "\n",
        "        return str(text)\n",
        "    else :\n",
        "        return (text)\n"
      ]
    },
    {
      "cell_type": "code",
      "execution_count": 62,
      "metadata": {
        "id": "YsbbessTjQ5H"
      },
      "outputs": [],
      "source": [
        "# filling approach\n",
        "# if element from manufacturer list appears in the model set manufacturer with that name\n",
        "# else if any catches that i made appears, fill with that catch\n",
        "# else fill the manufacturer the first words of the model (we don't have null values in model column)\n",
        "# filling approach\n",
        "# if element from manufacturer list appears in the model set manufacturer with that name\n",
        "# else if any catches that i made appears, fill with that catch\n",
        "# else fill the manufacturer the first words of the model (we don't have null values in model column)\n",
        "def fill_manu(ma_list, cu_list, df):\n",
        "    model = clean_text(df.model)\n",
        "    manufacturer = df['manufacturer']\n",
        "\n",
        "    if pd.notnull(manufacturer):\n",
        "        return manufacturer\n",
        "\n",
        "    brand = model.split()[0]\n",
        "\n",
        "    if brand in cu_list:\n",
        "        return custom_dict[brand]\n",
        "\n",
        "    for word in model.split():\n",
        "        if word in ma_list:\n",
        "            return word\n",
        "\n",
        "    return brand\n"
      ]
    },
    {
      "cell_type": "code",
      "execution_count": 63,
      "metadata": {
        "id": "1MfhP7AfjQ5H"
      },
      "outputs": [],
      "source": [
        "X['manufacturer'] = X.apply(lambda row : fill_manu(manufacturer_list,custom_dict,row),axis=1)"
      ]
    },
    {
      "cell_type": "markdown",
      "source": [
        "I will encode manufacture and model column by frequecy encoding\n",
        "\n"
      ],
      "metadata": {
        "id": "ir8b5y0opCfi"
      }
    },
    {
      "cell_type": "code",
      "source": [
        "def frequency_encoding(df, columns):\n",
        "    for col in columns:\n",
        "        freq_counts = df[col].value_counts(normalize=True).to_dict()\n",
        "        df[col] = df[col].map(freq_counts)\n",
        "    return df\n",
        "\n",
        "# Example usage:\n",
        "# Assuming 'df' is your DataFrame, and 'cols_to_encode' is a list of column names to be frequency encoded.\n",
        "cols_to_encode = ['manufacturer', 'model','state']\n",
        "X_encoded = frequency_encoding(X, cols_to_encode)\n"
      ],
      "metadata": {
        "id": "W0rZnRpCN4ul"
      },
      "execution_count": 98,
      "outputs": []
    },
    {
      "cell_type": "markdown",
      "metadata": {
        "id": "hIEhKRhjjQ5I"
      },
      "source": [
        "## Cylinders Column\n",
        "\n",
        "\n",
        "filling approach :-\n",
        "\n",
        "* if the fuel type is electric then fill the cylinders with 0\n",
        "\n",
        "* else find the nearies nighbor and fill with it"
      ]
    },
    {
      "cell_type": "code",
      "execution_count": 54,
      "metadata": {
        "colab": {
          "base_uri": "https://localhost:8080/"
        },
        "id": "oRcIDB3DjQ5I",
        "outputId": "7546a837-9343-4928-d05b-2a29a44c0e92"
      },
      "outputs": [
        {
          "output_type": "execute_result",
          "data": {
            "text/plain": [
              "0         NaN\n",
              "1         NaN\n",
              "2         NaN\n",
              "3         NaN\n",
              "4         6.0\n",
              "         ... \n",
              "290124    NaN\n",
              "290125    4.0\n",
              "290126    4.0\n",
              "290127    6.0\n",
              "290128    8.0\n",
              "Name: cylinders, Length: 290129, dtype: float64"
            ]
          },
          "metadata": {},
          "execution_count": 54
        }
      ],
      "source": [
        "# extract the number of cylender from the data and change it to numerical (float because of null values)\n",
        "\n",
        "X['cylinders'] = X['cylinders'].str.extract(r'(\\d+)')\n",
        "\n",
        "X['cylinders'].astype('float')"
      ]
    },
    {
      "cell_type": "code",
      "source": [
        "def fill_cylinders(df):\n",
        "    # Create a copy of the DataFrame to avoid modifying the original data\n",
        "    df_filled = df.copy()\n",
        "\n",
        "    # Subset the DataFrame for KNN imputation, including only the rows with missing 'cylinders' values\n",
        "    df_missing_cylinders = df_filled[df_filled['cylinders'].isnull()]\n",
        "\n",
        "    # Convert 'electric' fuel to 0 cylinders for missing values\n",
        "    df_missing_cylinders.loc[df_missing_cylinders['fuel'] == 'electric', 'cylinders'] = 0\n",
        "\n",
        "    if not df_missing_cylinders.empty:\n",
        "        # Create a KNNImputer object with k=1 (1 nearest neighbor)\n",
        "        knn_imputer = KNNImputer(n_neighbors=3)\n",
        "\n",
        "        # Perform KNN imputation on the selected features\n",
        "        features_for_imputation = df_missing_cylinders[['cylinders','manufacturer', 'model']]\n",
        "        imputed_features = knn_imputer.fit_transform(features_for_imputation)\n",
        "\n",
        "\n",
        "        imputed_features = np.round(imputed_features).astype(int)\n",
        "\n",
        "\n",
        "        # Update the 'cylinders' column with the imputed values\n",
        "        df_missing_cylinders['cylinders'] = imputed_features[:, 1]\n",
        "\n",
        "        # Merge the imputed data back into the original DataFrame\n",
        "        df_filled.update(df_missing_cylinders)\n",
        "\n",
        "    return df_filled"
      ],
      "metadata": {
        "id": "_W2U_HNpHFbI"
      },
      "execution_count": 80,
      "outputs": []
    },
    {
      "cell_type": "code",
      "source": [
        "filled = fill_cylinders(X_encoded)"
      ],
      "metadata": {
        "id": "qoleQT1SPH4Z"
      },
      "execution_count": 86,
      "outputs": []
    },
    {
      "cell_type": "code",
      "execution_count": 87,
      "metadata": {
        "id": "IWT_iA8RjQ5J"
      },
      "outputs": [],
      "source": [
        "X_encoded['cylinders'] = filled['cylinders']"
      ]
    },
    {
      "cell_type": "code",
      "source": [
        "X_encoded.cylinders.isna().sum()"
      ],
      "metadata": {
        "colab": {
          "base_uri": "https://localhost:8080/"
        },
        "id": "c0aezbaS2NDN",
        "outputId": "dc78ecc8-f063-4da8-ace7-a704636e4d5c"
      },
      "execution_count": 88,
      "outputs": [
        {
          "output_type": "execute_result",
          "data": {
            "text/plain": [
              "0"
            ]
          },
          "metadata": {},
          "execution_count": 88
        }
      ]
    },
    {
      "cell_type": "code",
      "source": [
        "import xgboost as xgb\n",
        "from sklearn.ensemble import RandomForestClassifier , GradientBoostingClassifier\n",
        "from sklearn.model_selection import train_test_split\n",
        "from sklearn.metrics import accuracy_score , f1_score\n",
        "from sklearn.preprocessing import OneHotEncoder\n",
        "from sklearn.compose import make_column_transformer\n",
        "from sklearn.pipeline import make_pipeline\n"
      ],
      "metadata": {
        "id": "dK307tJGR5lH"
      },
      "execution_count": 117,
      "outputs": []
    },
    {
      "cell_type": "markdown",
      "source": [
        "## filling fuel column\n",
        "\n",
        "create model to predict fuel values"
      ],
      "metadata": {
        "id": "v7VPzb-0Zng3"
      }
    },
    {
      "cell_type": "code",
      "source": [
        "X_encoded.isna().sum()"
      ],
      "metadata": {
        "colab": {
          "base_uri": "https://localhost:8080/"
        },
        "id": "Q7MOipuGmro-",
        "outputId": "14b53b9e-6027-4a56-89b3-a70a5ace9e6e"
      },
      "execution_count": 99,
      "outputs": [
        {
          "output_type": "execute_result",
          "data": {
            "text/plain": [
              "id                   0\n",
              "year                 0\n",
              "manufacturer         0\n",
              "model                0\n",
              "condition       116104\n",
              "cylinders            0\n",
              "fuel              1453\n",
              "odometer             0\n",
              "title_status      5066\n",
              "transmission         0\n",
              "drive            88087\n",
              "size            207684\n",
              "type             62596\n",
              "paint_color      87113\n",
              "state                0\n",
              "lat               4403\n",
              "long              4403\n",
              "posting_date         0\n",
              "dtype: int64"
            ]
          },
          "metadata": {},
          "execution_count": 99
        }
      ]
    },
    {
      "cell_type": "code",
      "source": [
        "# create model to fill values of fuel type\n",
        "\n",
        "X_fuel = X_encoded[['year','manufacturer','model','cylinders','odometer','transmission','state','fuel']]"
      ],
      "metadata": {
        "id": "22mFG1x3lk9j"
      },
      "execution_count": 100,
      "outputs": []
    },
    {
      "cell_type": "code",
      "source": [
        "names = X_fuel.transmission.value_counts().index"
      ],
      "metadata": {
        "id": "QmnWS7npuMjz"
      },
      "execution_count": 128,
      "outputs": []
    },
    {
      "cell_type": "code",
      "source": [
        "# apply oneHot encoder into transmission funciton\n",
        "\n",
        "encoder = OneHotEncoder(handle_unknown='ignore')\n",
        "\n",
        "encoder_fuel = pd.DataFrame(encoder.fit_transform(X_fuel[['transmission']]).toarray(),columns=names)\n",
        "\n",
        "\n",
        "final_fuel = X_fuel.join(encoder_fuel)\n",
        "\n"
      ],
      "metadata": {
        "id": "by9X8WIPsq3f"
      },
      "execution_count": 129,
      "outputs": []
    },
    {
      "cell_type": "code",
      "source": [
        "final_fuel.drop(['transmission'],axis=1,inplace=True)"
      ],
      "metadata": {
        "id": "o-IP2TdrtLTq"
      },
      "execution_count": 130,
      "outputs": []
    },
    {
      "cell_type": "code",
      "source": [
        "X_fuel_train = final_fuel[pd.notnull(X_fuel.fuel)]\n",
        "X_fuel_test = final_fuel[X_fuel.fuel.isna()]"
      ],
      "metadata": {
        "id": "xxpFfPAnloPn"
      },
      "execution_count": 131,
      "outputs": []
    },
    {
      "cell_type": "code",
      "source": [
        "print(final_fuel.shape,X_fuel_train.shape,X_fuel_test.shape)"
      ],
      "metadata": {
        "colab": {
          "base_uri": "https://localhost:8080/"
        },
        "id": "duCv5FzJmQOm",
        "outputId": "4204d0df-914f-4454-9b8d-7c4f11b3a07e"
      },
      "execution_count": 132,
      "outputs": [
        {
          "output_type": "stream",
          "name": "stdout",
          "text": [
            "(290129, 10) (288676, 10) (1453, 10)\n"
          ]
        }
      ]
    },
    {
      "cell_type": "code",
      "source": [
        "XX_fuel_train,XX_fuel_test,yy_fuel_train,yy_fuel_test = train_test_split(X_fuel_train.drop(['fuel'],axis=1),X_fuel_train['fuel'],test_size=0.25,random_state=42)"
      ],
      "metadata": {
        "id": "dvN6ztwCorVK"
      },
      "execution_count": 133,
      "outputs": []
    },
    {
      "cell_type": "code",
      "source": [
        "model = GradientBoostingClassifier()\n",
        "\n",
        "model.fit(XX_fuel_train,yy_fuel_train)"
      ],
      "metadata": {
        "colab": {
          "base_uri": "https://localhost:8080/",
          "height": 75
        },
        "id": "rYk39PE9o3R9",
        "outputId": "1eaf59d5-82c1-436b-9f54-bfc2faa3299b"
      },
      "execution_count": 134,
      "outputs": [
        {
          "output_type": "execute_result",
          "data": {
            "text/plain": [
              "GradientBoostingClassifier()"
            ],
            "text/html": [
              "<style>#sk-container-id-1 {color: black;background-color: white;}#sk-container-id-1 pre{padding: 0;}#sk-container-id-1 div.sk-toggleable {background-color: white;}#sk-container-id-1 label.sk-toggleable__label {cursor: pointer;display: block;width: 100%;margin-bottom: 0;padding: 0.3em;box-sizing: border-box;text-align: center;}#sk-container-id-1 label.sk-toggleable__label-arrow:before {content: \"▸\";float: left;margin-right: 0.25em;color: #696969;}#sk-container-id-1 label.sk-toggleable__label-arrow:hover:before {color: black;}#sk-container-id-1 div.sk-estimator:hover label.sk-toggleable__label-arrow:before {color: black;}#sk-container-id-1 div.sk-toggleable__content {max-height: 0;max-width: 0;overflow: hidden;text-align: left;background-color: #f0f8ff;}#sk-container-id-1 div.sk-toggleable__content pre {margin: 0.2em;color: black;border-radius: 0.25em;background-color: #f0f8ff;}#sk-container-id-1 input.sk-toggleable__control:checked~div.sk-toggleable__content {max-height: 200px;max-width: 100%;overflow: auto;}#sk-container-id-1 input.sk-toggleable__control:checked~label.sk-toggleable__label-arrow:before {content: \"▾\";}#sk-container-id-1 div.sk-estimator input.sk-toggleable__control:checked~label.sk-toggleable__label {background-color: #d4ebff;}#sk-container-id-1 div.sk-label input.sk-toggleable__control:checked~label.sk-toggleable__label {background-color: #d4ebff;}#sk-container-id-1 input.sk-hidden--visually {border: 0;clip: rect(1px 1px 1px 1px);clip: rect(1px, 1px, 1px, 1px);height: 1px;margin: -1px;overflow: hidden;padding: 0;position: absolute;width: 1px;}#sk-container-id-1 div.sk-estimator {font-family: monospace;background-color: #f0f8ff;border: 1px dotted black;border-radius: 0.25em;box-sizing: border-box;margin-bottom: 0.5em;}#sk-container-id-1 div.sk-estimator:hover {background-color: #d4ebff;}#sk-container-id-1 div.sk-parallel-item::after {content: \"\";width: 100%;border-bottom: 1px solid gray;flex-grow: 1;}#sk-container-id-1 div.sk-label:hover label.sk-toggleable__label {background-color: #d4ebff;}#sk-container-id-1 div.sk-serial::before {content: \"\";position: absolute;border-left: 1px solid gray;box-sizing: border-box;top: 0;bottom: 0;left: 50%;z-index: 0;}#sk-container-id-1 div.sk-serial {display: flex;flex-direction: column;align-items: center;background-color: white;padding-right: 0.2em;padding-left: 0.2em;position: relative;}#sk-container-id-1 div.sk-item {position: relative;z-index: 1;}#sk-container-id-1 div.sk-parallel {display: flex;align-items: stretch;justify-content: center;background-color: white;position: relative;}#sk-container-id-1 div.sk-item::before, #sk-container-id-1 div.sk-parallel-item::before {content: \"\";position: absolute;border-left: 1px solid gray;box-sizing: border-box;top: 0;bottom: 0;left: 50%;z-index: -1;}#sk-container-id-1 div.sk-parallel-item {display: flex;flex-direction: column;z-index: 1;position: relative;background-color: white;}#sk-container-id-1 div.sk-parallel-item:first-child::after {align-self: flex-end;width: 50%;}#sk-container-id-1 div.sk-parallel-item:last-child::after {align-self: flex-start;width: 50%;}#sk-container-id-1 div.sk-parallel-item:only-child::after {width: 0;}#sk-container-id-1 div.sk-dashed-wrapped {border: 1px dashed gray;margin: 0 0.4em 0.5em 0.4em;box-sizing: border-box;padding-bottom: 0.4em;background-color: white;}#sk-container-id-1 div.sk-label label {font-family: monospace;font-weight: bold;display: inline-block;line-height: 1.2em;}#sk-container-id-1 div.sk-label-container {text-align: center;}#sk-container-id-1 div.sk-container {/* jupyter's `normalize.less` sets `[hidden] { display: none; }` but bootstrap.min.css set `[hidden] { display: none !important; }` so we also need the `!important` here to be able to override the default hidden behavior on the sphinx rendered scikit-learn.org. See: https://github.com/scikit-learn/scikit-learn/issues/21755 */display: inline-block !important;position: relative;}#sk-container-id-1 div.sk-text-repr-fallback {display: none;}</style><div id=\"sk-container-id-1\" class=\"sk-top-container\"><div class=\"sk-text-repr-fallback\"><pre>GradientBoostingClassifier()</pre><b>In a Jupyter environment, please rerun this cell to show the HTML representation or trust the notebook. <br />On GitHub, the HTML representation is unable to render, please try loading this page with nbviewer.org.</b></div><div class=\"sk-container\" hidden><div class=\"sk-item\"><div class=\"sk-estimator sk-toggleable\"><input class=\"sk-toggleable__control sk-hidden--visually\" id=\"sk-estimator-id-1\" type=\"checkbox\" checked><label for=\"sk-estimator-id-1\" class=\"sk-toggleable__label sk-toggleable__label-arrow\">GradientBoostingClassifier</label><div class=\"sk-toggleable__content\"><pre>GradientBoostingClassifier()</pre></div></div></div></div></div>"
            ]
          },
          "metadata": {},
          "execution_count": 134
        }
      ]
    },
    {
      "cell_type": "code",
      "source": [
        "model2 = RandomForestClassifier(random_state = 42)\n",
        "model2.fit(XX_fuel_train,yy_fuel_train)"
      ],
      "metadata": {
        "colab": {
          "base_uri": "https://localhost:8080/",
          "height": 75
        },
        "id": "0rvwAeVFqIYb",
        "outputId": "e1cf3751-d137-42c5-af1b-07824ea26eed"
      },
      "execution_count": 135,
      "outputs": [
        {
          "output_type": "execute_result",
          "data": {
            "text/plain": [
              "RandomForestClassifier(random_state=42)"
            ],
            "text/html": [
              "<style>#sk-container-id-2 {color: black;background-color: white;}#sk-container-id-2 pre{padding: 0;}#sk-container-id-2 div.sk-toggleable {background-color: white;}#sk-container-id-2 label.sk-toggleable__label {cursor: pointer;display: block;width: 100%;margin-bottom: 0;padding: 0.3em;box-sizing: border-box;text-align: center;}#sk-container-id-2 label.sk-toggleable__label-arrow:before {content: \"▸\";float: left;margin-right: 0.25em;color: #696969;}#sk-container-id-2 label.sk-toggleable__label-arrow:hover:before {color: black;}#sk-container-id-2 div.sk-estimator:hover label.sk-toggleable__label-arrow:before {color: black;}#sk-container-id-2 div.sk-toggleable__content {max-height: 0;max-width: 0;overflow: hidden;text-align: left;background-color: #f0f8ff;}#sk-container-id-2 div.sk-toggleable__content pre {margin: 0.2em;color: black;border-radius: 0.25em;background-color: #f0f8ff;}#sk-container-id-2 input.sk-toggleable__control:checked~div.sk-toggleable__content {max-height: 200px;max-width: 100%;overflow: auto;}#sk-container-id-2 input.sk-toggleable__control:checked~label.sk-toggleable__label-arrow:before {content: \"▾\";}#sk-container-id-2 div.sk-estimator input.sk-toggleable__control:checked~label.sk-toggleable__label {background-color: #d4ebff;}#sk-container-id-2 div.sk-label input.sk-toggleable__control:checked~label.sk-toggleable__label {background-color: #d4ebff;}#sk-container-id-2 input.sk-hidden--visually {border: 0;clip: rect(1px 1px 1px 1px);clip: rect(1px, 1px, 1px, 1px);height: 1px;margin: -1px;overflow: hidden;padding: 0;position: absolute;width: 1px;}#sk-container-id-2 div.sk-estimator {font-family: monospace;background-color: #f0f8ff;border: 1px dotted black;border-radius: 0.25em;box-sizing: border-box;margin-bottom: 0.5em;}#sk-container-id-2 div.sk-estimator:hover {background-color: #d4ebff;}#sk-container-id-2 div.sk-parallel-item::after {content: \"\";width: 100%;border-bottom: 1px solid gray;flex-grow: 1;}#sk-container-id-2 div.sk-label:hover label.sk-toggleable__label {background-color: #d4ebff;}#sk-container-id-2 div.sk-serial::before {content: \"\";position: absolute;border-left: 1px solid gray;box-sizing: border-box;top: 0;bottom: 0;left: 50%;z-index: 0;}#sk-container-id-2 div.sk-serial {display: flex;flex-direction: column;align-items: center;background-color: white;padding-right: 0.2em;padding-left: 0.2em;position: relative;}#sk-container-id-2 div.sk-item {position: relative;z-index: 1;}#sk-container-id-2 div.sk-parallel {display: flex;align-items: stretch;justify-content: center;background-color: white;position: relative;}#sk-container-id-2 div.sk-item::before, #sk-container-id-2 div.sk-parallel-item::before {content: \"\";position: absolute;border-left: 1px solid gray;box-sizing: border-box;top: 0;bottom: 0;left: 50%;z-index: -1;}#sk-container-id-2 div.sk-parallel-item {display: flex;flex-direction: column;z-index: 1;position: relative;background-color: white;}#sk-container-id-2 div.sk-parallel-item:first-child::after {align-self: flex-end;width: 50%;}#sk-container-id-2 div.sk-parallel-item:last-child::after {align-self: flex-start;width: 50%;}#sk-container-id-2 div.sk-parallel-item:only-child::after {width: 0;}#sk-container-id-2 div.sk-dashed-wrapped {border: 1px dashed gray;margin: 0 0.4em 0.5em 0.4em;box-sizing: border-box;padding-bottom: 0.4em;background-color: white;}#sk-container-id-2 div.sk-label label {font-family: monospace;font-weight: bold;display: inline-block;line-height: 1.2em;}#sk-container-id-2 div.sk-label-container {text-align: center;}#sk-container-id-2 div.sk-container {/* jupyter's `normalize.less` sets `[hidden] { display: none; }` but bootstrap.min.css set `[hidden] { display: none !important; }` so we also need the `!important` here to be able to override the default hidden behavior on the sphinx rendered scikit-learn.org. See: https://github.com/scikit-learn/scikit-learn/issues/21755 */display: inline-block !important;position: relative;}#sk-container-id-2 div.sk-text-repr-fallback {display: none;}</style><div id=\"sk-container-id-2\" class=\"sk-top-container\"><div class=\"sk-text-repr-fallback\"><pre>RandomForestClassifier(random_state=42)</pre><b>In a Jupyter environment, please rerun this cell to show the HTML representation or trust the notebook. <br />On GitHub, the HTML representation is unable to render, please try loading this page with nbviewer.org.</b></div><div class=\"sk-container\" hidden><div class=\"sk-item\"><div class=\"sk-estimator sk-toggleable\"><input class=\"sk-toggleable__control sk-hidden--visually\" id=\"sk-estimator-id-2\" type=\"checkbox\" checked><label for=\"sk-estimator-id-2\" class=\"sk-toggleable__label sk-toggleable__label-arrow\">RandomForestClassifier</label><div class=\"sk-toggleable__content\"><pre>RandomForestClassifier(random_state=42)</pre></div></div></div></div></div>"
            ]
          },
          "metadata": {},
          "execution_count": 135
        }
      ]
    },
    {
      "cell_type": "code",
      "source": [
        "model1_pred = model.predict(XX_fuel_test)\n",
        "\n",
        "print('accuracy_score = ',accuracy_score(yy_fuel_test,model1_pred))\n",
        "\n",
        "print('f1_score = ',f1_score(yy_fuel_test,model1_pred,average='micro'))\n"
      ],
      "metadata": {
        "colab": {
          "base_uri": "https://localhost:8080/"
        },
        "id": "17_--A9HvEJk",
        "outputId": "9dd89a31-fcea-4b25-c20e-71903984596e"
      },
      "execution_count": 138,
      "outputs": [
        {
          "output_type": "stream",
          "name": "stdout",
          "text": [
            "accuracy_score =  0.8704984134462165\n",
            "f1_score =  0.8704984134462165\n"
          ]
        }
      ]
    },
    {
      "cell_type": "code",
      "source": [
        "model2_pred = model2.predict(XX_fuel_test)\n",
        "\n",
        "print('accuracy_score = ',accuracy_score(yy_fuel_test,model2_pred))\n",
        "\n",
        "print('f1_score = ',f1_score(yy_fuel_test,model2_pred,average='micro'))\n"
      ],
      "metadata": {
        "colab": {
          "base_uri": "https://localhost:8080/"
        },
        "id": "sFEsMRv4vV0O",
        "outputId": "3c37b21d-31f5-4508-85b2-154811a6ff83"
      },
      "execution_count": 139,
      "outputs": [
        {
          "output_type": "stream",
          "name": "stdout",
          "text": [
            "accuracy_score =  0.9481771951946126\n",
            "f1_score =  0.9481771951946125\n"
          ]
        }
      ]
    },
    {
      "cell_type": "markdown",
      "source": [
        "predect the vlues"
      ],
      "metadata": {
        "id": "5FdQHkhZw1vO"
      }
    },
    {
      "cell_type": "code",
      "source": [
        "X_test = X_fuel_test.drop(['fuel'],axis = 1)\n",
        "\n",
        "y_test = X_fuel_test['fuel']"
      ],
      "metadata": {
        "id": "2rTNiZOZwT32"
      },
      "execution_count": 141,
      "outputs": []
    },
    {
      "cell_type": "code",
      "source": [
        "fule_nan_values = model2.predict(X_test)"
      ],
      "metadata": {
        "id": "abaUtA6lxKKa"
      },
      "execution_count": 142,
      "outputs": []
    },
    {
      "cell_type": "code",
      "source": [
        "# filling values in the dataset\n",
        "\n",
        "nan_fuel_index = X[X.fuel.isna()].index\n",
        "\n",
        "X.loc[nan_fuel_index,'fuel'] = fule_nan_values\n"
      ],
      "metadata": {
        "id": "uGxA7z98xuVb"
      },
      "execution_count": 149,
      "outputs": []
    },
    {
      "cell_type": "markdown",
      "source": [],
      "metadata": {
        "id": "ojD4WyK49G-Z"
      }
    },
    {
      "cell_type": "markdown",
      "source": [
        "## filling title_status column\n"
      ],
      "metadata": {
        "id": "FognZzSu9NKj"
      }
    },
    {
      "cell_type": "code",
      "source": [
        "X.columns"
      ],
      "metadata": {
        "colab": {
          "base_uri": "https://localhost:8080/"
        },
        "id": "hWm-GO8Q9-5N",
        "outputId": "10bbfe07-7fa6-4d34-c74f-a805adee12de"
      },
      "execution_count": 155,
      "outputs": [
        {
          "output_type": "execute_result",
          "data": {
            "text/plain": [
              "Index(['id', 'year', 'manufacturer', 'model', 'condition', 'cylinders', 'fuel',\n",
              "       'odometer', 'title_status', 'transmission', 'drive', 'size', 'type',\n",
              "       'paint_color', 'state', 'lat', 'long', 'posting_date'],\n",
              "      dtype='object')"
            ]
          },
          "metadata": {},
          "execution_count": 155
        }
      ]
    },
    {
      "cell_type": "code",
      "source": [
        "X_title = X[['year','manufacturer','model','cylinders','odometer','transmission','state','fuel','title_status']]\n"
      ],
      "metadata": {
        "id": "wJn2CliP9O-Z"
      },
      "execution_count": 156,
      "outputs": []
    },
    {
      "cell_type": "code",
      "source": [
        "X_title.head()"
      ],
      "metadata": {
        "colab": {
          "base_uri": "https://localhost:8080/",
          "height": 206
        },
        "id": "LAZdN_7k9SYr",
        "outputId": "efe415bb-46ee-478b-ec7b-be00f4820330"
      },
      "execution_count": 158,
      "outputs": [
        {
          "output_type": "execute_result",
          "data": {
            "text/plain": [
              "     year  manufacturer     model cylinders  odometer transmission     state  \\\n",
              "0  2007.0      0.011409  0.005522       0.0  214740.0    automatic  0.016596   \n",
              "1  2008.0      0.016606  0.003598       0.0  170276.0    automatic  0.031903   \n",
              "2  2003.0      0.019515  0.003943       0.0  176910.0    automatic  0.034974   \n",
              "3  2017.0      0.035081  0.001713       0.0   41000.0    automatic  0.117138   \n",
              "4  2008.0      0.085614  0.004105         6  138900.0    automatic  0.032182   \n",
              "\n",
              "  fuel title_status  \n",
              "0  gas        clean  \n",
              "1  gas        clean  \n",
              "2  gas        clean  \n",
              "3  gas        clean  \n",
              "4  gas        clean  "
            ],
            "text/html": [
              "\n",
              "\n",
              "  <div id=\"df-181484ab-a989-4ecf-824f-b4b808b129aa\">\n",
              "    <div class=\"colab-df-container\">\n",
              "      <div>\n",
              "<style scoped>\n",
              "    .dataframe tbody tr th:only-of-type {\n",
              "        vertical-align: middle;\n",
              "    }\n",
              "\n",
              "    .dataframe tbody tr th {\n",
              "        vertical-align: top;\n",
              "    }\n",
              "\n",
              "    .dataframe thead th {\n",
              "        text-align: right;\n",
              "    }\n",
              "</style>\n",
              "<table border=\"1\" class=\"dataframe\">\n",
              "  <thead>\n",
              "    <tr style=\"text-align: right;\">\n",
              "      <th></th>\n",
              "      <th>year</th>\n",
              "      <th>manufacturer</th>\n",
              "      <th>model</th>\n",
              "      <th>cylinders</th>\n",
              "      <th>odometer</th>\n",
              "      <th>transmission</th>\n",
              "      <th>state</th>\n",
              "      <th>fuel</th>\n",
              "      <th>title_status</th>\n",
              "    </tr>\n",
              "  </thead>\n",
              "  <tbody>\n",
              "    <tr>\n",
              "      <th>0</th>\n",
              "      <td>2007.0</td>\n",
              "      <td>0.011409</td>\n",
              "      <td>0.005522</td>\n",
              "      <td>0.0</td>\n",
              "      <td>214740.0</td>\n",
              "      <td>automatic</td>\n",
              "      <td>0.016596</td>\n",
              "      <td>gas</td>\n",
              "      <td>clean</td>\n",
              "    </tr>\n",
              "    <tr>\n",
              "      <th>1</th>\n",
              "      <td>2008.0</td>\n",
              "      <td>0.016606</td>\n",
              "      <td>0.003598</td>\n",
              "      <td>0.0</td>\n",
              "      <td>170276.0</td>\n",
              "      <td>automatic</td>\n",
              "      <td>0.031903</td>\n",
              "      <td>gas</td>\n",
              "      <td>clean</td>\n",
              "    </tr>\n",
              "    <tr>\n",
              "      <th>2</th>\n",
              "      <td>2003.0</td>\n",
              "      <td>0.019515</td>\n",
              "      <td>0.003943</td>\n",
              "      <td>0.0</td>\n",
              "      <td>176910.0</td>\n",
              "      <td>automatic</td>\n",
              "      <td>0.034974</td>\n",
              "      <td>gas</td>\n",
              "      <td>clean</td>\n",
              "    </tr>\n",
              "    <tr>\n",
              "      <th>3</th>\n",
              "      <td>2017.0</td>\n",
              "      <td>0.035081</td>\n",
              "      <td>0.001713</td>\n",
              "      <td>0.0</td>\n",
              "      <td>41000.0</td>\n",
              "      <td>automatic</td>\n",
              "      <td>0.117138</td>\n",
              "      <td>gas</td>\n",
              "      <td>clean</td>\n",
              "    </tr>\n",
              "    <tr>\n",
              "      <th>4</th>\n",
              "      <td>2008.0</td>\n",
              "      <td>0.085614</td>\n",
              "      <td>0.004105</td>\n",
              "      <td>6</td>\n",
              "      <td>138900.0</td>\n",
              "      <td>automatic</td>\n",
              "      <td>0.032182</td>\n",
              "      <td>gas</td>\n",
              "      <td>clean</td>\n",
              "    </tr>\n",
              "  </tbody>\n",
              "</table>\n",
              "</div>\n",
              "      <button class=\"colab-df-convert\" onclick=\"convertToInteractive('df-181484ab-a989-4ecf-824f-b4b808b129aa')\"\n",
              "              title=\"Convert this dataframe to an interactive table.\"\n",
              "              style=\"display:none;\">\n",
              "\n",
              "  <svg xmlns=\"http://www.w3.org/2000/svg\" height=\"24px\"viewBox=\"0 0 24 24\"\n",
              "       width=\"24px\">\n",
              "    <path d=\"M0 0h24v24H0V0z\" fill=\"none\"/>\n",
              "    <path d=\"M18.56 5.44l.94 2.06.94-2.06 2.06-.94-2.06-.94-.94-2.06-.94 2.06-2.06.94zm-11 1L8.5 8.5l.94-2.06 2.06-.94-2.06-.94L8.5 2.5l-.94 2.06-2.06.94zm10 10l.94 2.06.94-2.06 2.06-.94-2.06-.94-.94-2.06-.94 2.06-2.06.94z\"/><path d=\"M17.41 7.96l-1.37-1.37c-.4-.4-.92-.59-1.43-.59-.52 0-1.04.2-1.43.59L10.3 9.45l-7.72 7.72c-.78.78-.78 2.05 0 2.83L4 21.41c.39.39.9.59 1.41.59.51 0 1.02-.2 1.41-.59l7.78-7.78 2.81-2.81c.8-.78.8-2.07 0-2.86zM5.41 20L4 18.59l7.72-7.72 1.47 1.35L5.41 20z\"/>\n",
              "  </svg>\n",
              "      </button>\n",
              "\n",
              "\n",
              "\n",
              "    <div id=\"df-e3a33af4-e510-466b-b970-3a7752e3ca6e\">\n",
              "      <button class=\"colab-df-quickchart\" onclick=\"quickchart('df-e3a33af4-e510-466b-b970-3a7752e3ca6e')\"\n",
              "              title=\"Suggest charts.\"\n",
              "              style=\"display:none;\">\n",
              "\n",
              "<svg xmlns=\"http://www.w3.org/2000/svg\" height=\"24px\"viewBox=\"0 0 24 24\"\n",
              "     width=\"24px\">\n",
              "    <g>\n",
              "        <path d=\"M19 3H5c-1.1 0-2 .9-2 2v14c0 1.1.9 2 2 2h14c1.1 0 2-.9 2-2V5c0-1.1-.9-2-2-2zM9 17H7v-7h2v7zm4 0h-2V7h2v10zm4 0h-2v-4h2v4z\"/>\n",
              "    </g>\n",
              "</svg>\n",
              "      </button>\n",
              "    </div>\n",
              "\n",
              "<style>\n",
              "  .colab-df-quickchart {\n",
              "    background-color: #E8F0FE;\n",
              "    border: none;\n",
              "    border-radius: 50%;\n",
              "    cursor: pointer;\n",
              "    display: none;\n",
              "    fill: #1967D2;\n",
              "    height: 32px;\n",
              "    padding: 0 0 0 0;\n",
              "    width: 32px;\n",
              "  }\n",
              "\n",
              "  .colab-df-quickchart:hover {\n",
              "    background-color: #E2EBFA;\n",
              "    box-shadow: 0px 1px 2px rgba(60, 64, 67, 0.3), 0px 1px 3px 1px rgba(60, 64, 67, 0.15);\n",
              "    fill: #174EA6;\n",
              "  }\n",
              "\n",
              "  [theme=dark] .colab-df-quickchart {\n",
              "    background-color: #3B4455;\n",
              "    fill: #D2E3FC;\n",
              "  }\n",
              "\n",
              "  [theme=dark] .colab-df-quickchart:hover {\n",
              "    background-color: #434B5C;\n",
              "    box-shadow: 0px 1px 3px 1px rgba(0, 0, 0, 0.15);\n",
              "    filter: drop-shadow(0px 1px 2px rgba(0, 0, 0, 0.3));\n",
              "    fill: #FFFFFF;\n",
              "  }\n",
              "</style>\n",
              "\n",
              "    <script>\n",
              "      async function quickchart(key) {\n",
              "        const containerElement = document.querySelector('#' + key);\n",
              "        const charts = await google.colab.kernel.invokeFunction(\n",
              "            'suggestCharts', [key], {});\n",
              "      }\n",
              "    </script>\n",
              "\n",
              "      <script>\n",
              "\n",
              "function displayQuickchartButton(domScope) {\n",
              "  let quickchartButtonEl =\n",
              "    domScope.querySelector('#df-e3a33af4-e510-466b-b970-3a7752e3ca6e button.colab-df-quickchart');\n",
              "  quickchartButtonEl.style.display =\n",
              "    google.colab.kernel.accessAllowed ? 'block' : 'none';\n",
              "}\n",
              "\n",
              "        displayQuickchartButton(document);\n",
              "      </script>\n",
              "      <style>\n",
              "    .colab-df-container {\n",
              "      display:flex;\n",
              "      flex-wrap:wrap;\n",
              "      gap: 12px;\n",
              "    }\n",
              "\n",
              "    .colab-df-convert {\n",
              "      background-color: #E8F0FE;\n",
              "      border: none;\n",
              "      border-radius: 50%;\n",
              "      cursor: pointer;\n",
              "      display: none;\n",
              "      fill: #1967D2;\n",
              "      height: 32px;\n",
              "      padding: 0 0 0 0;\n",
              "      width: 32px;\n",
              "    }\n",
              "\n",
              "    .colab-df-convert:hover {\n",
              "      background-color: #E2EBFA;\n",
              "      box-shadow: 0px 1px 2px rgba(60, 64, 67, 0.3), 0px 1px 3px 1px rgba(60, 64, 67, 0.15);\n",
              "      fill: #174EA6;\n",
              "    }\n",
              "\n",
              "    [theme=dark] .colab-df-convert {\n",
              "      background-color: #3B4455;\n",
              "      fill: #D2E3FC;\n",
              "    }\n",
              "\n",
              "    [theme=dark] .colab-df-convert:hover {\n",
              "      background-color: #434B5C;\n",
              "      box-shadow: 0px 1px 3px 1px rgba(0, 0, 0, 0.15);\n",
              "      filter: drop-shadow(0px 1px 2px rgba(0, 0, 0, 0.3));\n",
              "      fill: #FFFFFF;\n",
              "    }\n",
              "  </style>\n",
              "\n",
              "      <script>\n",
              "        const buttonEl =\n",
              "          document.querySelector('#df-181484ab-a989-4ecf-824f-b4b808b129aa button.colab-df-convert');\n",
              "        buttonEl.style.display =\n",
              "          google.colab.kernel.accessAllowed ? 'block' : 'none';\n",
              "\n",
              "        async function convertToInteractive(key) {\n",
              "          const element = document.querySelector('#df-181484ab-a989-4ecf-824f-b4b808b129aa');\n",
              "          const dataTable =\n",
              "            await google.colab.kernel.invokeFunction('convertToInteractive',\n",
              "                                                     [key], {});\n",
              "          if (!dataTable) return;\n",
              "\n",
              "          const docLinkHtml = 'Like what you see? Visit the ' +\n",
              "            '<a target=\"_blank\" href=https://colab.research.google.com/notebooks/data_table.ipynb>data table notebook</a>'\n",
              "            + ' to learn more about interactive tables.';\n",
              "          element.innerHTML = '';\n",
              "          dataTable['output_type'] = 'display_data';\n",
              "          await google.colab.output.renderOutput(dataTable, element);\n",
              "          const docLink = document.createElement('div');\n",
              "          docLink.innerHTML = docLinkHtml;\n",
              "          element.appendChild(docLink);\n",
              "        }\n",
              "      </script>\n",
              "    </div>\n",
              "  </div>\n"
            ]
          },
          "metadata": {},
          "execution_count": 158
        }
      ]
    },
    {
      "cell_type": "code",
      "source": [
        "names = np.concatenate((X_title.transmission.value_counts().index,\n",
        "               np.array(X_title.fuel.value_counts().index)))\n"
      ],
      "metadata": {
        "id": "pW9WsfSc-8KT"
      },
      "execution_count": 175,
      "outputs": []
    },
    {
      "cell_type": "code",
      "source": [
        " #apply oneHot encoder into transmission feature\n",
        "\n",
        "encoder = OneHotEncoder(handle_unknown='ignore')\n",
        "\n",
        "encoder_title = pd.DataFrame(encoder.fit_transform(X_title[['transmission','fuel']]).toarray(),columns= names)\n",
        "\n",
        "\n",
        "final_title = X_title.join(encoder_title)\n",
        "\n",
        "final_title.drop(['transmission','fuel'],axis=1,inplace=True)\n",
        "\n",
        "final_title.head()"
      ],
      "metadata": {
        "colab": {
          "base_uri": "https://localhost:8080/",
          "height": 206
        },
        "id": "3m9XCvOV9bgg",
        "outputId": "ecd2e5ba-162b-48ba-e6f6-33b0c32060b7"
      },
      "execution_count": 177,
      "outputs": [
        {
          "output_type": "execute_result",
          "data": {
            "text/plain": [
              "     year  manufacturer     model cylinders  odometer     state title_status  \\\n",
              "0  2007.0      0.011409  0.005522       0.0  214740.0  0.016596        clean   \n",
              "1  2008.0      0.016606  0.003598       0.0  170276.0  0.031903        clean   \n",
              "2  2003.0      0.019515  0.003943       0.0  176910.0  0.034974        clean   \n",
              "3  2017.0      0.035081  0.001713       0.0   41000.0  0.117138        clean   \n",
              "4  2008.0      0.085614  0.004105         6  138900.0  0.032182        clean   \n",
              "\n",
              "   automatic  other  manual  gas  other  diesel  hybrid  electric  \n",
              "0        1.0    0.0     0.0  0.0    0.0     1.0     0.0       0.0  \n",
              "1        1.0    0.0     0.0  0.0    0.0     1.0     0.0       0.0  \n",
              "2        1.0    0.0     0.0  0.0    0.0     1.0     0.0       0.0  \n",
              "3        1.0    0.0     0.0  0.0    0.0     1.0     0.0       0.0  \n",
              "4        1.0    0.0     0.0  0.0    0.0     1.0     0.0       0.0  "
            ],
            "text/html": [
              "\n",
              "\n",
              "  <div id=\"df-997d5924-ed73-48df-ab34-d94441a6bc4f\">\n",
              "    <div class=\"colab-df-container\">\n",
              "      <div>\n",
              "<style scoped>\n",
              "    .dataframe tbody tr th:only-of-type {\n",
              "        vertical-align: middle;\n",
              "    }\n",
              "\n",
              "    .dataframe tbody tr th {\n",
              "        vertical-align: top;\n",
              "    }\n",
              "\n",
              "    .dataframe thead th {\n",
              "        text-align: right;\n",
              "    }\n",
              "</style>\n",
              "<table border=\"1\" class=\"dataframe\">\n",
              "  <thead>\n",
              "    <tr style=\"text-align: right;\">\n",
              "      <th></th>\n",
              "      <th>year</th>\n",
              "      <th>manufacturer</th>\n",
              "      <th>model</th>\n",
              "      <th>cylinders</th>\n",
              "      <th>odometer</th>\n",
              "      <th>state</th>\n",
              "      <th>title_status</th>\n",
              "      <th>automatic</th>\n",
              "      <th>other</th>\n",
              "      <th>manual</th>\n",
              "      <th>gas</th>\n",
              "      <th>other</th>\n",
              "      <th>diesel</th>\n",
              "      <th>hybrid</th>\n",
              "      <th>electric</th>\n",
              "    </tr>\n",
              "  </thead>\n",
              "  <tbody>\n",
              "    <tr>\n",
              "      <th>0</th>\n",
              "      <td>2007.0</td>\n",
              "      <td>0.011409</td>\n",
              "      <td>0.005522</td>\n",
              "      <td>0.0</td>\n",
              "      <td>214740.0</td>\n",
              "      <td>0.016596</td>\n",
              "      <td>clean</td>\n",
              "      <td>1.0</td>\n",
              "      <td>0.0</td>\n",
              "      <td>0.0</td>\n",
              "      <td>0.0</td>\n",
              "      <td>0.0</td>\n",
              "      <td>1.0</td>\n",
              "      <td>0.0</td>\n",
              "      <td>0.0</td>\n",
              "    </tr>\n",
              "    <tr>\n",
              "      <th>1</th>\n",
              "      <td>2008.0</td>\n",
              "      <td>0.016606</td>\n",
              "      <td>0.003598</td>\n",
              "      <td>0.0</td>\n",
              "      <td>170276.0</td>\n",
              "      <td>0.031903</td>\n",
              "      <td>clean</td>\n",
              "      <td>1.0</td>\n",
              "      <td>0.0</td>\n",
              "      <td>0.0</td>\n",
              "      <td>0.0</td>\n",
              "      <td>0.0</td>\n",
              "      <td>1.0</td>\n",
              "      <td>0.0</td>\n",
              "      <td>0.0</td>\n",
              "    </tr>\n",
              "    <tr>\n",
              "      <th>2</th>\n",
              "      <td>2003.0</td>\n",
              "      <td>0.019515</td>\n",
              "      <td>0.003943</td>\n",
              "      <td>0.0</td>\n",
              "      <td>176910.0</td>\n",
              "      <td>0.034974</td>\n",
              "      <td>clean</td>\n",
              "      <td>1.0</td>\n",
              "      <td>0.0</td>\n",
              "      <td>0.0</td>\n",
              "      <td>0.0</td>\n",
              "      <td>0.0</td>\n",
              "      <td>1.0</td>\n",
              "      <td>0.0</td>\n",
              "      <td>0.0</td>\n",
              "    </tr>\n",
              "    <tr>\n",
              "      <th>3</th>\n",
              "      <td>2017.0</td>\n",
              "      <td>0.035081</td>\n",
              "      <td>0.001713</td>\n",
              "      <td>0.0</td>\n",
              "      <td>41000.0</td>\n",
              "      <td>0.117138</td>\n",
              "      <td>clean</td>\n",
              "      <td>1.0</td>\n",
              "      <td>0.0</td>\n",
              "      <td>0.0</td>\n",
              "      <td>0.0</td>\n",
              "      <td>0.0</td>\n",
              "      <td>1.0</td>\n",
              "      <td>0.0</td>\n",
              "      <td>0.0</td>\n",
              "    </tr>\n",
              "    <tr>\n",
              "      <th>4</th>\n",
              "      <td>2008.0</td>\n",
              "      <td>0.085614</td>\n",
              "      <td>0.004105</td>\n",
              "      <td>6</td>\n",
              "      <td>138900.0</td>\n",
              "      <td>0.032182</td>\n",
              "      <td>clean</td>\n",
              "      <td>1.0</td>\n",
              "      <td>0.0</td>\n",
              "      <td>0.0</td>\n",
              "      <td>0.0</td>\n",
              "      <td>0.0</td>\n",
              "      <td>1.0</td>\n",
              "      <td>0.0</td>\n",
              "      <td>0.0</td>\n",
              "    </tr>\n",
              "  </tbody>\n",
              "</table>\n",
              "</div>\n",
              "      <button class=\"colab-df-convert\" onclick=\"convertToInteractive('df-997d5924-ed73-48df-ab34-d94441a6bc4f')\"\n",
              "              title=\"Convert this dataframe to an interactive table.\"\n",
              "              style=\"display:none;\">\n",
              "\n",
              "  <svg xmlns=\"http://www.w3.org/2000/svg\" height=\"24px\"viewBox=\"0 0 24 24\"\n",
              "       width=\"24px\">\n",
              "    <path d=\"M0 0h24v24H0V0z\" fill=\"none\"/>\n",
              "    <path d=\"M18.56 5.44l.94 2.06.94-2.06 2.06-.94-2.06-.94-.94-2.06-.94 2.06-2.06.94zm-11 1L8.5 8.5l.94-2.06 2.06-.94-2.06-.94L8.5 2.5l-.94 2.06-2.06.94zm10 10l.94 2.06.94-2.06 2.06-.94-2.06-.94-.94-2.06-.94 2.06-2.06.94z\"/><path d=\"M17.41 7.96l-1.37-1.37c-.4-.4-.92-.59-1.43-.59-.52 0-1.04.2-1.43.59L10.3 9.45l-7.72 7.72c-.78.78-.78 2.05 0 2.83L4 21.41c.39.39.9.59 1.41.59.51 0 1.02-.2 1.41-.59l7.78-7.78 2.81-2.81c.8-.78.8-2.07 0-2.86zM5.41 20L4 18.59l7.72-7.72 1.47 1.35L5.41 20z\"/>\n",
              "  </svg>\n",
              "      </button>\n",
              "\n",
              "\n",
              "\n",
              "    <div id=\"df-a07a1ec2-ee74-4c9b-954d-12c4d0f38dd6\">\n",
              "      <button class=\"colab-df-quickchart\" onclick=\"quickchart('df-a07a1ec2-ee74-4c9b-954d-12c4d0f38dd6')\"\n",
              "              title=\"Suggest charts.\"\n",
              "              style=\"display:none;\">\n",
              "\n",
              "<svg xmlns=\"http://www.w3.org/2000/svg\" height=\"24px\"viewBox=\"0 0 24 24\"\n",
              "     width=\"24px\">\n",
              "    <g>\n",
              "        <path d=\"M19 3H5c-1.1 0-2 .9-2 2v14c0 1.1.9 2 2 2h14c1.1 0 2-.9 2-2V5c0-1.1-.9-2-2-2zM9 17H7v-7h2v7zm4 0h-2V7h2v10zm4 0h-2v-4h2v4z\"/>\n",
              "    </g>\n",
              "</svg>\n",
              "      </button>\n",
              "    </div>\n",
              "\n",
              "<style>\n",
              "  .colab-df-quickchart {\n",
              "    background-color: #E8F0FE;\n",
              "    border: none;\n",
              "    border-radius: 50%;\n",
              "    cursor: pointer;\n",
              "    display: none;\n",
              "    fill: #1967D2;\n",
              "    height: 32px;\n",
              "    padding: 0 0 0 0;\n",
              "    width: 32px;\n",
              "  }\n",
              "\n",
              "  .colab-df-quickchart:hover {\n",
              "    background-color: #E2EBFA;\n",
              "    box-shadow: 0px 1px 2px rgba(60, 64, 67, 0.3), 0px 1px 3px 1px rgba(60, 64, 67, 0.15);\n",
              "    fill: #174EA6;\n",
              "  }\n",
              "\n",
              "  [theme=dark] .colab-df-quickchart {\n",
              "    background-color: #3B4455;\n",
              "    fill: #D2E3FC;\n",
              "  }\n",
              "\n",
              "  [theme=dark] .colab-df-quickchart:hover {\n",
              "    background-color: #434B5C;\n",
              "    box-shadow: 0px 1px 3px 1px rgba(0, 0, 0, 0.15);\n",
              "    filter: drop-shadow(0px 1px 2px rgba(0, 0, 0, 0.3));\n",
              "    fill: #FFFFFF;\n",
              "  }\n",
              "</style>\n",
              "\n",
              "    <script>\n",
              "      async function quickchart(key) {\n",
              "        const containerElement = document.querySelector('#' + key);\n",
              "        const charts = await google.colab.kernel.invokeFunction(\n",
              "            'suggestCharts', [key], {});\n",
              "      }\n",
              "    </script>\n",
              "\n",
              "      <script>\n",
              "\n",
              "function displayQuickchartButton(domScope) {\n",
              "  let quickchartButtonEl =\n",
              "    domScope.querySelector('#df-a07a1ec2-ee74-4c9b-954d-12c4d0f38dd6 button.colab-df-quickchart');\n",
              "  quickchartButtonEl.style.display =\n",
              "    google.colab.kernel.accessAllowed ? 'block' : 'none';\n",
              "}\n",
              "\n",
              "        displayQuickchartButton(document);\n",
              "      </script>\n",
              "      <style>\n",
              "    .colab-df-container {\n",
              "      display:flex;\n",
              "      flex-wrap:wrap;\n",
              "      gap: 12px;\n",
              "    }\n",
              "\n",
              "    .colab-df-convert {\n",
              "      background-color: #E8F0FE;\n",
              "      border: none;\n",
              "      border-radius: 50%;\n",
              "      cursor: pointer;\n",
              "      display: none;\n",
              "      fill: #1967D2;\n",
              "      height: 32px;\n",
              "      padding: 0 0 0 0;\n",
              "      width: 32px;\n",
              "    }\n",
              "\n",
              "    .colab-df-convert:hover {\n",
              "      background-color: #E2EBFA;\n",
              "      box-shadow: 0px 1px 2px rgba(60, 64, 67, 0.3), 0px 1px 3px 1px rgba(60, 64, 67, 0.15);\n",
              "      fill: #174EA6;\n",
              "    }\n",
              "\n",
              "    [theme=dark] .colab-df-convert {\n",
              "      background-color: #3B4455;\n",
              "      fill: #D2E3FC;\n",
              "    }\n",
              "\n",
              "    [theme=dark] .colab-df-convert:hover {\n",
              "      background-color: #434B5C;\n",
              "      box-shadow: 0px 1px 3px 1px rgba(0, 0, 0, 0.15);\n",
              "      filter: drop-shadow(0px 1px 2px rgba(0, 0, 0, 0.3));\n",
              "      fill: #FFFFFF;\n",
              "    }\n",
              "  </style>\n",
              "\n",
              "      <script>\n",
              "        const buttonEl =\n",
              "          document.querySelector('#df-997d5924-ed73-48df-ab34-d94441a6bc4f button.colab-df-convert');\n",
              "        buttonEl.style.display =\n",
              "          google.colab.kernel.accessAllowed ? 'block' : 'none';\n",
              "\n",
              "        async function convertToInteractive(key) {\n",
              "          const element = document.querySelector('#df-997d5924-ed73-48df-ab34-d94441a6bc4f');\n",
              "          const dataTable =\n",
              "            await google.colab.kernel.invokeFunction('convertToInteractive',\n",
              "                                                     [key], {});\n",
              "          if (!dataTable) return;\n",
              "\n",
              "          const docLinkHtml = 'Like what you see? Visit the ' +\n",
              "            '<a target=\"_blank\" href=https://colab.research.google.com/notebooks/data_table.ipynb>data table notebook</a>'\n",
              "            + ' to learn more about interactive tables.';\n",
              "          element.innerHTML = '';\n",
              "          dataTable['output_type'] = 'display_data';\n",
              "          await google.colab.output.renderOutput(dataTable, element);\n",
              "          const docLink = document.createElement('div');\n",
              "          docLink.innerHTML = docLinkHtml;\n",
              "          element.appendChild(docLink);\n",
              "        }\n",
              "      </script>\n",
              "    </div>\n",
              "  </div>\n"
            ]
          },
          "metadata": {},
          "execution_count": 177
        }
      ]
    },
    {
      "cell_type": "code",
      "source": [
        "X_title_train = final_title[pd.notnull(X_title.title_status)]\n",
        "X_title_test = final_title[X_title.title_status.isna()]"
      ],
      "metadata": {
        "id": "Ma-Ijd3p-xAZ"
      },
      "execution_count": 178,
      "outputs": []
    },
    {
      "cell_type": "code",
      "source": [
        "print(final_title.shape,X_title_train.shape,X_title_test.shape)"
      ],
      "metadata": {
        "colab": {
          "base_uri": "https://localhost:8080/"
        },
        "id": "LnekII0QBUhf",
        "outputId": "079ba76c-981c-4dcb-84c9-35f7cb877567"
      },
      "execution_count": 179,
      "outputs": [
        {
          "output_type": "stream",
          "name": "stdout",
          "text": [
            "(290129, 15) (285063, 15) (5066, 15)\n"
          ]
        }
      ]
    },
    {
      "cell_type": "code",
      "source": [
        "XX_title_train,XX_title_test,yy_title_train,yy_title_test = train_test_split(X_title_train.drop(['title_status'],axis=1),X_title_train['title_status'],\n",
        "                                                                            random_state=42,test_size=0.3)"
      ],
      "metadata": {
        "id": "TtRTMucdBjuC"
      },
      "execution_count": 183,
      "outputs": []
    },
    {
      "cell_type": "code",
      "source": [
        "model = RandomForestClassifier()\n",
        "model.fit(XX_title_train,yy_title_train)"
      ],
      "metadata": {
        "colab": {
          "base_uri": "https://localhost:8080/",
          "height": 75
        },
        "id": "HWblDFTRCN-K",
        "outputId": "000f9a83-27a2-4280-e3da-f50ee17997be"
      },
      "execution_count": 185,
      "outputs": [
        {
          "output_type": "execute_result",
          "data": {
            "text/plain": [
              "RandomForestClassifier()"
            ],
            "text/html": [
              "<style>#sk-container-id-3 {color: black;background-color: white;}#sk-container-id-3 pre{padding: 0;}#sk-container-id-3 div.sk-toggleable {background-color: white;}#sk-container-id-3 label.sk-toggleable__label {cursor: pointer;display: block;width: 100%;margin-bottom: 0;padding: 0.3em;box-sizing: border-box;text-align: center;}#sk-container-id-3 label.sk-toggleable__label-arrow:before {content: \"▸\";float: left;margin-right: 0.25em;color: #696969;}#sk-container-id-3 label.sk-toggleable__label-arrow:hover:before {color: black;}#sk-container-id-3 div.sk-estimator:hover label.sk-toggleable__label-arrow:before {color: black;}#sk-container-id-3 div.sk-toggleable__content {max-height: 0;max-width: 0;overflow: hidden;text-align: left;background-color: #f0f8ff;}#sk-container-id-3 div.sk-toggleable__content pre {margin: 0.2em;color: black;border-radius: 0.25em;background-color: #f0f8ff;}#sk-container-id-3 input.sk-toggleable__control:checked~div.sk-toggleable__content {max-height: 200px;max-width: 100%;overflow: auto;}#sk-container-id-3 input.sk-toggleable__control:checked~label.sk-toggleable__label-arrow:before {content: \"▾\";}#sk-container-id-3 div.sk-estimator input.sk-toggleable__control:checked~label.sk-toggleable__label {background-color: #d4ebff;}#sk-container-id-3 div.sk-label input.sk-toggleable__control:checked~label.sk-toggleable__label {background-color: #d4ebff;}#sk-container-id-3 input.sk-hidden--visually {border: 0;clip: rect(1px 1px 1px 1px);clip: rect(1px, 1px, 1px, 1px);height: 1px;margin: -1px;overflow: hidden;padding: 0;position: absolute;width: 1px;}#sk-container-id-3 div.sk-estimator {font-family: monospace;background-color: #f0f8ff;border: 1px dotted black;border-radius: 0.25em;box-sizing: border-box;margin-bottom: 0.5em;}#sk-container-id-3 div.sk-estimator:hover {background-color: #d4ebff;}#sk-container-id-3 div.sk-parallel-item::after {content: \"\";width: 100%;border-bottom: 1px solid gray;flex-grow: 1;}#sk-container-id-3 div.sk-label:hover label.sk-toggleable__label {background-color: #d4ebff;}#sk-container-id-3 div.sk-serial::before {content: \"\";position: absolute;border-left: 1px solid gray;box-sizing: border-box;top: 0;bottom: 0;left: 50%;z-index: 0;}#sk-container-id-3 div.sk-serial {display: flex;flex-direction: column;align-items: center;background-color: white;padding-right: 0.2em;padding-left: 0.2em;position: relative;}#sk-container-id-3 div.sk-item {position: relative;z-index: 1;}#sk-container-id-3 div.sk-parallel {display: flex;align-items: stretch;justify-content: center;background-color: white;position: relative;}#sk-container-id-3 div.sk-item::before, #sk-container-id-3 div.sk-parallel-item::before {content: \"\";position: absolute;border-left: 1px solid gray;box-sizing: border-box;top: 0;bottom: 0;left: 50%;z-index: -1;}#sk-container-id-3 div.sk-parallel-item {display: flex;flex-direction: column;z-index: 1;position: relative;background-color: white;}#sk-container-id-3 div.sk-parallel-item:first-child::after {align-self: flex-end;width: 50%;}#sk-container-id-3 div.sk-parallel-item:last-child::after {align-self: flex-start;width: 50%;}#sk-container-id-3 div.sk-parallel-item:only-child::after {width: 0;}#sk-container-id-3 div.sk-dashed-wrapped {border: 1px dashed gray;margin: 0 0.4em 0.5em 0.4em;box-sizing: border-box;padding-bottom: 0.4em;background-color: white;}#sk-container-id-3 div.sk-label label {font-family: monospace;font-weight: bold;display: inline-block;line-height: 1.2em;}#sk-container-id-3 div.sk-label-container {text-align: center;}#sk-container-id-3 div.sk-container {/* jupyter's `normalize.less` sets `[hidden] { display: none; }` but bootstrap.min.css set `[hidden] { display: none !important; }` so we also need the `!important` here to be able to override the default hidden behavior on the sphinx rendered scikit-learn.org. See: https://github.com/scikit-learn/scikit-learn/issues/21755 */display: inline-block !important;position: relative;}#sk-container-id-3 div.sk-text-repr-fallback {display: none;}</style><div id=\"sk-container-id-3\" class=\"sk-top-container\"><div class=\"sk-text-repr-fallback\"><pre>RandomForestClassifier()</pre><b>In a Jupyter environment, please rerun this cell to show the HTML representation or trust the notebook. <br />On GitHub, the HTML representation is unable to render, please try loading this page with nbviewer.org.</b></div><div class=\"sk-container\" hidden><div class=\"sk-item\"><div class=\"sk-estimator sk-toggleable\"><input class=\"sk-toggleable__control sk-hidden--visually\" id=\"sk-estimator-id-3\" type=\"checkbox\" checked><label for=\"sk-estimator-id-3\" class=\"sk-toggleable__label sk-toggleable__label-arrow\">RandomForestClassifier</label><div class=\"sk-toggleable__content\"><pre>RandomForestClassifier()</pre></div></div></div></div></div>"
            ]
          },
          "metadata": {},
          "execution_count": 185
        }
      ]
    },
    {
      "cell_type": "code",
      "source": [
        "model2 = GradientBoostingClassifier()\n",
        "model2.fit(XX_title_train,yy_title_train)"
      ],
      "metadata": {
        "colab": {
          "base_uri": "https://localhost:8080/",
          "height": 75
        },
        "id": "hkPKDm8BCpNR",
        "outputId": "097947a8-9955-4ac6-c44d-0d013cbf8ee6"
      },
      "execution_count": 186,
      "outputs": [
        {
          "output_type": "execute_result",
          "data": {
            "text/plain": [
              "GradientBoostingClassifier()"
            ],
            "text/html": [
              "<style>#sk-container-id-4 {color: black;background-color: white;}#sk-container-id-4 pre{padding: 0;}#sk-container-id-4 div.sk-toggleable {background-color: white;}#sk-container-id-4 label.sk-toggleable__label {cursor: pointer;display: block;width: 100%;margin-bottom: 0;padding: 0.3em;box-sizing: border-box;text-align: center;}#sk-container-id-4 label.sk-toggleable__label-arrow:before {content: \"▸\";float: left;margin-right: 0.25em;color: #696969;}#sk-container-id-4 label.sk-toggleable__label-arrow:hover:before {color: black;}#sk-container-id-4 div.sk-estimator:hover label.sk-toggleable__label-arrow:before {color: black;}#sk-container-id-4 div.sk-toggleable__content {max-height: 0;max-width: 0;overflow: hidden;text-align: left;background-color: #f0f8ff;}#sk-container-id-4 div.sk-toggleable__content pre {margin: 0.2em;color: black;border-radius: 0.25em;background-color: #f0f8ff;}#sk-container-id-4 input.sk-toggleable__control:checked~div.sk-toggleable__content {max-height: 200px;max-width: 100%;overflow: auto;}#sk-container-id-4 input.sk-toggleable__control:checked~label.sk-toggleable__label-arrow:before {content: \"▾\";}#sk-container-id-4 div.sk-estimator input.sk-toggleable__control:checked~label.sk-toggleable__label {background-color: #d4ebff;}#sk-container-id-4 div.sk-label input.sk-toggleable__control:checked~label.sk-toggleable__label {background-color: #d4ebff;}#sk-container-id-4 input.sk-hidden--visually {border: 0;clip: rect(1px 1px 1px 1px);clip: rect(1px, 1px, 1px, 1px);height: 1px;margin: -1px;overflow: hidden;padding: 0;position: absolute;width: 1px;}#sk-container-id-4 div.sk-estimator {font-family: monospace;background-color: #f0f8ff;border: 1px dotted black;border-radius: 0.25em;box-sizing: border-box;margin-bottom: 0.5em;}#sk-container-id-4 div.sk-estimator:hover {background-color: #d4ebff;}#sk-container-id-4 div.sk-parallel-item::after {content: \"\";width: 100%;border-bottom: 1px solid gray;flex-grow: 1;}#sk-container-id-4 div.sk-label:hover label.sk-toggleable__label {background-color: #d4ebff;}#sk-container-id-4 div.sk-serial::before {content: \"\";position: absolute;border-left: 1px solid gray;box-sizing: border-box;top: 0;bottom: 0;left: 50%;z-index: 0;}#sk-container-id-4 div.sk-serial {display: flex;flex-direction: column;align-items: center;background-color: white;padding-right: 0.2em;padding-left: 0.2em;position: relative;}#sk-container-id-4 div.sk-item {position: relative;z-index: 1;}#sk-container-id-4 div.sk-parallel {display: flex;align-items: stretch;justify-content: center;background-color: white;position: relative;}#sk-container-id-4 div.sk-item::before, #sk-container-id-4 div.sk-parallel-item::before {content: \"\";position: absolute;border-left: 1px solid gray;box-sizing: border-box;top: 0;bottom: 0;left: 50%;z-index: -1;}#sk-container-id-4 div.sk-parallel-item {display: flex;flex-direction: column;z-index: 1;position: relative;background-color: white;}#sk-container-id-4 div.sk-parallel-item:first-child::after {align-self: flex-end;width: 50%;}#sk-container-id-4 div.sk-parallel-item:last-child::after {align-self: flex-start;width: 50%;}#sk-container-id-4 div.sk-parallel-item:only-child::after {width: 0;}#sk-container-id-4 div.sk-dashed-wrapped {border: 1px dashed gray;margin: 0 0.4em 0.5em 0.4em;box-sizing: border-box;padding-bottom: 0.4em;background-color: white;}#sk-container-id-4 div.sk-label label {font-family: monospace;font-weight: bold;display: inline-block;line-height: 1.2em;}#sk-container-id-4 div.sk-label-container {text-align: center;}#sk-container-id-4 div.sk-container {/* jupyter's `normalize.less` sets `[hidden] { display: none; }` but bootstrap.min.css set `[hidden] { display: none !important; }` so we also need the `!important` here to be able to override the default hidden behavior on the sphinx rendered scikit-learn.org. See: https://github.com/scikit-learn/scikit-learn/issues/21755 */display: inline-block !important;position: relative;}#sk-container-id-4 div.sk-text-repr-fallback {display: none;}</style><div id=\"sk-container-id-4\" class=\"sk-top-container\"><div class=\"sk-text-repr-fallback\"><pre>GradientBoostingClassifier()</pre><b>In a Jupyter environment, please rerun this cell to show the HTML representation or trust the notebook. <br />On GitHub, the HTML representation is unable to render, please try loading this page with nbviewer.org.</b></div><div class=\"sk-container\" hidden><div class=\"sk-item\"><div class=\"sk-estimator sk-toggleable\"><input class=\"sk-toggleable__control sk-hidden--visually\" id=\"sk-estimator-id-4\" type=\"checkbox\" checked><label for=\"sk-estimator-id-4\" class=\"sk-toggleable__label sk-toggleable__label-arrow\">GradientBoostingClassifier</label><div class=\"sk-toggleable__content\"><pre>GradientBoostingClassifier()</pre></div></div></div></div></div>"
            ]
          },
          "metadata": {},
          "execution_count": 186
        }
      ]
    },
    {
      "cell_type": "code",
      "source": [
        "model1_pred = model.predict(XX_title_test)\n",
        "\n",
        "print('accuracy_score = ',accuracy_score(yy_title_test,model1_pred))\n",
        "\n",
        "print('f1_score = ',f1_score(yy_title_test,model1_pred,average='micro'))"
      ],
      "metadata": {
        "colab": {
          "base_uri": "https://localhost:8080/"
        },
        "id": "821hUz0NCy7A",
        "outputId": "aafd6977-0bc9-487c-b391-37d7cefc7d6c"
      },
      "execution_count": 187,
      "outputs": [
        {
          "output_type": "stream",
          "name": "stdout",
          "text": [
            "accuracy_score =  0.9726259661595669\n",
            "f1_score =  0.9726259661595669\n"
          ]
        }
      ]
    },
    {
      "cell_type": "code",
      "source": [
        "model2_pred = model2.predict(XX_title_test)\n",
        "\n",
        "print('accuracy_score = ',accuracy_score(yy_title_test,model2_pred))\n",
        "\n",
        "print('f1_score = ',f1_score(yy_title_test,model2_pred,average='micro'))"
      ],
      "metadata": {
        "colab": {
          "base_uri": "https://localhost:8080/"
        },
        "id": "mz1y-fgKDM2m",
        "outputId": "0c933cc4-4c9b-4211-ab20-cbe6e4305a5c"
      },
      "execution_count": 188,
      "outputs": [
        {
          "output_type": "stream",
          "name": "stdout",
          "text": [
            "accuracy_score =  0.9672002712847437\n",
            "f1_score =  0.9672002712847437\n"
          ]
        }
      ]
    },
    {
      "cell_type": "code",
      "source": [
        "X_test = X_title_test.drop(['title_status'],axis = 1)\n"
      ],
      "metadata": {
        "id": "3UisesJSDSPf"
      },
      "execution_count": 189,
      "outputs": []
    },
    {
      "cell_type": "code",
      "source": [
        "title_nan_vlues = model.predict(X_test)"
      ],
      "metadata": {
        "id": "Nz_NaGlMDvmc"
      },
      "execution_count": 190,
      "outputs": []
    },
    {
      "cell_type": "code",
      "source": [
        "nan_title_index = X[X.title_status.isna()].index\n",
        "\n",
        "X.loc[nan_title_index,'title_status'] = title_nan_vlues"
      ],
      "metadata": {
        "id": "-aF5xOJXD8Pe"
      },
      "execution_count": 191,
      "outputs": []
    },
    {
      "cell_type": "code",
      "source": [
        "X.isna().sum()"
      ],
      "metadata": {
        "colab": {
          "base_uri": "https://localhost:8080/"
        },
        "id": "2HZjzLuKEKGP",
        "outputId": "e2be7124-e73a-4781-92be-3cdd6e19627c"
      },
      "execution_count": 192,
      "outputs": [
        {
          "output_type": "execute_result",
          "data": {
            "text/plain": [
              "id                   0\n",
              "year                 0\n",
              "manufacturer         0\n",
              "model                0\n",
              "condition       116104\n",
              "cylinders            0\n",
              "fuel                 0\n",
              "odometer             0\n",
              "title_status         0\n",
              "transmission         0\n",
              "drive            88087\n",
              "size            207684\n",
              "type             62596\n",
              "paint_color      87113\n",
              "state                0\n",
              "lat               4403\n",
              "long              4403\n",
              "posting_date         0\n",
              "dtype: int64"
            ]
          },
          "metadata": {},
          "execution_count": 192
        }
      ]
    },
    {
      "cell_type": "markdown",
      "source": [
        "### filling drive nan values\n",
        "\n",
        "we will build a model to predict values for these"
      ],
      "metadata": {
        "id": "ONFtNQeXEgvV"
      }
    },
    {
      "cell_type": "code",
      "source": [
        "X_drive = X[['year','manufacturer','model','cylinders','odometer','transmission','state','fuel','title_status','drive']]"
      ],
      "metadata": {
        "id": "vjtSAbm9EZrT"
      },
      "execution_count": 200,
      "outputs": []
    },
    {
      "cell_type": "code",
      "source": [
        "#apply oneHot encoder into transmission feature\n",
        "\n",
        "encoder = OneHotEncoder(handle_unknown='ignore')\n",
        "\n",
        "encoder_drive = pd.DataFrame(encoder.fit_transform(X_drive[['transmission','fuel',]]).toarray(),columns= names)\n",
        "# apply label encoding for title_status column\n",
        "# label_mapping = {\n",
        "#     'clean': 5,\n",
        "#     'rebuilt': 4,\n",
        "#     'salvage': 3,\n",
        "#     'lien': 2,\n",
        "#     'missing': 1,\n",
        "#     'parts only': 0\n",
        "# }\n",
        "# X_drive.title_status = X_drive.title_status.map(label_mapping)\n",
        "\n",
        "final_drive = X_drive.join(encoder_title)\n",
        "\n",
        "final_drive.drop(['transmission','fuel'],axis=1,inplace=True)\n",
        "#apply label encoding for title_status column\n",
        "label_mapping = {\n",
        "    'clean': 5,\n",
        "    'rebuilt': 4,\n",
        "    'salvage': 3,\n",
        "    'lien': 2,\n",
        "    'missing': 1,\n",
        "    'parts only': 0\n",
        "}\n",
        "final_drive.title_status = final_drive.title_status.map(label_mapping)\n",
        "final_drive.head()"
      ],
      "metadata": {
        "colab": {
          "base_uri": "https://localhost:8080/",
          "height": 206
        },
        "id": "t01tN7IyGdVv",
        "outputId": "61de19aa-acae-4370-b0e8-03bcba65cc83"
      },
      "execution_count": 202,
      "outputs": [
        {
          "output_type": "execute_result",
          "data": {
            "text/plain": [
              "     year  manufacturer     model cylinders  odometer     state  title_status  \\\n",
              "0  2007.0      0.011409  0.005522       0.0  214740.0  0.016596             5   \n",
              "1  2008.0      0.016606  0.003598       0.0  170276.0  0.031903             5   \n",
              "2  2003.0      0.019515  0.003943       0.0  176910.0  0.034974             5   \n",
              "3  2017.0      0.035081  0.001713       0.0   41000.0  0.117138             5   \n",
              "4  2008.0      0.085614  0.004105         6  138900.0  0.032182             5   \n",
              "\n",
              "  drive  automatic  other  manual  gas  other  diesel  hybrid  electric  \n",
              "0   rwd        1.0    0.0     0.0  0.0    0.0     1.0     0.0       0.0  \n",
              "1   NaN        1.0    0.0     0.0  0.0    0.0     1.0     0.0       0.0  \n",
              "2   fwd        1.0    0.0     0.0  0.0    0.0     1.0     0.0       0.0  \n",
              "3   4wd        1.0    0.0     0.0  0.0    0.0     1.0     0.0       0.0  \n",
              "4   4wd        1.0    0.0     0.0  0.0    0.0     1.0     0.0       0.0  "
            ],
            "text/html": [
              "\n",
              "\n",
              "  <div id=\"df-fcb92193-0b52-439d-a0e1-d8d1de2619ae\">\n",
              "    <div class=\"colab-df-container\">\n",
              "      <div>\n",
              "<style scoped>\n",
              "    .dataframe tbody tr th:only-of-type {\n",
              "        vertical-align: middle;\n",
              "    }\n",
              "\n",
              "    .dataframe tbody tr th {\n",
              "        vertical-align: top;\n",
              "    }\n",
              "\n",
              "    .dataframe thead th {\n",
              "        text-align: right;\n",
              "    }\n",
              "</style>\n",
              "<table border=\"1\" class=\"dataframe\">\n",
              "  <thead>\n",
              "    <tr style=\"text-align: right;\">\n",
              "      <th></th>\n",
              "      <th>year</th>\n",
              "      <th>manufacturer</th>\n",
              "      <th>model</th>\n",
              "      <th>cylinders</th>\n",
              "      <th>odometer</th>\n",
              "      <th>state</th>\n",
              "      <th>title_status</th>\n",
              "      <th>drive</th>\n",
              "      <th>automatic</th>\n",
              "      <th>other</th>\n",
              "      <th>manual</th>\n",
              "      <th>gas</th>\n",
              "      <th>other</th>\n",
              "      <th>diesel</th>\n",
              "      <th>hybrid</th>\n",
              "      <th>electric</th>\n",
              "    </tr>\n",
              "  </thead>\n",
              "  <tbody>\n",
              "    <tr>\n",
              "      <th>0</th>\n",
              "      <td>2007.0</td>\n",
              "      <td>0.011409</td>\n",
              "      <td>0.005522</td>\n",
              "      <td>0.0</td>\n",
              "      <td>214740.0</td>\n",
              "      <td>0.016596</td>\n",
              "      <td>5</td>\n",
              "      <td>rwd</td>\n",
              "      <td>1.0</td>\n",
              "      <td>0.0</td>\n",
              "      <td>0.0</td>\n",
              "      <td>0.0</td>\n",
              "      <td>0.0</td>\n",
              "      <td>1.0</td>\n",
              "      <td>0.0</td>\n",
              "      <td>0.0</td>\n",
              "    </tr>\n",
              "    <tr>\n",
              "      <th>1</th>\n",
              "      <td>2008.0</td>\n",
              "      <td>0.016606</td>\n",
              "      <td>0.003598</td>\n",
              "      <td>0.0</td>\n",
              "      <td>170276.0</td>\n",
              "      <td>0.031903</td>\n",
              "      <td>5</td>\n",
              "      <td>NaN</td>\n",
              "      <td>1.0</td>\n",
              "      <td>0.0</td>\n",
              "      <td>0.0</td>\n",
              "      <td>0.0</td>\n",
              "      <td>0.0</td>\n",
              "      <td>1.0</td>\n",
              "      <td>0.0</td>\n",
              "      <td>0.0</td>\n",
              "    </tr>\n",
              "    <tr>\n",
              "      <th>2</th>\n",
              "      <td>2003.0</td>\n",
              "      <td>0.019515</td>\n",
              "      <td>0.003943</td>\n",
              "      <td>0.0</td>\n",
              "      <td>176910.0</td>\n",
              "      <td>0.034974</td>\n",
              "      <td>5</td>\n",
              "      <td>fwd</td>\n",
              "      <td>1.0</td>\n",
              "      <td>0.0</td>\n",
              "      <td>0.0</td>\n",
              "      <td>0.0</td>\n",
              "      <td>0.0</td>\n",
              "      <td>1.0</td>\n",
              "      <td>0.0</td>\n",
              "      <td>0.0</td>\n",
              "    </tr>\n",
              "    <tr>\n",
              "      <th>3</th>\n",
              "      <td>2017.0</td>\n",
              "      <td>0.035081</td>\n",
              "      <td>0.001713</td>\n",
              "      <td>0.0</td>\n",
              "      <td>41000.0</td>\n",
              "      <td>0.117138</td>\n",
              "      <td>5</td>\n",
              "      <td>4wd</td>\n",
              "      <td>1.0</td>\n",
              "      <td>0.0</td>\n",
              "      <td>0.0</td>\n",
              "      <td>0.0</td>\n",
              "      <td>0.0</td>\n",
              "      <td>1.0</td>\n",
              "      <td>0.0</td>\n",
              "      <td>0.0</td>\n",
              "    </tr>\n",
              "    <tr>\n",
              "      <th>4</th>\n",
              "      <td>2008.0</td>\n",
              "      <td>0.085614</td>\n",
              "      <td>0.004105</td>\n",
              "      <td>6</td>\n",
              "      <td>138900.0</td>\n",
              "      <td>0.032182</td>\n",
              "      <td>5</td>\n",
              "      <td>4wd</td>\n",
              "      <td>1.0</td>\n",
              "      <td>0.0</td>\n",
              "      <td>0.0</td>\n",
              "      <td>0.0</td>\n",
              "      <td>0.0</td>\n",
              "      <td>1.0</td>\n",
              "      <td>0.0</td>\n",
              "      <td>0.0</td>\n",
              "    </tr>\n",
              "  </tbody>\n",
              "</table>\n",
              "</div>\n",
              "      <button class=\"colab-df-convert\" onclick=\"convertToInteractive('df-fcb92193-0b52-439d-a0e1-d8d1de2619ae')\"\n",
              "              title=\"Convert this dataframe to an interactive table.\"\n",
              "              style=\"display:none;\">\n",
              "\n",
              "  <svg xmlns=\"http://www.w3.org/2000/svg\" height=\"24px\"viewBox=\"0 0 24 24\"\n",
              "       width=\"24px\">\n",
              "    <path d=\"M0 0h24v24H0V0z\" fill=\"none\"/>\n",
              "    <path d=\"M18.56 5.44l.94 2.06.94-2.06 2.06-.94-2.06-.94-.94-2.06-.94 2.06-2.06.94zm-11 1L8.5 8.5l.94-2.06 2.06-.94-2.06-.94L8.5 2.5l-.94 2.06-2.06.94zm10 10l.94 2.06.94-2.06 2.06-.94-2.06-.94-.94-2.06-.94 2.06-2.06.94z\"/><path d=\"M17.41 7.96l-1.37-1.37c-.4-.4-.92-.59-1.43-.59-.52 0-1.04.2-1.43.59L10.3 9.45l-7.72 7.72c-.78.78-.78 2.05 0 2.83L4 21.41c.39.39.9.59 1.41.59.51 0 1.02-.2 1.41-.59l7.78-7.78 2.81-2.81c.8-.78.8-2.07 0-2.86zM5.41 20L4 18.59l7.72-7.72 1.47 1.35L5.41 20z\"/>\n",
              "  </svg>\n",
              "      </button>\n",
              "\n",
              "\n",
              "\n",
              "    <div id=\"df-f75d43eb-3d16-4b4a-a014-61ec597ae10c\">\n",
              "      <button class=\"colab-df-quickchart\" onclick=\"quickchart('df-f75d43eb-3d16-4b4a-a014-61ec597ae10c')\"\n",
              "              title=\"Suggest charts.\"\n",
              "              style=\"display:none;\">\n",
              "\n",
              "<svg xmlns=\"http://www.w3.org/2000/svg\" height=\"24px\"viewBox=\"0 0 24 24\"\n",
              "     width=\"24px\">\n",
              "    <g>\n",
              "        <path d=\"M19 3H5c-1.1 0-2 .9-2 2v14c0 1.1.9 2 2 2h14c1.1 0 2-.9 2-2V5c0-1.1-.9-2-2-2zM9 17H7v-7h2v7zm4 0h-2V7h2v10zm4 0h-2v-4h2v4z\"/>\n",
              "    </g>\n",
              "</svg>\n",
              "      </button>\n",
              "    </div>\n",
              "\n",
              "<style>\n",
              "  .colab-df-quickchart {\n",
              "    background-color: #E8F0FE;\n",
              "    border: none;\n",
              "    border-radius: 50%;\n",
              "    cursor: pointer;\n",
              "    display: none;\n",
              "    fill: #1967D2;\n",
              "    height: 32px;\n",
              "    padding: 0 0 0 0;\n",
              "    width: 32px;\n",
              "  }\n",
              "\n",
              "  .colab-df-quickchart:hover {\n",
              "    background-color: #E2EBFA;\n",
              "    box-shadow: 0px 1px 2px rgba(60, 64, 67, 0.3), 0px 1px 3px 1px rgba(60, 64, 67, 0.15);\n",
              "    fill: #174EA6;\n",
              "  }\n",
              "\n",
              "  [theme=dark] .colab-df-quickchart {\n",
              "    background-color: #3B4455;\n",
              "    fill: #D2E3FC;\n",
              "  }\n",
              "\n",
              "  [theme=dark] .colab-df-quickchart:hover {\n",
              "    background-color: #434B5C;\n",
              "    box-shadow: 0px 1px 3px 1px rgba(0, 0, 0, 0.15);\n",
              "    filter: drop-shadow(0px 1px 2px rgba(0, 0, 0, 0.3));\n",
              "    fill: #FFFFFF;\n",
              "  }\n",
              "</style>\n",
              "\n",
              "    <script>\n",
              "      async function quickchart(key) {\n",
              "        const containerElement = document.querySelector('#' + key);\n",
              "        const charts = await google.colab.kernel.invokeFunction(\n",
              "            'suggestCharts', [key], {});\n",
              "      }\n",
              "    </script>\n",
              "\n",
              "      <script>\n",
              "\n",
              "function displayQuickchartButton(domScope) {\n",
              "  let quickchartButtonEl =\n",
              "    domScope.querySelector('#df-f75d43eb-3d16-4b4a-a014-61ec597ae10c button.colab-df-quickchart');\n",
              "  quickchartButtonEl.style.display =\n",
              "    google.colab.kernel.accessAllowed ? 'block' : 'none';\n",
              "}\n",
              "\n",
              "        displayQuickchartButton(document);\n",
              "      </script>\n",
              "      <style>\n",
              "    .colab-df-container {\n",
              "      display:flex;\n",
              "      flex-wrap:wrap;\n",
              "      gap: 12px;\n",
              "    }\n",
              "\n",
              "    .colab-df-convert {\n",
              "      background-color: #E8F0FE;\n",
              "      border: none;\n",
              "      border-radius: 50%;\n",
              "      cursor: pointer;\n",
              "      display: none;\n",
              "      fill: #1967D2;\n",
              "      height: 32px;\n",
              "      padding: 0 0 0 0;\n",
              "      width: 32px;\n",
              "    }\n",
              "\n",
              "    .colab-df-convert:hover {\n",
              "      background-color: #E2EBFA;\n",
              "      box-shadow: 0px 1px 2px rgba(60, 64, 67, 0.3), 0px 1px 3px 1px rgba(60, 64, 67, 0.15);\n",
              "      fill: #174EA6;\n",
              "    }\n",
              "\n",
              "    [theme=dark] .colab-df-convert {\n",
              "      background-color: #3B4455;\n",
              "      fill: #D2E3FC;\n",
              "    }\n",
              "\n",
              "    [theme=dark] .colab-df-convert:hover {\n",
              "      background-color: #434B5C;\n",
              "      box-shadow: 0px 1px 3px 1px rgba(0, 0, 0, 0.15);\n",
              "      filter: drop-shadow(0px 1px 2px rgba(0, 0, 0, 0.3));\n",
              "      fill: #FFFFFF;\n",
              "    }\n",
              "  </style>\n",
              "\n",
              "      <script>\n",
              "        const buttonEl =\n",
              "          document.querySelector('#df-fcb92193-0b52-439d-a0e1-d8d1de2619ae button.colab-df-convert');\n",
              "        buttonEl.style.display =\n",
              "          google.colab.kernel.accessAllowed ? 'block' : 'none';\n",
              "\n",
              "        async function convertToInteractive(key) {\n",
              "          const element = document.querySelector('#df-fcb92193-0b52-439d-a0e1-d8d1de2619ae');\n",
              "          const dataTable =\n",
              "            await google.colab.kernel.invokeFunction('convertToInteractive',\n",
              "                                                     [key], {});\n",
              "          if (!dataTable) return;\n",
              "\n",
              "          const docLinkHtml = 'Like what you see? Visit the ' +\n",
              "            '<a target=\"_blank\" href=https://colab.research.google.com/notebooks/data_table.ipynb>data table notebook</a>'\n",
              "            + ' to learn more about interactive tables.';\n",
              "          element.innerHTML = '';\n",
              "          dataTable['output_type'] = 'display_data';\n",
              "          await google.colab.output.renderOutput(dataTable, element);\n",
              "          const docLink = document.createElement('div');\n",
              "          docLink.innerHTML = docLinkHtml;\n",
              "          element.appendChild(docLink);\n",
              "        }\n",
              "      </script>\n",
              "    </div>\n",
              "  </div>\n"
            ]
          },
          "metadata": {},
          "execution_count": 202
        }
      ]
    },
    {
      "cell_type": "code",
      "source": [
        "X_drive_train = final_drive[pd.notnull(X_drive.drive)]\n",
        "X_drive_test = final_drive[X_drive.drive.isna()]"
      ],
      "metadata": {
        "id": "vw6JLRUeIx-y"
      },
      "execution_count": 207,
      "outputs": []
    },
    {
      "cell_type": "code",
      "source": [
        "\n",
        "print(final_drive.shape,X_drive_train.shape,X_drive_test.shape)"
      ],
      "metadata": {
        "colab": {
          "base_uri": "https://localhost:8080/"
        },
        "id": "yhd7tftWJ7iL",
        "outputId": "d9e7cdd8-ec78-4d07-a3f5-1c6d642f311e"
      },
      "execution_count": 210,
      "outputs": [
        {
          "output_type": "stream",
          "name": "stdout",
          "text": [
            "(290129, 16) (202042, 16) (88087, 16)\n"
          ]
        }
      ]
    },
    {
      "cell_type": "code",
      "source": [
        "XX_drive_train,XX_drive_test,yy_drive_train,yy_drive_test = train_test_split(X_drive_train.drop(['drive'],axis=1),X_drive_train['drive'],\n",
        "                                                                            random_state=42,test_size=0.3)"
      ],
      "metadata": {
        "id": "51-QtsbRKCgR"
      },
      "execution_count": 211,
      "outputs": []
    },
    {
      "cell_type": "code",
      "source": [
        "forest_drive = RandomForestClassifier()\n",
        "forest_drive.fit(XX_drive_train,yy_drive_train)"
      ],
      "metadata": {
        "colab": {
          "base_uri": "https://localhost:8080/",
          "height": 75
        },
        "id": "zn1LkDUZPakg",
        "outputId": "e7e3613f-2d69-437a-d663-dfccd0c7d2db"
      },
      "execution_count": 212,
      "outputs": [
        {
          "output_type": "execute_result",
          "data": {
            "text/plain": [
              "RandomForestClassifier()"
            ],
            "text/html": [
              "<style>#sk-container-id-5 {color: black;background-color: white;}#sk-container-id-5 pre{padding: 0;}#sk-container-id-5 div.sk-toggleable {background-color: white;}#sk-container-id-5 label.sk-toggleable__label {cursor: pointer;display: block;width: 100%;margin-bottom: 0;padding: 0.3em;box-sizing: border-box;text-align: center;}#sk-container-id-5 label.sk-toggleable__label-arrow:before {content: \"▸\";float: left;margin-right: 0.25em;color: #696969;}#sk-container-id-5 label.sk-toggleable__label-arrow:hover:before {color: black;}#sk-container-id-5 div.sk-estimator:hover label.sk-toggleable__label-arrow:before {color: black;}#sk-container-id-5 div.sk-toggleable__content {max-height: 0;max-width: 0;overflow: hidden;text-align: left;background-color: #f0f8ff;}#sk-container-id-5 div.sk-toggleable__content pre {margin: 0.2em;color: black;border-radius: 0.25em;background-color: #f0f8ff;}#sk-container-id-5 input.sk-toggleable__control:checked~div.sk-toggleable__content {max-height: 200px;max-width: 100%;overflow: auto;}#sk-container-id-5 input.sk-toggleable__control:checked~label.sk-toggleable__label-arrow:before {content: \"▾\";}#sk-container-id-5 div.sk-estimator input.sk-toggleable__control:checked~label.sk-toggleable__label {background-color: #d4ebff;}#sk-container-id-5 div.sk-label input.sk-toggleable__control:checked~label.sk-toggleable__label {background-color: #d4ebff;}#sk-container-id-5 input.sk-hidden--visually {border: 0;clip: rect(1px 1px 1px 1px);clip: rect(1px, 1px, 1px, 1px);height: 1px;margin: -1px;overflow: hidden;padding: 0;position: absolute;width: 1px;}#sk-container-id-5 div.sk-estimator {font-family: monospace;background-color: #f0f8ff;border: 1px dotted black;border-radius: 0.25em;box-sizing: border-box;margin-bottom: 0.5em;}#sk-container-id-5 div.sk-estimator:hover {background-color: #d4ebff;}#sk-container-id-5 div.sk-parallel-item::after {content: \"\";width: 100%;border-bottom: 1px solid gray;flex-grow: 1;}#sk-container-id-5 div.sk-label:hover label.sk-toggleable__label {background-color: #d4ebff;}#sk-container-id-5 div.sk-serial::before {content: \"\";position: absolute;border-left: 1px solid gray;box-sizing: border-box;top: 0;bottom: 0;left: 50%;z-index: 0;}#sk-container-id-5 div.sk-serial {display: flex;flex-direction: column;align-items: center;background-color: white;padding-right: 0.2em;padding-left: 0.2em;position: relative;}#sk-container-id-5 div.sk-item {position: relative;z-index: 1;}#sk-container-id-5 div.sk-parallel {display: flex;align-items: stretch;justify-content: center;background-color: white;position: relative;}#sk-container-id-5 div.sk-item::before, #sk-container-id-5 div.sk-parallel-item::before {content: \"\";position: absolute;border-left: 1px solid gray;box-sizing: border-box;top: 0;bottom: 0;left: 50%;z-index: -1;}#sk-container-id-5 div.sk-parallel-item {display: flex;flex-direction: column;z-index: 1;position: relative;background-color: white;}#sk-container-id-5 div.sk-parallel-item:first-child::after {align-self: flex-end;width: 50%;}#sk-container-id-5 div.sk-parallel-item:last-child::after {align-self: flex-start;width: 50%;}#sk-container-id-5 div.sk-parallel-item:only-child::after {width: 0;}#sk-container-id-5 div.sk-dashed-wrapped {border: 1px dashed gray;margin: 0 0.4em 0.5em 0.4em;box-sizing: border-box;padding-bottom: 0.4em;background-color: white;}#sk-container-id-5 div.sk-label label {font-family: monospace;font-weight: bold;display: inline-block;line-height: 1.2em;}#sk-container-id-5 div.sk-label-container {text-align: center;}#sk-container-id-5 div.sk-container {/* jupyter's `normalize.less` sets `[hidden] { display: none; }` but bootstrap.min.css set `[hidden] { display: none !important; }` so we also need the `!important` here to be able to override the default hidden behavior on the sphinx rendered scikit-learn.org. See: https://github.com/scikit-learn/scikit-learn/issues/21755 */display: inline-block !important;position: relative;}#sk-container-id-5 div.sk-text-repr-fallback {display: none;}</style><div id=\"sk-container-id-5\" class=\"sk-top-container\"><div class=\"sk-text-repr-fallback\"><pre>RandomForestClassifier()</pre><b>In a Jupyter environment, please rerun this cell to show the HTML representation or trust the notebook. <br />On GitHub, the HTML representation is unable to render, please try loading this page with nbviewer.org.</b></div><div class=\"sk-container\" hidden><div class=\"sk-item\"><div class=\"sk-estimator sk-toggleable\"><input class=\"sk-toggleable__control sk-hidden--visually\" id=\"sk-estimator-id-5\" type=\"checkbox\" checked><label for=\"sk-estimator-id-5\" class=\"sk-toggleable__label sk-toggleable__label-arrow\">RandomForestClassifier</label><div class=\"sk-toggleable__content\"><pre>RandomForestClassifier()</pre></div></div></div></div></div>"
            ]
          },
          "metadata": {},
          "execution_count": 212
        }
      ]
    },
    {
      "cell_type": "code",
      "source": [
        "gradient_drive = GradientBoostingClassifier()\n",
        "gradient_drive.fit(XX_drive_train,yy_drive_train)"
      ],
      "metadata": {
        "colab": {
          "base_uri": "https://localhost:8080/",
          "height": 75
        },
        "id": "URukJDDwPqK_",
        "outputId": "23b961b5-8d39-4ca0-cfb3-0ded3ebe493f"
      },
      "execution_count": 213,
      "outputs": [
        {
          "output_type": "execute_result",
          "data": {
            "text/plain": [
              "GradientBoostingClassifier()"
            ],
            "text/html": [
              "<style>#sk-container-id-6 {color: black;background-color: white;}#sk-container-id-6 pre{padding: 0;}#sk-container-id-6 div.sk-toggleable {background-color: white;}#sk-container-id-6 label.sk-toggleable__label {cursor: pointer;display: block;width: 100%;margin-bottom: 0;padding: 0.3em;box-sizing: border-box;text-align: center;}#sk-container-id-6 label.sk-toggleable__label-arrow:before {content: \"▸\";float: left;margin-right: 0.25em;color: #696969;}#sk-container-id-6 label.sk-toggleable__label-arrow:hover:before {color: black;}#sk-container-id-6 div.sk-estimator:hover label.sk-toggleable__label-arrow:before {color: black;}#sk-container-id-6 div.sk-toggleable__content {max-height: 0;max-width: 0;overflow: hidden;text-align: left;background-color: #f0f8ff;}#sk-container-id-6 div.sk-toggleable__content pre {margin: 0.2em;color: black;border-radius: 0.25em;background-color: #f0f8ff;}#sk-container-id-6 input.sk-toggleable__control:checked~div.sk-toggleable__content {max-height: 200px;max-width: 100%;overflow: auto;}#sk-container-id-6 input.sk-toggleable__control:checked~label.sk-toggleable__label-arrow:before {content: \"▾\";}#sk-container-id-6 div.sk-estimator input.sk-toggleable__control:checked~label.sk-toggleable__label {background-color: #d4ebff;}#sk-container-id-6 div.sk-label input.sk-toggleable__control:checked~label.sk-toggleable__label {background-color: #d4ebff;}#sk-container-id-6 input.sk-hidden--visually {border: 0;clip: rect(1px 1px 1px 1px);clip: rect(1px, 1px, 1px, 1px);height: 1px;margin: -1px;overflow: hidden;padding: 0;position: absolute;width: 1px;}#sk-container-id-6 div.sk-estimator {font-family: monospace;background-color: #f0f8ff;border: 1px dotted black;border-radius: 0.25em;box-sizing: border-box;margin-bottom: 0.5em;}#sk-container-id-6 div.sk-estimator:hover {background-color: #d4ebff;}#sk-container-id-6 div.sk-parallel-item::after {content: \"\";width: 100%;border-bottom: 1px solid gray;flex-grow: 1;}#sk-container-id-6 div.sk-label:hover label.sk-toggleable__label {background-color: #d4ebff;}#sk-container-id-6 div.sk-serial::before {content: \"\";position: absolute;border-left: 1px solid gray;box-sizing: border-box;top: 0;bottom: 0;left: 50%;z-index: 0;}#sk-container-id-6 div.sk-serial {display: flex;flex-direction: column;align-items: center;background-color: white;padding-right: 0.2em;padding-left: 0.2em;position: relative;}#sk-container-id-6 div.sk-item {position: relative;z-index: 1;}#sk-container-id-6 div.sk-parallel {display: flex;align-items: stretch;justify-content: center;background-color: white;position: relative;}#sk-container-id-6 div.sk-item::before, #sk-container-id-6 div.sk-parallel-item::before {content: \"\";position: absolute;border-left: 1px solid gray;box-sizing: border-box;top: 0;bottom: 0;left: 50%;z-index: -1;}#sk-container-id-6 div.sk-parallel-item {display: flex;flex-direction: column;z-index: 1;position: relative;background-color: white;}#sk-container-id-6 div.sk-parallel-item:first-child::after {align-self: flex-end;width: 50%;}#sk-container-id-6 div.sk-parallel-item:last-child::after {align-self: flex-start;width: 50%;}#sk-container-id-6 div.sk-parallel-item:only-child::after {width: 0;}#sk-container-id-6 div.sk-dashed-wrapped {border: 1px dashed gray;margin: 0 0.4em 0.5em 0.4em;box-sizing: border-box;padding-bottom: 0.4em;background-color: white;}#sk-container-id-6 div.sk-label label {font-family: monospace;font-weight: bold;display: inline-block;line-height: 1.2em;}#sk-container-id-6 div.sk-label-container {text-align: center;}#sk-container-id-6 div.sk-container {/* jupyter's `normalize.less` sets `[hidden] { display: none; }` but bootstrap.min.css set `[hidden] { display: none !important; }` so we also need the `!important` here to be able to override the default hidden behavior on the sphinx rendered scikit-learn.org. See: https://github.com/scikit-learn/scikit-learn/issues/21755 */display: inline-block !important;position: relative;}#sk-container-id-6 div.sk-text-repr-fallback {display: none;}</style><div id=\"sk-container-id-6\" class=\"sk-top-container\"><div class=\"sk-text-repr-fallback\"><pre>GradientBoostingClassifier()</pre><b>In a Jupyter environment, please rerun this cell to show the HTML representation or trust the notebook. <br />On GitHub, the HTML representation is unable to render, please try loading this page with nbviewer.org.</b></div><div class=\"sk-container\" hidden><div class=\"sk-item\"><div class=\"sk-estimator sk-toggleable\"><input class=\"sk-toggleable__control sk-hidden--visually\" id=\"sk-estimator-id-6\" type=\"checkbox\" checked><label for=\"sk-estimator-id-6\" class=\"sk-toggleable__label sk-toggleable__label-arrow\">GradientBoostingClassifier</label><div class=\"sk-toggleable__content\"><pre>GradientBoostingClassifier()</pre></div></div></div></div></div>"
            ]
          },
          "metadata": {},
          "execution_count": 213
        }
      ]
    },
    {
      "cell_type": "code",
      "source": [
        "model1_pred = forest_drive.predict(XX_drive_test)\n",
        "\n",
        "print('accuracy_score = ',accuracy_score(yy_drive_test,model1_pred))\n",
        "\n",
        "print('f1_score = ',f1_score(yy_drive_test,model1_pred,average='micro'))"
      ],
      "metadata": {
        "colab": {
          "base_uri": "https://localhost:8080/"
        },
        "id": "1Qhib2x_P56n",
        "outputId": "b5ac5c65-420e-412e-c81b-daa13246f9d5"
      },
      "execution_count": 214,
      "outputs": [
        {
          "output_type": "stream",
          "name": "stdout",
          "text": [
            "accuracy_score =  0.8700443799184994\n",
            "f1_score =  0.8700443799184994\n"
          ]
        }
      ]
    },
    {
      "cell_type": "code",
      "source": [
        "model2_pred = gradient_drive.predict(XX_drive_test)\n",
        "\n",
        "print('accuracy_score = ',accuracy_score(yy_drive_test,model2_pred))\n",
        "\n",
        "print('f1_score = ',f1_score(yy_drive_test,model2_pred,average='micro'))"
      ],
      "metadata": {
        "colab": {
          "base_uri": "https://localhost:8080/"
        },
        "id": "cBs3r6oFQQcZ",
        "outputId": "24c8fe9b-2137-44ba-8e42-b56e44608009"
      },
      "execution_count": 215,
      "outputs": [
        {
          "output_type": "stream",
          "name": "stdout",
          "text": [
            "accuracy_score =  0.7369376206424364\n",
            "f1_score =  0.7369376206424365\n"
          ]
        }
      ]
    },
    {
      "cell_type": "code",
      "source": [
        "X_drive_test = X_drive_test.drop(['drive'],axis=1)\n",
        "\n",
        "nan_drive_values = forest_drive.predict(X_drive_test)"
      ],
      "metadata": {
        "id": "DdOkwqEdQYYR"
      },
      "execution_count": 217,
      "outputs": []
    },
    {
      "cell_type": "code",
      "source": [
        "nan_drive_index = X[X.drive.isna()].index\n",
        "\n",
        "X.loc[nan_drive_index,'drive'] = nan_drive_values"
      ],
      "metadata": {
        "id": "EGzQm-tWQ4Gq"
      },
      "execution_count": 218,
      "outputs": []
    },
    {
      "cell_type": "markdown",
      "source": [],
      "metadata": {
        "id": "Smuej0DQSNK0"
      }
    },
    {
      "cell_type": "code",
      "source": [
        "X.isna().sum()"
      ],
      "metadata": {
        "colab": {
          "base_uri": "https://localhost:8080/"
        },
        "id": "jGPJDWolRrlA",
        "outputId": "ab56e737-9469-47c2-f12e-7b93edde6b20"
      },
      "execution_count": 220,
      "outputs": [
        {
          "output_type": "execute_result",
          "data": {
            "text/plain": [
              "id                   0\n",
              "year                 0\n",
              "manufacturer         0\n",
              "model                0\n",
              "condition       116104\n",
              "cylinders            0\n",
              "fuel                 0\n",
              "odometer             0\n",
              "title_status         0\n",
              "transmission         0\n",
              "drive                0\n",
              "size            207684\n",
              "type             62596\n",
              "paint_color      87113\n",
              "state                0\n",
              "lat               4403\n",
              "long              4403\n",
              "posting_date         0\n",
              "dtype: int64"
            ]
          },
          "metadata": {},
          "execution_count": 220
        }
      ]
    },
    {
      "cell_type": "code",
      "source": [
        "X['type'].value_counts()"
      ],
      "metadata": {
        "colab": {
          "base_uri": "https://localhost:8080/"
        },
        "id": "l-e17SlRRt8c",
        "outputId": "a3e108db-3224-4e61-b559-2cbbdb6c3b16"
      },
      "execution_count": 221,
      "outputs": [
        {
          "output_type": "execute_result",
          "data": {
            "text/plain": [
              "sedan          59518\n",
              "SUV            52769\n",
              "pickup         29145\n",
              "truck          24431\n",
              "other          14439\n",
              "coupe          13139\n",
              "hatchback      11481\n",
              "wagon           7382\n",
              "van             5843\n",
              "convertible     5320\n",
              "mini-van        3297\n",
              "offroad          415\n",
              "bus              354\n",
              "Name: type, dtype: int64"
            ]
          },
          "metadata": {},
          "execution_count": 221
        }
      ]
    },
    {
      "cell_type": "code",
      "source": [],
      "metadata": {
        "id": "95-c8nGRR36Q"
      },
      "execution_count": null,
      "outputs": []
    }
  ],
  "metadata": {
    "kernelspec": {
      "display_name": "Python 3",
      "name": "python3"
    },
    "language_info": {
      "codemirror_mode": {
        "name": "ipython",
        "version": 3
      },
      "file_extension": ".py",
      "mimetype": "text/x-python",
      "name": "python",
      "nbconvert_exporter": "python",
      "pygments_lexer": "ipython3",
      "version": "3.9.16"
    },
    "colab": {
      "provenance": [],
      "collapsed_sections": [
        "ONFtNQeXEgvV"
      ],
      "gpuType": "T4"
    }
  },
  "nbformat": 4,
  "nbformat_minor": 0
}