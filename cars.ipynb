{
 "cells": [
  {
   "cell_type": "code",
   "execution_count": 1,
   "metadata": {},
   "outputs": [],
   "source": [
    "import pandas as pd\n",
    "import numpy as np\n",
    "import seaborn as sns\n",
    "import matplotlib.pyplot as plt\n",
    "from sklearn.impute import SimpleImputer\n",
    "from sklearn.preprocessing import LabelEncoder, OneHotEncoder\n",
    "from sklearn.model_selection import train_test_split\n",
    "from sklearn.ensemble import RandomForestRegressor, GradientBoostingRegressor\n",
    "from sklearn.svm import SVR\n",
    "from sklearn.linear_model import LinearRegression, Ridge, Lasso, ElasticNet\n",
    "from sklearn.neighbors import KNeighborsRegressor\n",
    "from sklearn.metrics import mean_squared_error, r2_score"
   ]
  },
  {
   "cell_type": "code",
   "execution_count": 2,
   "metadata": {},
   "outputs": [],
   "source": [
    "# Load the data\n",
    "test_data = pd.read_csv('test.csv')\n",
    "train_data = pd.read_csv('train.csv')"
   ]
  },
  {
   "cell_type": "code",
   "execution_count": 3,
   "metadata": {
    "scrolled": true
   },
   "outputs": [
    {
     "name": "stdout",
     "output_type": "stream",
     "text": [
      "Unnamed: 0           0\n",
      "id                   0\n",
      "year                 0\n",
      "manufacturer     11342\n",
      "model                0\n",
      "condition       116104\n",
      "cylinders       119300\n",
      "fuel              1453\n",
      "odometer             0\n",
      "title_status      5066\n",
      "transmission         0\n",
      "drive            88087\n",
      "size            207684\n",
      "type             62596\n",
      "paint_color      87113\n",
      "state                0\n",
      "lat               4403\n",
      "long              4403\n",
      "posting_date         0\n",
      "price                0\n",
      "dtype: int64\n"
     ]
    }
   ],
   "source": [
    "# Check for missing values in the dataset\n",
    "missing_values = train_data.isnull().sum()\n",
    "print(missing_values)"
   ]
  },
  {
   "cell_type": "code",
   "execution_count": 4,
   "metadata": {},
   "outputs": [],
   "source": [
    "# Handling missing values for numerical columns (e.g., cylinders, lat, long)\n",
    "numerical_cols = ['lat', 'long']\n",
    "\n",
    "# Create a SimpleImputer for numerical columns using median strategy\n",
    "numerical_imputer = SimpleImputer(strategy='median')\n",
    "\n",
    "# Impute missing values for numerical columns\n",
    "train_data[numerical_cols] = numerical_imputer.fit_transform(train_data[numerical_cols])\n",
    "\n",
    "# Handling missing values for the 'cylinders' column\n",
    "# Extract the numeric part of the 'cylinders' column\n",
    "train_data['cylinders'] = train_data['cylinders'].str.extract(r'(\\d+)')\n",
    "\n",
    "# Convert the 'cylinders' column to numeric\n",
    "train_data['cylinders'] = pd.to_numeric(train_data['cylinders'], errors='coerce')\n",
    "\n",
    "# Create a new SimpleImputer for the 'cylinders' column using median strategy\n",
    "cylinders_imputer = SimpleImputer(strategy='median')\n",
    "\n",
    "# Impute missing values for the 'cylinders' column\n",
    "train_data['cylinders'] = cylinders_imputer.fit_transform(train_data[['cylinders']])\n",
    "\n",
    "# Handling missing values for categorical columns (e.g., manufacturer, condition, fuel, etc.)\n",
    "categorical_cols = ['manufacturer', 'condition', 'fuel', 'title_status', 'drive', 'size', 'type', 'paint_color']\n",
    "\n",
    "# Create a SimpleImputer for categorical columns using the most frequent strategy\n",
    "categorical_imputer = SimpleImputer(strategy='most_frequent')\n",
    "\n",
    "# Impute missing values for categorical columns\n",
    "train_data[categorical_cols] = categorical_imputer.fit_transform(train_data[categorical_cols])\n"
   ]
  },
  {
   "cell_type": "code",
   "execution_count": 5,
   "metadata": {},
   "outputs": [
    {
     "name": "stderr",
     "output_type": "stream",
     "text": [
      "/private/var/containers/Bundle/Application/DB992294-60C1-43B5-8990-393B3E38DA06/Carnets-sci.app/Library/lib/python3.11/site-packages/sklearn/utils/deprecation.py:87: FutureWarning: Function get_feature_names is deprecated; get_feature_names is deprecated in 1.0 and will be removed in 1.2. Please use get_feature_names_out instead.\n",
      "  warnings.warn(msg, category=FutureWarning)\n"
     ]
    }
   ],
   "source": [
    "# Encode categorical columns using OneHotEncoder\n",
    "encoder = OneHotEncoder(handle_unknown='ignore', sparse=False)\n",
    "encoded_features = pd.DataFrame(encoder.fit_transform(train_data[categorical_cols]))\n",
    "encoded_features.columns = encoder.get_feature_names(categorical_cols)\n",
    "\n",
    "# Concatenate the encoded features with the original numerical columns\n",
    "train_data_encoded = pd.concat([train_data[numerical_cols], encoded_features], axis=1)"
   ]
  },
  {
   "cell_type": "code",
   "execution_count": 6,
   "metadata": {},
   "outputs": [],
   "source": [
    "# Define the target variable (price)\n",
    "y = train_data['price']\n",
    "\n",
    "# Split the data into training and testing sets\n",
    "X_train, X_test, y_train, y_test = train_test_split(train_data_encoded, y, test_size=0.2, random_state=42)"
   ]
  },
  {
   "cell_type": "code",
   "execution_count": 26,
   "metadata": {},
   "outputs": [],
   "source": [
    "# Define the models to be tested\n",
    "models = {\n",
    "#     'Random Forest': RandomForestRegressor(n_estimators=100, random_state=42),\n",
    "#     'Gradient Boosting': GradientBoostingRegressor(n_estimators=100, random_state=42),\n",
    "    'SVR': SVR(),\n",
    "#     'Linear Regression': LinearRegression(),\n",
    "#     'Ridge Regression': Ridge(),\n",
    "#     'Lasso Regression': Lasso(),\n",
    "#     'ElasticNet Regression': ElasticNet(),\n",
    "#     'K-Nearest Neighbors': KNeighborsRegressor()\n",
    "}"
   ]
  },
  {
   "cell_type": "code",
   "execution_count": null,
   "metadata": {},
   "outputs": [],
   "source": [
    "# Train and evaluate each model\n",
    "results = {}\n",
    "for model_name, model in models.items():\n",
    "    model.fit(X_train, y_train)\n",
    "    y_pred = model.predict(X_test)\n",
    "    mse = mean_squared_error(y_test, y_pred)\n",
    "    r2 = r2_score(y_test, y_pred)\n",
    "    results[model_name] = {'MSE': mse, 'R-squared': r2}\n",
    "    print(results[model_name])"
   ]
  },
  {
   "cell_type": "code",
   "execution_count": null,
   "metadata": {},
   "outputs": [],
   "source": [
    "# Display the results\n",
    "for model_name, result in results.items():\n",
    "    print(f\"{model_name}:\")\n",
    "    print(f\"  MSE: {result['MSE']:.2f}\")\n",
    "    print(f\"  R-squared: {result['R-squared']:.4f}\")\n",
    "    print()"
   ]
  },
  {
   "cell_type": "code",
   "execution_count": null,
   "metadata": {},
   "outputs": [],
   "source": []
  },
  {
   "cell_type": "code",
   "execution_count": null,
   "metadata": {},
   "outputs": [],
   "source": []
  }
 ],
 "metadata": {
  "kernelspec": {
   "display_name": "Python 3 (ipykernel)",
   "language": "python",
   "name": "python3"
  },
  "language_info": {
   "codemirror_mode": {
    "name": "ipython",
    "version": 3
   },
   "file_extension": ".py",
   "mimetype": "text/x-python",
   "name": "python",
   "nbconvert_exporter": "python",
   "pygments_lexer": "ipython3",
   "version": "3.11.0"
  }
 },
 "nbformat": 4,
 "nbformat_minor": 2
}
