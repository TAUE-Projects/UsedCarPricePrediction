{
  "cells": [
    {
      "cell_type": "code",
      "execution_count": 1,
      "id": "35e85b6e",
      "metadata": {
        "id": "35e85b6e"
      },
      "outputs": [],
      "source": [
        "import numpy as np\n",
        "import pandas as pd\n",
        "import matplotlib.pyplot as plt\n",
        "import seaborn as sns\n",
        "%matplotlib inline\n",
        "\n",
        "\n",
        "# modeling\n",
        "from sklearn.model_selection import train_test_split\n",
        "from sklearn.linear_model import LinearRegression"
      ]
    },
    {
      "cell_type": "code",
      "execution_count": 2,
      "id": "d75a8792",
      "metadata": {
        "id": "d75a8792"
      },
      "outputs": [],
      "source": [
        "train = pd.read_csv('train.csv')\n",
        "test = pd.read_csv('test.csv')"
      ]
    },
    {
      "cell_type": "markdown",
      "id": "71e17315",
      "metadata": {
        "id": "71e17315"
      },
      "source": [
        "### Univariate analysis (before data cleaning)"
      ]
    },
    {
      "cell_type": "code",
      "execution_count": 3,
      "id": "4eb24335",
      "metadata": {
        "colab": {
          "base_uri": "https://localhost:8080/"
        },
        "id": "4eb24335",
        "outputId": "be5c3f76-e9e2-49d6-c3ea-d788927eb2d7"
      },
      "outputs": [
        {
          "name": "stdout",
          "output_type": "stream",
          "text": [
            "<class 'pandas.core.frame.DataFrame'>\n",
            "RangeIndex: 290129 entries, 0 to 290128\n",
            "Data columns (total 20 columns):\n",
            " #   Column        Non-Null Count   Dtype  \n",
            "---  ------        --------------   -----  \n",
            " 0   Unnamed: 0    290129 non-null  int64  \n",
            " 1   id            290129 non-null  int64  \n",
            " 2   year          290129 non-null  float64\n",
            " 3   manufacturer  278787 non-null  object \n",
            " 4   model         290129 non-null  object \n",
            " 5   condition     174025 non-null  object \n",
            " 6   cylinders     170829 non-null  object \n",
            " 7   fuel          288676 non-null  object \n",
            " 8   odometer      290129 non-null  float64\n",
            " 9   title_status  285063 non-null  object \n",
            " 10  transmission  290129 non-null  object \n",
            " 11  drive         202042 non-null  object \n",
            " 12  size          82445 non-null   object \n",
            " 13  type          227533 non-null  object \n",
            " 14  paint_color   203016 non-null  object \n",
            " 15  state         290129 non-null  object \n",
            " 16  lat           285726 non-null  float64\n",
            " 17  long          285726 non-null  float64\n",
            " 18  posting_date  290129 non-null  object \n",
            " 19  price         290129 non-null  int64  \n",
            "dtypes: float64(4), int64(3), object(13)\n",
            "memory usage: 44.3+ MB\n"
          ]
        }
      ],
      "source": [
        "train.info()"
      ]
    },
    {
      "cell_type": "markdown",
      "id": "4a5c832c",
      "metadata": {
        "id": "4a5c832c"
      },
      "source": [
        "### Data cleaning"
      ]
    },
    {
      "cell_type": "code",
      "execution_count": 4,
      "id": "fbc9352b",
      "metadata": {
        "id": "fbc9352b"
      },
      "outputs": [],
      "source": [
        "train.drop(['Unnamed: 0','id','lat','long'],axis=1,inplace = True)\n",
        "test.drop(['Unnamed: 0','id','lat','long'],axis=1,inplace = True)"
      ]
    },
    {
      "cell_type": "code",
      "execution_count": 5,
      "id": "7937107a",
      "metadata": {
        "id": "7937107a"
      },
      "outputs": [],
      "source": [
        "train.drop(['posting_date'],axis=1,inplace = True)\n",
        "test.drop(['posting_date'],axis=1,inplace = True)"
      ]
    },
    {
      "cell_type": "code",
      "execution_count": 6,
      "id": "d9aad7ff",
      "metadata": {
        "colab": {
          "base_uri": "https://localhost:8080/"
        },
        "id": "d9aad7ff",
        "outputId": "a0aa841b-588c-4c1b-c0d7-44ef716ca730"
      },
      "outputs": [
        {
          "data": {
            "text/plain": [
              "year                 0\n",
              "manufacturer     11342\n",
              "model                0\n",
              "condition       116104\n",
              "cylinders       119300\n",
              "fuel              1453\n",
              "odometer             0\n",
              "title_status      5066\n",
              "transmission         0\n",
              "drive            88087\n",
              "size            207684\n",
              "type             62596\n",
              "paint_color      87113\n",
              "state                0\n",
              "price                0\n",
              "dtype: int64"
            ]
          },
          "execution_count": 6,
          "metadata": {},
          "output_type": "execute_result"
        }
      ],
      "source": [
        "train.isna().sum()"
      ]
    },
    {
      "cell_type": "code",
      "execution_count": 7,
      "id": "78b9e555",
      "metadata": {
        "id": "78b9e555"
      },
      "outputs": [],
      "source": [
        "# impute null values using eterative imputer\n",
        "\n",
        "from sklearn.experimental import enable_iterative_imputer\n",
        "from sklearn.impute import IterativeImputer\n",
        "# import estimator as BayesianRidge\n",
        "from sklearn.linear_model import BayesianRidge\n",
        "from sklearn.preprocessing import LabelEncoder\n",
        "\n",
        "import warnings\n",
        "warnings.filterwarnings(action='ignore')\n"
      ]
    },
    {
      "cell_type": "code",
      "execution_count": 8,
      "id": "666a4e90",
      "metadata": {
        "colab": {
          "base_uri": "https://localhost:8080/",
          "height": 156
        },
        "id": "666a4e90",
        "outputId": "6eb87066-305a-433e-883e-ae3b4eb9bfe0"
      },
      "outputs": [
        {
          "data": {
            "text/html": [
              "<div>\n",
              "<style scoped>\n",
              "    .dataframe tbody tr th:only-of-type {\n",
              "        vertical-align: middle;\n",
              "    }\n",
              "\n",
              "    .dataframe tbody tr th {\n",
              "        vertical-align: top;\n",
              "    }\n",
              "\n",
              "    .dataframe thead th {\n",
              "        text-align: right;\n",
              "    }\n",
              "</style>\n",
              "<table border=\"1\" class=\"dataframe\">\n",
              "  <thead>\n",
              "    <tr style=\"text-align: right;\">\n",
              "      <th></th>\n",
              "      <th>year</th>\n",
              "      <th>manufacturer</th>\n",
              "      <th>model</th>\n",
              "      <th>condition</th>\n",
              "      <th>cylinders</th>\n",
              "      <th>fuel</th>\n",
              "      <th>odometer</th>\n",
              "      <th>title_status</th>\n",
              "      <th>transmission</th>\n",
              "      <th>drive</th>\n",
              "      <th>size</th>\n",
              "      <th>type</th>\n",
              "      <th>paint_color</th>\n",
              "      <th>state</th>\n",
              "      <th>price</th>\n",
              "    </tr>\n",
              "  </thead>\n",
              "  <tbody>\n",
              "    <tr>\n",
              "      <th>0</th>\n",
              "      <td>2007.0</td>\n",
              "      <td>infiniti</td>\n",
              "      <td>m45</td>\n",
              "      <td>excellent</td>\n",
              "      <td>NaN</td>\n",
              "      <td>gas</td>\n",
              "      <td>214740.0</td>\n",
              "      <td>clean</td>\n",
              "      <td>automatic</td>\n",
              "      <td>rwd</td>\n",
              "      <td>NaN</td>\n",
              "      <td>sedan</td>\n",
              "      <td>black</td>\n",
              "      <td>ga</td>\n",
              "      <td>7995</td>\n",
              "    </tr>\n",
              "    <tr>\n",
              "      <th>1</th>\n",
              "      <td>2008.0</td>\n",
              "      <td>cadillac</td>\n",
              "      <td>escalade</td>\n",
              "      <td>NaN</td>\n",
              "      <td>NaN</td>\n",
              "      <td>gas</td>\n",
              "      <td>170276.0</td>\n",
              "      <td>clean</td>\n",
              "      <td>automatic</td>\n",
              "      <td>NaN</td>\n",
              "      <td>NaN</td>\n",
              "      <td>SUV</td>\n",
              "      <td>black</td>\n",
              "      <td>wa</td>\n",
              "      <td>14999</td>\n",
              "    </tr>\n",
              "  </tbody>\n",
              "</table>\n",
              "</div>"
            ],
            "text/plain": [
              "     year manufacturer     model  condition cylinders fuel  odometer  \\\n",
              "0  2007.0     infiniti       m45  excellent       NaN  gas  214740.0   \n",
              "1  2008.0     cadillac  escalade        NaN       NaN  gas  170276.0   \n",
              "\n",
              "  title_status transmission drive size   type paint_color state  price  \n",
              "0        clean    automatic   rwd  NaN  sedan       black    ga   7995  \n",
              "1        clean    automatic   NaN  NaN    SUV       black    wa  14999  "
            ]
          },
          "execution_count": 8,
          "metadata": {},
          "output_type": "execute_result"
        }
      ],
      "source": [
        "train.head(2)"
      ]
    },
    {
      "cell_type": "code",
      "execution_count": 9,
      "id": "60a1b897",
      "metadata": {
        "id": "60a1b897"
      },
      "outputs": [],
      "source": [
        "# splitting the data into categorical and numerical columns\n",
        "num_columns =['year','odometer']\n",
        "cat_columns = ['size','manufacturer','model','condition','cylinders','fuel','title_status','transmission','drive','type','paint_color','state']"
      ]
    },
    {
      "cell_type": "code",
      "execution_count": 10,
      "id": "80dfd321",
      "metadata": {
        "id": "80dfd321"
      },
      "outputs": [],
      "source": [
        "# change Year column to represent int type\n",
        "train.year = train.year.astype('int64')\n",
        "test.year = test.year.astype('int64')"
      ]
    },
    {
      "cell_type": "code",
      "execution_count": 11,
      "id": "0e5f0627",
      "metadata": {
        "id": "0e5f0627",
        "scrolled": false
      },
      "outputs": [],
      "source": [
        "# create function to encode data using label encoding becasue iterative methode runs with\n",
        "# numerical values only\n",
        "\n",
        "sample = train.copy()\n",
        "encoder = LabelEncoder()\n",
        "\n",
        "\n",
        "def encod(column):\n",
        "    n_nulls = pd.notnull(column)\n",
        "    encoded_column = encoder.fit_transform(column[n_nulls])\n",
        "    column.loc[n_nulls] = encoded_column\n",
        "    return column\n",
        "\n",
        "for col in cat_columns:\n",
        "    sample[col] = encod(sample[col])"
      ]
    },
    {
      "cell_type": "code",
      "execution_count": 12,
      "id": "a36496aa",
      "metadata": {
        "colab": {
          "base_uri": "https://localhost:8080/",
          "height": 250
        },
        "id": "a36496aa",
        "outputId": "1f6feae4-f064-4d03-e09d-71eca7caae26"
      },
      "outputs": [
        {
          "data": {
            "text/html": [
              "<div>\n",
              "<style scoped>\n",
              "    .dataframe tbody tr th:only-of-type {\n",
              "        vertical-align: middle;\n",
              "    }\n",
              "\n",
              "    .dataframe tbody tr th {\n",
              "        vertical-align: top;\n",
              "    }\n",
              "\n",
              "    .dataframe thead th {\n",
              "        text-align: right;\n",
              "    }\n",
              "</style>\n",
              "<table border=\"1\" class=\"dataframe\">\n",
              "  <thead>\n",
              "    <tr style=\"text-align: right;\">\n",
              "      <th></th>\n",
              "      <th>year</th>\n",
              "      <th>manufacturer</th>\n",
              "      <th>model</th>\n",
              "      <th>condition</th>\n",
              "      <th>cylinders</th>\n",
              "      <th>fuel</th>\n",
              "      <th>odometer</th>\n",
              "      <th>title_status</th>\n",
              "      <th>transmission</th>\n",
              "      <th>drive</th>\n",
              "      <th>size</th>\n",
              "      <th>type</th>\n",
              "      <th>paint_color</th>\n",
              "      <th>state</th>\n",
              "      <th>price</th>\n",
              "    </tr>\n",
              "  </thead>\n",
              "  <tbody>\n",
              "    <tr>\n",
              "      <th>0</th>\n",
              "      <td>2007</td>\n",
              "      <td>18</td>\n",
              "      <td>15798</td>\n",
              "      <td>0</td>\n",
              "      <td>NaN</td>\n",
              "      <td>2</td>\n",
              "      <td>214740.0</td>\n",
              "      <td>0</td>\n",
              "      <td>0</td>\n",
              "      <td>2</td>\n",
              "      <td>NaN</td>\n",
              "      <td>9</td>\n",
              "      <td>0</td>\n",
              "      <td>10</td>\n",
              "      <td>7995</td>\n",
              "    </tr>\n",
              "    <tr>\n",
              "      <th>1</th>\n",
              "      <td>2008</td>\n",
              "      <td>6</td>\n",
              "      <td>10830</td>\n",
              "      <td>NaN</td>\n",
              "      <td>NaN</td>\n",
              "      <td>2</td>\n",
              "      <td>170276.0</td>\n",
              "      <td>0</td>\n",
              "      <td>0</td>\n",
              "      <td>NaN</td>\n",
              "      <td>NaN</td>\n",
              "      <td>0</td>\n",
              "      <td>0</td>\n",
              "      <td>47</td>\n",
              "      <td>14999</td>\n",
              "    </tr>\n",
              "    <tr>\n",
              "      <th>2</th>\n",
              "      <td>2003</td>\n",
              "      <td>23</td>\n",
              "      <td>10786</td>\n",
              "      <td>NaN</td>\n",
              "      <td>NaN</td>\n",
              "      <td>2</td>\n",
              "      <td>176910.0</td>\n",
              "      <td>0</td>\n",
              "      <td>0</td>\n",
              "      <td>1</td>\n",
              "      <td>NaN</td>\n",
              "      <td>9</td>\n",
              "      <td>NaN</td>\n",
              "      <td>27</td>\n",
              "      <td>5995</td>\n",
              "    </tr>\n",
              "    <tr>\n",
              "      <th>3</th>\n",
              "      <td>2017</td>\n",
              "      <td>4</td>\n",
              "      <td>2061</td>\n",
              "      <td>0</td>\n",
              "      <td>NaN</td>\n",
              "      <td>2</td>\n",
              "      <td>41000.0</td>\n",
              "      <td>0</td>\n",
              "      <td>0</td>\n",
              "      <td>0</td>\n",
              "      <td>NaN</td>\n",
              "      <td>0</td>\n",
              "      <td>NaN</td>\n",
              "      <td>4</td>\n",
              "      <td>0</td>\n",
              "    </tr>\n",
              "    <tr>\n",
              "      <th>4</th>\n",
              "      <td>2008</td>\n",
              "      <td>38</td>\n",
              "      <td>18455</td>\n",
              "      <td>2</td>\n",
              "      <td>5</td>\n",
              "      <td>2</td>\n",
              "      <td>138900.0</td>\n",
              "      <td>0</td>\n",
              "      <td>0</td>\n",
              "      <td>0</td>\n",
              "      <td>1</td>\n",
              "      <td>0</td>\n",
              "      <td>9</td>\n",
              "      <td>38</td>\n",
              "      <td>7995</td>\n",
              "    </tr>\n",
              "  </tbody>\n",
              "</table>\n",
              "</div>"
            ],
            "text/plain": [
              "   year manufacturer  model condition cylinders fuel  odometer title_status  \\\n",
              "0  2007           18  15798         0       NaN    2  214740.0            0   \n",
              "1  2008            6  10830       NaN       NaN    2  170276.0            0   \n",
              "2  2003           23  10786       NaN       NaN    2  176910.0            0   \n",
              "3  2017            4   2061         0       NaN    2   41000.0            0   \n",
              "4  2008           38  18455         2         5    2  138900.0            0   \n",
              "\n",
              "  transmission drive size type paint_color state  price  \n",
              "0            0     2  NaN    9           0    10   7995  \n",
              "1            0   NaN  NaN    0           0    47  14999  \n",
              "2            0     1  NaN    9         NaN    27   5995  \n",
              "3            0     0  NaN    0         NaN     4      0  \n",
              "4            0     0    1    0           9    38   7995  "
            ]
          },
          "execution_count": 12,
          "metadata": {},
          "output_type": "execute_result"
        }
      ],
      "source": [
        "sample.head()"
      ]
    },
    {
      "cell_type": "markdown",
      "id": "60595870",
      "metadata": {
        "id": "60595870"
      },
      "source": [
        "Great that works !!!!!!!!!\n",
        "\n",
        "\n",
        "now we will impute train and test data with iterateve imputer"
      ]
    },
    {
      "cell_type": "code",
      "execution_count": 13,
      "id": "65f86d9a",
      "metadata": {
        "id": "65f86d9a"
      },
      "outputs": [],
      "source": [
        "imputer = IterativeImputer(estimator=BayesianRidge())\n",
        "train_cat = train[cat_columns]\n",
        "test_cat = test[cat_columns]"
      ]
    },
    {
      "cell_type": "code",
      "execution_count": null,
      "id": "52e8b30e",
      "metadata": {
        "id": "52e8b30e",
        "scrolled": true
      },
      "outputs": [],
      "source": []
    },
    {
      "cell_type": "code",
      "execution_count": 14,
      "id": "44e62ebd",
      "metadata": {
        "colab": {
          "base_uri": "https://localhost:8080/",
          "height": 589
        },
        "id": "44e62ebd",
        "outputId": "794abed5-41f4-4d08-f162-b81fe7277bda"
      },
      "outputs": [
        {
          "data": {
            "text/html": [
              "<div>\n",
              "<style scoped>\n",
              "    .dataframe tbody tr th:only-of-type {\n",
              "        vertical-align: middle;\n",
              "    }\n",
              "\n",
              "    .dataframe tbody tr th {\n",
              "        vertical-align: top;\n",
              "    }\n",
              "\n",
              "    .dataframe thead th {\n",
              "        text-align: right;\n",
              "    }\n",
              "</style>\n",
              "<table border=\"1\" class=\"dataframe\">\n",
              "  <thead>\n",
              "    <tr style=\"text-align: right;\">\n",
              "      <th></th>\n",
              "      <th>year</th>\n",
              "      <th>manufacturer</th>\n",
              "      <th>model</th>\n",
              "      <th>condition</th>\n",
              "      <th>cylinders</th>\n",
              "      <th>fuel</th>\n",
              "      <th>odometer</th>\n",
              "      <th>title_status</th>\n",
              "      <th>transmission</th>\n",
              "      <th>drive</th>\n",
              "      <th>size</th>\n",
              "      <th>type</th>\n",
              "      <th>paint_color</th>\n",
              "      <th>state</th>\n",
              "    </tr>\n",
              "  </thead>\n",
              "  <tbody>\n",
              "    <tr>\n",
              "      <th>0</th>\n",
              "      <td>2018</td>\n",
              "      <td>honda</td>\n",
              "      <td>civic</td>\n",
              "      <td>NaN</td>\n",
              "      <td>4 cylinders</td>\n",
              "      <td>gas</td>\n",
              "      <td>28898.0</td>\n",
              "      <td>clean</td>\n",
              "      <td>automatic</td>\n",
              "      <td>fwd</td>\n",
              "      <td>NaN</td>\n",
              "      <td>sedan</td>\n",
              "      <td>NaN</td>\n",
              "      <td>or</td>\n",
              "    </tr>\n",
              "    <tr>\n",
              "      <th>1</th>\n",
              "      <td>2017</td>\n",
              "      <td>cadillac</td>\n",
              "      <td>cts 2.0 luxury sedan 4d</td>\n",
              "      <td>good</td>\n",
              "      <td>NaN</td>\n",
              "      <td>gas</td>\n",
              "      <td>41147.0</td>\n",
              "      <td>clean</td>\n",
              "      <td>other</td>\n",
              "      <td>NaN</td>\n",
              "      <td>NaN</td>\n",
              "      <td>sedan</td>\n",
              "      <td>red</td>\n",
              "      <td>fl</td>\n",
              "    </tr>\n",
              "    <tr>\n",
              "      <th>2</th>\n",
              "      <td>2006</td>\n",
              "      <td>toyota</td>\n",
              "      <td>sienna</td>\n",
              "      <td>excellent</td>\n",
              "      <td>6 cylinders</td>\n",
              "      <td>gas</td>\n",
              "      <td>165500.0</td>\n",
              "      <td>clean</td>\n",
              "      <td>automatic</td>\n",
              "      <td>NaN</td>\n",
              "      <td>NaN</td>\n",
              "      <td>mini-van</td>\n",
              "      <td>grey</td>\n",
              "      <td>tx</td>\n",
              "    </tr>\n",
              "    <tr>\n",
              "      <th>3</th>\n",
              "      <td>2016</td>\n",
              "      <td>mitsubishi</td>\n",
              "      <td>outlander sel sport</td>\n",
              "      <td>good</td>\n",
              "      <td>NaN</td>\n",
              "      <td>other</td>\n",
              "      <td>29430.0</td>\n",
              "      <td>clean</td>\n",
              "      <td>other</td>\n",
              "      <td>NaN</td>\n",
              "      <td>NaN</td>\n",
              "      <td>SUV</td>\n",
              "      <td>white</td>\n",
              "      <td>wi</td>\n",
              "    </tr>\n",
              "    <tr>\n",
              "      <th>4</th>\n",
              "      <td>2017</td>\n",
              "      <td>audi</td>\n",
              "      <td>a6 3.0t premium plus sedan</td>\n",
              "      <td>good</td>\n",
              "      <td>6 cylinders</td>\n",
              "      <td>gas</td>\n",
              "      <td>24238.0</td>\n",
              "      <td>clean</td>\n",
              "      <td>automatic</td>\n",
              "      <td>NaN</td>\n",
              "      <td>NaN</td>\n",
              "      <td>sedan</td>\n",
              "      <td>white</td>\n",
              "      <td>pa</td>\n",
              "    </tr>\n",
              "    <tr>\n",
              "      <th>...</th>\n",
              "      <td>...</td>\n",
              "      <td>...</td>\n",
              "      <td>...</td>\n",
              "      <td>...</td>\n",
              "      <td>...</td>\n",
              "      <td>...</td>\n",
              "      <td>...</td>\n",
              "      <td>...</td>\n",
              "      <td>...</td>\n",
              "      <td>...</td>\n",
              "      <td>...</td>\n",
              "      <td>...</td>\n",
              "      <td>...</td>\n",
              "      <td>...</td>\n",
              "    </tr>\n",
              "    <tr>\n",
              "      <th>124336</th>\n",
              "      <td>2015</td>\n",
              "      <td>ram</td>\n",
              "      <td>3500</td>\n",
              "      <td>excellent</td>\n",
              "      <td>6 cylinders</td>\n",
              "      <td>diesel</td>\n",
              "      <td>123000.0</td>\n",
              "      <td>clean</td>\n",
              "      <td>automatic</td>\n",
              "      <td>rwd</td>\n",
              "      <td>NaN</td>\n",
              "      <td>NaN</td>\n",
              "      <td>white</td>\n",
              "      <td>mt</td>\n",
              "    </tr>\n",
              "    <tr>\n",
              "      <th>124337</th>\n",
              "      <td>2007</td>\n",
              "      <td>nissan</td>\n",
              "      <td>murano.awd</td>\n",
              "      <td>NaN</td>\n",
              "      <td>NaN</td>\n",
              "      <td>gas</td>\n",
              "      <td>150000.0</td>\n",
              "      <td>rebuilt</td>\n",
              "      <td>automatic</td>\n",
              "      <td>NaN</td>\n",
              "      <td>NaN</td>\n",
              "      <td>NaN</td>\n",
              "      <td>NaN</td>\n",
              "      <td>tx</td>\n",
              "    </tr>\n",
              "    <tr>\n",
              "      <th>124338</th>\n",
              "      <td>2015</td>\n",
              "      <td>dodge</td>\n",
              "      <td>dart sxt</td>\n",
              "      <td>excellent</td>\n",
              "      <td>4 cylinders</td>\n",
              "      <td>gas</td>\n",
              "      <td>90430.0</td>\n",
              "      <td>clean</td>\n",
              "      <td>automatic</td>\n",
              "      <td>fwd</td>\n",
              "      <td>NaN</td>\n",
              "      <td>NaN</td>\n",
              "      <td>white</td>\n",
              "      <td>oh</td>\n",
              "    </tr>\n",
              "    <tr>\n",
              "      <th>124339</th>\n",
              "      <td>2001</td>\n",
              "      <td>chevrolet</td>\n",
              "      <td>2500</td>\n",
              "      <td>NaN</td>\n",
              "      <td>NaN</td>\n",
              "      <td>gas</td>\n",
              "      <td>137000.0</td>\n",
              "      <td>clean</td>\n",
              "      <td>automatic</td>\n",
              "      <td>NaN</td>\n",
              "      <td>NaN</td>\n",
              "      <td>NaN</td>\n",
              "      <td>NaN</td>\n",
              "      <td>ny</td>\n",
              "    </tr>\n",
              "    <tr>\n",
              "      <th>124340</th>\n",
              "      <td>2019</td>\n",
              "      <td>bmw</td>\n",
              "      <td>x1 328i</td>\n",
              "      <td>excellent</td>\n",
              "      <td>4 cylinders</td>\n",
              "      <td>gas</td>\n",
              "      <td>11431.0</td>\n",
              "      <td>clean</td>\n",
              "      <td>automatic</td>\n",
              "      <td>fwd</td>\n",
              "      <td>mid-size</td>\n",
              "      <td>SUV</td>\n",
              "      <td>black</td>\n",
              "      <td>mi</td>\n",
              "    </tr>\n",
              "  </tbody>\n",
              "</table>\n",
              "<p>124341 rows × 14 columns</p>\n",
              "</div>"
            ],
            "text/plain": [
              "        year manufacturer                       model  condition    cylinders  \\\n",
              "0       2018        honda                       civic        NaN  4 cylinders   \n",
              "1       2017     cadillac     cts 2.0 luxury sedan 4d       good          NaN   \n",
              "2       2006       toyota                      sienna  excellent  6 cylinders   \n",
              "3       2016   mitsubishi         outlander sel sport       good          NaN   \n",
              "4       2017         audi  a6 3.0t premium plus sedan       good  6 cylinders   \n",
              "...      ...          ...                         ...        ...          ...   \n",
              "124336  2015          ram                        3500  excellent  6 cylinders   \n",
              "124337  2007       nissan                  murano.awd        NaN          NaN   \n",
              "124338  2015        dodge                    dart sxt  excellent  4 cylinders   \n",
              "124339  2001    chevrolet                        2500        NaN          NaN   \n",
              "124340  2019          bmw                     x1 328i  excellent  4 cylinders   \n",
              "\n",
              "          fuel  odometer title_status transmission drive      size      type  \\\n",
              "0          gas   28898.0        clean    automatic   fwd       NaN     sedan   \n",
              "1          gas   41147.0        clean        other   NaN       NaN     sedan   \n",
              "2          gas  165500.0        clean    automatic   NaN       NaN  mini-van   \n",
              "3        other   29430.0        clean        other   NaN       NaN       SUV   \n",
              "4          gas   24238.0        clean    automatic   NaN       NaN     sedan   \n",
              "...        ...       ...          ...          ...   ...       ...       ...   \n",
              "124336  diesel  123000.0        clean    automatic   rwd       NaN       NaN   \n",
              "124337     gas  150000.0      rebuilt    automatic   NaN       NaN       NaN   \n",
              "124338     gas   90430.0        clean    automatic   fwd       NaN       NaN   \n",
              "124339     gas  137000.0        clean    automatic   NaN       NaN       NaN   \n",
              "124340     gas   11431.0        clean    automatic   fwd  mid-size       SUV   \n",
              "\n",
              "       paint_color state  \n",
              "0              NaN    or  \n",
              "1              red    fl  \n",
              "2             grey    tx  \n",
              "3            white    wi  \n",
              "4            white    pa  \n",
              "...            ...   ...  \n",
              "124336       white    mt  \n",
              "124337         NaN    tx  \n",
              "124338       white    oh  \n",
              "124339         NaN    ny  \n",
              "124340       black    mi  \n",
              "\n",
              "[124341 rows x 14 columns]"
            ]
          },
          "execution_count": 14,
          "metadata": {},
          "output_type": "execute_result"
        }
      ],
      "source": [
        "test"
      ]
    },
    {
      "cell_type": "code",
      "execution_count": null,
      "id": "efd4858e",
      "metadata": {
        "id": "efd4858e"
      },
      "outputs": [],
      "source": []
    },
    {
      "cell_type": "code",
      "execution_count": 15,
      "id": "7f89942b",
      "metadata": {
        "id": "7f89942b"
      },
      "outputs": [],
      "source": [
        "for col in cat_columns:\n",
        "    encod(train_cat[col])\n",
        "    imputed_data = imputer.fit_transform(train_cat[col].values.reshape(-1,1))\n",
        "    imputed_data = imputed_data.astype('int64')\n",
        "    imputed_data = pd.DataFrame(imputed_data)\n",
        "    imputed_data = encoder.inverse_transform(imputed_data.values.reshape(-1,1))\n",
        "    train_cat[col] = imputed_data\n",
        "train[cat_columns]= train_cat"
      ]
    },
    {
      "cell_type": "code",
      "execution_count": 16,
      "id": "402b2abd",
      "metadata": {
        "id": "402b2abd",
        "scrolled": true
      },
      "outputs": [],
      "source": [
        "for col in cat_columns:\n",
        "    encod(test_cat[col])\n",
        "    imputed_data = imputer.fit_transform(test_cat[col].values.reshape(-1,1))\n",
        "    imputed_data = imputed_data.astype('int64')\n",
        "    imputed_data = pd.DataFrame(imputed_data)\n",
        "    imputed_data = encoder.inverse_transform(imputed_data.values.reshape(-1,1))\n",
        "    test_cat[col] = imputed_data\n",
        "test[cat_columns]= test_cat"
      ]
    },
    {
      "cell_type": "code",
      "execution_count": 17,
      "id": "d33d885e",
      "metadata": {
        "id": "d33d885e"
      },
      "outputs": [],
      "source": [
        "train.to_csv('final_train.csv',index=False)\n",
        "test.to_csv('final_test.csv',index = False)"
      ]
    },
    {
      "cell_type": "markdown",
      "id": "c3619b4c",
      "metadata": {
        "id": "c3619b4c"
      },
      "source": [
        "### Prepare for modelling"
      ]
    },
    {
      "cell_type": "code",
      "execution_count": 18,
      "id": "111f5f3c",
      "metadata": {
        "id": "111f5f3c"
      },
      "outputs": [],
      "source": [
        "train.drop(['model','condition','cylinders','title_status','drive','size','type',\n",
        "           'paint_color','state'],axis=1,inplace=True)\n",
        "\n",
        "test.drop(['model','condition','cylinders','title_status','drive','size','type',\n",
        "           'paint_color','state'],axis=1,inplace=True)"
      ]
    },
    {
      "cell_type": "code",
      "execution_count": 19,
      "id": "6934035b",
      "metadata": {
        "id": "6934035b"
      },
      "outputs": [],
      "source": [
        "columns_dict ={'manufacturer':'Car_Name','year':'Year',\n",
        "              'odometer':'Kms_Driven','fuel':'Fuel_type','transmission':'Transmission'}"
      ]
    },
    {
      "cell_type": "code",
      "execution_count": 20,
      "id": "e11d0925",
      "metadata": {
        "id": "e11d0925"
      },
      "outputs": [],
      "source": [
        "train.rename(columns=columns_dict, inplace=True)\n",
        "test.rename(columns = columns_dict,inplace=True)"
      ]
    },
    {
      "cell_type": "code",
      "execution_count": 21,
      "id": "y6jAydazI6_k",
      "metadata": {
        "id": "y6jAydazI6_k"
      },
      "outputs": [],
      "source": [
        "train.dropna(inplace=True)"
      ]
    },
    {
      "cell_type": "code",
      "execution_count": 22,
      "id": "4e335648",
      "metadata": {
        "id": "4e335648"
      },
      "outputs": [],
      "source": [
        "train.to_csv('model_train.csv',index=False)\n",
        "test.to_csv('model_test.csv',index = False)"
      ]
    },
    {
      "cell_type": "code",
      "execution_count": 23,
      "id": "5211cf81",
      "metadata": {
        "id": "5211cf81"
      },
      "outputs": [],
      "source": [
        "#import required libraries\n",
        "import pandas as pd\n",
        "import matplotlib.pyplot as plt\n",
        "%matplotlib inline\n",
        "import seaborn as sns\n",
        "from sklearn.model_selection import train_test_split\n",
        "from sklearn.preprocessing import StandardScaler\n",
        "from sklearn.linear_model import LinearRegression\n",
        "from sklearn import metrics\n",
        "\n"
      ]
    },
    {
      "cell_type": "code",
      "execution_count": 24,
      "id": "25f0b981",
      "metadata": {
        "colab": {
          "base_uri": "https://localhost:8080/",
          "height": 206
        },
        "id": "25f0b981",
        "outputId": "d4a2bb7c-dfe0-4a04-f083-586e95a497f9"
      },
      "outputs": [
        {
          "data": {
            "text/html": [
              "<div>\n",
              "<style scoped>\n",
              "    .dataframe tbody tr th:only-of-type {\n",
              "        vertical-align: middle;\n",
              "    }\n",
              "\n",
              "    .dataframe tbody tr th {\n",
              "        vertical-align: top;\n",
              "    }\n",
              "\n",
              "    .dataframe thead th {\n",
              "        text-align: right;\n",
              "    }\n",
              "</style>\n",
              "<table border=\"1\" class=\"dataframe\">\n",
              "  <thead>\n",
              "    <tr style=\"text-align: right;\">\n",
              "      <th></th>\n",
              "      <th>Year</th>\n",
              "      <th>Car_Name</th>\n",
              "      <th>Fuel_type</th>\n",
              "      <th>Kms_Driven</th>\n",
              "      <th>Transmission</th>\n",
              "      <th>price</th>\n",
              "    </tr>\n",
              "  </thead>\n",
              "  <tbody>\n",
              "    <tr>\n",
              "      <th>0</th>\n",
              "      <td>2007</td>\n",
              "      <td>infiniti</td>\n",
              "      <td>gas</td>\n",
              "      <td>214740.0</td>\n",
              "      <td>automatic</td>\n",
              "      <td>7995</td>\n",
              "    </tr>\n",
              "    <tr>\n",
              "      <th>1</th>\n",
              "      <td>2008</td>\n",
              "      <td>cadillac</td>\n",
              "      <td>gas</td>\n",
              "      <td>170276.0</td>\n",
              "      <td>automatic</td>\n",
              "      <td>14999</td>\n",
              "    </tr>\n",
              "    <tr>\n",
              "      <th>2</th>\n",
              "      <td>2003</td>\n",
              "      <td>lexus</td>\n",
              "      <td>gas</td>\n",
              "      <td>176910.0</td>\n",
              "      <td>automatic</td>\n",
              "      <td>5995</td>\n",
              "    </tr>\n",
              "    <tr>\n",
              "      <th>3</th>\n",
              "      <td>2017</td>\n",
              "      <td>bmw</td>\n",
              "      <td>gas</td>\n",
              "      <td>41000.0</td>\n",
              "      <td>automatic</td>\n",
              "      <td>0</td>\n",
              "    </tr>\n",
              "    <tr>\n",
              "      <th>4</th>\n",
              "      <td>2008</td>\n",
              "      <td>toyota</td>\n",
              "      <td>gas</td>\n",
              "      <td>138900.0</td>\n",
              "      <td>automatic</td>\n",
              "      <td>7995</td>\n",
              "    </tr>\n",
              "  </tbody>\n",
              "</table>\n",
              "</div>"
            ],
            "text/plain": [
              "   Year  Car_Name Fuel_type  Kms_Driven Transmission  price\n",
              "0  2007  infiniti       gas    214740.0    automatic   7995\n",
              "1  2008  cadillac       gas    170276.0    automatic  14999\n",
              "2  2003     lexus       gas    176910.0    automatic   5995\n",
              "3  2017       bmw       gas     41000.0    automatic      0\n",
              "4  2008    toyota       gas    138900.0    automatic   7995"
            ]
          },
          "execution_count": 24,
          "metadata": {},
          "output_type": "execute_result"
        }
      ],
      "source": [
        "car_data = pd.read_csv('model_train.csv')\n",
        "\n",
        "car_data.head()\n",
        "\n"
      ]
    },
    {
      "cell_type": "code",
      "execution_count": 25,
      "id": "faf0b7bb",
      "metadata": {
        "colab": {
          "base_uri": "https://localhost:8080/"
        },
        "id": "faf0b7bb",
        "outputId": "0798bdfa-1aec-4ad1-d85a-8e6dd62031c1"
      },
      "outputs": [
        {
          "name": "stdout",
          "output_type": "stream",
          "text": [
            "<class 'pandas.core.frame.DataFrame'>\n",
            "RangeIndex: 290129 entries, 0 to 290128\n",
            "Data columns (total 6 columns):\n",
            " #   Column        Non-Null Count   Dtype  \n",
            "---  ------        --------------   -----  \n",
            " 0   Year          290129 non-null  int64  \n",
            " 1   Car_Name      290129 non-null  object \n",
            " 2   Fuel_type     290129 non-null  object \n",
            " 3   Kms_Driven    290129 non-null  float64\n",
            " 4   Transmission  290129 non-null  object \n",
            " 5   price         290129 non-null  int64  \n",
            "dtypes: float64(1), int64(2), object(3)\n",
            "memory usage: 13.3+ MB\n"
          ]
        }
      ],
      "source": [
        "car_data.info()\n",
        "\n"
      ]
    },
    {
      "cell_type": "code",
      "execution_count": 26,
      "id": "f1b67847",
      "metadata": {
        "colab": {
          "base_uri": "https://localhost:8080/"
        },
        "id": "f1b67847",
        "outputId": "ce215c09-b9e5-42a3-b047-fdbc7f3545e2"
      },
      "outputs": [
        {
          "data": {
            "text/plain": [
              "Index(['Year', 'Car_Name', 'Fuel_type', 'Kms_Driven', 'Transmission', 'price'], dtype='object')"
            ]
          },
          "execution_count": 26,
          "metadata": {},
          "output_type": "execute_result"
        }
      ],
      "source": [
        "car_data.isnull().sum()\n",
        "\n",
        "car_data.describe()\n",
        "car_data.columns\n"
      ]
    },
    {
      "cell_type": "code",
      "execution_count": 27,
      "id": "fb093967",
      "metadata": {
        "colab": {
          "base_uri": "https://localhost:8080/"
        },
        "id": "fb093967",
        "outputId": "25050ce8-b538-43b8-fbfe-2a99e5fcf7ed"
      },
      "outputs": [
        {
          "name": "stdout",
          "output_type": "stream",
          "text": [
            "Fuel_type\n",
            "gas         244146\n",
            "other        20904\n",
            "diesel       20309\n",
            "hybrid        3607\n",
            "electric      1163\n",
            "Name: count, dtype: int64\n",
            "Transmission\n",
            "automatic    229671\n",
            "other         43686\n",
            "manual        16772\n",
            "Name: count, dtype: int64\n"
          ]
        }
      ],
      "source": [
        "print(car_data['Fuel_type'].value_counts())\n",
        "\n",
        "print(car_data['Transmission'].value_counts())\n",
        "fuel_type = car_data['Fuel_type']\n",
        "transmission_type = car_data['Transmission']\n",
        "selling_price = car_data['price']\n",
        "\n",
        "\n"
      ]
    },
    {
      "cell_type": "code",
      "execution_count": 28,
      "id": "SiyrwggfLZml",
      "metadata": {
        "colab": {
          "base_uri": "https://localhost:8080/",
          "height": 423
        },
        "id": "SiyrwggfLZml",
        "outputId": "1953b255-0ffc-4daf-880a-a4c3f3abd7ac"
      },
      "outputs": [
        {
          "data": {
            "text/html": [
              "<div>\n",
              "<style scoped>\n",
              "    .dataframe tbody tr th:only-of-type {\n",
              "        vertical-align: middle;\n",
              "    }\n",
              "\n",
              "    .dataframe tbody tr th {\n",
              "        vertical-align: top;\n",
              "    }\n",
              "\n",
              "    .dataframe thead th {\n",
              "        text-align: right;\n",
              "    }\n",
              "</style>\n",
              "<table border=\"1\" class=\"dataframe\">\n",
              "  <thead>\n",
              "    <tr style=\"text-align: right;\">\n",
              "      <th></th>\n",
              "      <th>Year</th>\n",
              "      <th>Car_Name</th>\n",
              "      <th>Fuel_type</th>\n",
              "      <th>Kms_Driven</th>\n",
              "      <th>Transmission</th>\n",
              "      <th>price</th>\n",
              "    </tr>\n",
              "  </thead>\n",
              "  <tbody>\n",
              "    <tr>\n",
              "      <th>0</th>\n",
              "      <td>2007</td>\n",
              "      <td>infiniti</td>\n",
              "      <td>gas</td>\n",
              "      <td>214740.0</td>\n",
              "      <td>automatic</td>\n",
              "      <td>7995</td>\n",
              "    </tr>\n",
              "    <tr>\n",
              "      <th>1</th>\n",
              "      <td>2008</td>\n",
              "      <td>cadillac</td>\n",
              "      <td>gas</td>\n",
              "      <td>170276.0</td>\n",
              "      <td>automatic</td>\n",
              "      <td>14999</td>\n",
              "    </tr>\n",
              "    <tr>\n",
              "      <th>2</th>\n",
              "      <td>2003</td>\n",
              "      <td>lexus</td>\n",
              "      <td>gas</td>\n",
              "      <td>176910.0</td>\n",
              "      <td>automatic</td>\n",
              "      <td>5995</td>\n",
              "    </tr>\n",
              "    <tr>\n",
              "      <th>3</th>\n",
              "      <td>2017</td>\n",
              "      <td>bmw</td>\n",
              "      <td>gas</td>\n",
              "      <td>41000.0</td>\n",
              "      <td>automatic</td>\n",
              "      <td>0</td>\n",
              "    </tr>\n",
              "    <tr>\n",
              "      <th>4</th>\n",
              "      <td>2008</td>\n",
              "      <td>toyota</td>\n",
              "      <td>gas</td>\n",
              "      <td>138900.0</td>\n",
              "      <td>automatic</td>\n",
              "      <td>7995</td>\n",
              "    </tr>\n",
              "    <tr>\n",
              "      <th>...</th>\n",
              "      <td>...</td>\n",
              "      <td>...</td>\n",
              "      <td>...</td>\n",
              "      <td>...</td>\n",
              "      <td>...</td>\n",
              "      <td>...</td>\n",
              "    </tr>\n",
              "    <tr>\n",
              "      <th>290124</th>\n",
              "      <td>2007</td>\n",
              "      <td>dodge</td>\n",
              "      <td>gas</td>\n",
              "      <td>1000.0</td>\n",
              "      <td>automatic</td>\n",
              "      <td>200</td>\n",
              "    </tr>\n",
              "    <tr>\n",
              "      <th>290125</th>\n",
              "      <td>2013</td>\n",
              "      <td>hyundai</td>\n",
              "      <td>gas</td>\n",
              "      <td>114000.0</td>\n",
              "      <td>automatic</td>\n",
              "      <td>8900</td>\n",
              "    </tr>\n",
              "    <tr>\n",
              "      <th>290126</th>\n",
              "      <td>2013</td>\n",
              "      <td>infiniti</td>\n",
              "      <td>gas</td>\n",
              "      <td>94000.0</td>\n",
              "      <td>automatic</td>\n",
              "      <td>7300</td>\n",
              "    </tr>\n",
              "    <tr>\n",
              "      <th>290127</th>\n",
              "      <td>2009</td>\n",
              "      <td>jeep</td>\n",
              "      <td>gas</td>\n",
              "      <td>108000.0</td>\n",
              "      <td>automatic</td>\n",
              "      <td>4500</td>\n",
              "    </tr>\n",
              "    <tr>\n",
              "      <th>290128</th>\n",
              "      <td>2014</td>\n",
              "      <td>ford</td>\n",
              "      <td>diesel</td>\n",
              "      <td>79997.0</td>\n",
              "      <td>automatic</td>\n",
              "      <td>49995</td>\n",
              "    </tr>\n",
              "  </tbody>\n",
              "</table>\n",
              "<p>290129 rows × 6 columns</p>\n",
              "</div>"
            ],
            "text/plain": [
              "        Year  Car_Name Fuel_type  Kms_Driven Transmission  price\n",
              "0       2007  infiniti       gas    214740.0    automatic   7995\n",
              "1       2008  cadillac       gas    170276.0    automatic  14999\n",
              "2       2003     lexus       gas    176910.0    automatic   5995\n",
              "3       2017       bmw       gas     41000.0    automatic      0\n",
              "4       2008    toyota       gas    138900.0    automatic   7995\n",
              "...      ...       ...       ...         ...          ...    ...\n",
              "290124  2007     dodge       gas      1000.0    automatic    200\n",
              "290125  2013   hyundai       gas    114000.0    automatic   8900\n",
              "290126  2013  infiniti       gas     94000.0    automatic   7300\n",
              "290127  2009      jeep       gas    108000.0    automatic   4500\n",
              "290128  2014      ford    diesel     79997.0    automatic  49995\n",
              "\n",
              "[290129 rows x 6 columns]"
            ]
          },
          "execution_count": 28,
          "metadata": {},
          "output_type": "execute_result"
        }
      ],
      "source": [
        "car_data"
      ]
    },
    {
      "cell_type": "code",
      "execution_count": 29,
      "id": "d9f9e14d",
      "metadata": {
        "colab": {
          "base_uri": "https://localhost:8080/",
          "height": 756
        },
        "id": "d9f9e14d",
        "outputId": "ff93e320-6e95-47ef-e97d-1ad5924020c6"
      },
      "outputs": [
        {
          "ename": "ValueError",
          "evalue": "could not convert string to float: 'infiniti'",
          "output_type": "error",
          "traceback": [
            "\u001b[0;31m---------------------------------------------------------------------------\u001b[0m",
            "\u001b[0;31mValueError\u001b[0m                                Traceback (most recent call last)",
            "Cell \u001b[0;32mIn[29], line 7\u001b[0m\n\u001b[1;32m      4\u001b[0m car_data \u001b[39m=\u001b[39m pd\u001b[39m.\u001b[39mget_dummies(car_data, columns\u001b[39m=\u001b[39m[ \u001b[39m'\u001b[39m\u001b[39mTransmission\u001b[39m\u001b[39m'\u001b[39m], drop_first\u001b[39m=\u001b[39m\u001b[39mTrue\u001b[39;00m)\n\u001b[1;32m      6\u001b[0m plt\u001b[39m.\u001b[39mfigure(figsize\u001b[39m=\u001b[39m(\u001b[39m10\u001b[39m,\u001b[39m7\u001b[39m))\n\u001b[0;32m----> 7\u001b[0m sns\u001b[39m.\u001b[39mheatmap(car_data\u001b[39m.\u001b[39;49mcorr(), annot\u001b[39m=\u001b[39m\u001b[39mTrue\u001b[39;00m)\n\u001b[1;32m      8\u001b[0m plt\u001b[39m.\u001b[39mtitle(\u001b[39m'\u001b[39m\u001b[39mCorrelation between the columns\u001b[39m\u001b[39m'\u001b[39m)\n\u001b[1;32m      9\u001b[0m plt\u001b[39m.\u001b[39mshow()\n",
            "File \u001b[0;32m~/Library/Python/3.9/lib/python/site-packages/pandas/core/frame.py:10054\u001b[0m, in \u001b[0;36mDataFrame.corr\u001b[0;34m(self, method, min_periods, numeric_only)\u001b[0m\n\u001b[1;32m  10052\u001b[0m cols \u001b[39m=\u001b[39m data\u001b[39m.\u001b[39mcolumns\n\u001b[1;32m  10053\u001b[0m idx \u001b[39m=\u001b[39m cols\u001b[39m.\u001b[39mcopy()\n\u001b[0;32m> 10054\u001b[0m mat \u001b[39m=\u001b[39m data\u001b[39m.\u001b[39;49mto_numpy(dtype\u001b[39m=\u001b[39;49m\u001b[39mfloat\u001b[39;49m, na_value\u001b[39m=\u001b[39;49mnp\u001b[39m.\u001b[39;49mnan, copy\u001b[39m=\u001b[39;49m\u001b[39mFalse\u001b[39;49;00m)\n\u001b[1;32m  10056\u001b[0m \u001b[39mif\u001b[39;00m method \u001b[39m==\u001b[39m \u001b[39m\"\u001b[39m\u001b[39mpearson\u001b[39m\u001b[39m\"\u001b[39m:\n\u001b[1;32m  10057\u001b[0m     correl \u001b[39m=\u001b[39m libalgos\u001b[39m.\u001b[39mnancorr(mat, minp\u001b[39m=\u001b[39mmin_periods)\n",
            "File \u001b[0;32m~/Library/Python/3.9/lib/python/site-packages/pandas/core/frame.py:1838\u001b[0m, in \u001b[0;36mDataFrame.to_numpy\u001b[0;34m(self, dtype, copy, na_value)\u001b[0m\n\u001b[1;32m   1836\u001b[0m \u001b[39mif\u001b[39;00m dtype \u001b[39mis\u001b[39;00m \u001b[39mnot\u001b[39;00m \u001b[39mNone\u001b[39;00m:\n\u001b[1;32m   1837\u001b[0m     dtype \u001b[39m=\u001b[39m np\u001b[39m.\u001b[39mdtype(dtype)\n\u001b[0;32m-> 1838\u001b[0m result \u001b[39m=\u001b[39m \u001b[39mself\u001b[39;49m\u001b[39m.\u001b[39;49m_mgr\u001b[39m.\u001b[39;49mas_array(dtype\u001b[39m=\u001b[39;49mdtype, copy\u001b[39m=\u001b[39;49mcopy, na_value\u001b[39m=\u001b[39;49mna_value)\n\u001b[1;32m   1839\u001b[0m \u001b[39mif\u001b[39;00m result\u001b[39m.\u001b[39mdtype \u001b[39mis\u001b[39;00m \u001b[39mnot\u001b[39;00m dtype:\n\u001b[1;32m   1840\u001b[0m     result \u001b[39m=\u001b[39m np\u001b[39m.\u001b[39marray(result, dtype\u001b[39m=\u001b[39mdtype, copy\u001b[39m=\u001b[39m\u001b[39mFalse\u001b[39;00m)\n",
            "File \u001b[0;32m~/Library/Python/3.9/lib/python/site-packages/pandas/core/internals/managers.py:1732\u001b[0m, in \u001b[0;36mBlockManager.as_array\u001b[0;34m(self, dtype, copy, na_value)\u001b[0m\n\u001b[1;32m   1730\u001b[0m         arr\u001b[39m.\u001b[39mflags\u001b[39m.\u001b[39mwriteable \u001b[39m=\u001b[39m \u001b[39mFalse\u001b[39;00m\n\u001b[1;32m   1731\u001b[0m \u001b[39melse\u001b[39;00m:\n\u001b[0;32m-> 1732\u001b[0m     arr \u001b[39m=\u001b[39m \u001b[39mself\u001b[39;49m\u001b[39m.\u001b[39;49m_interleave(dtype\u001b[39m=\u001b[39;49mdtype, na_value\u001b[39m=\u001b[39;49mna_value)\n\u001b[1;32m   1733\u001b[0m     \u001b[39m# The underlying data was copied within _interleave, so no need\u001b[39;00m\n\u001b[1;32m   1734\u001b[0m     \u001b[39m# to further copy if copy=True or setting na_value\u001b[39;00m\n\u001b[1;32m   1736\u001b[0m \u001b[39mif\u001b[39;00m na_value \u001b[39mis\u001b[39;00m \u001b[39mnot\u001b[39;00m lib\u001b[39m.\u001b[39mno_default:\n",
            "File \u001b[0;32m~/Library/Python/3.9/lib/python/site-packages/pandas/core/internals/managers.py:1794\u001b[0m, in \u001b[0;36mBlockManager._interleave\u001b[0;34m(self, dtype, na_value)\u001b[0m\n\u001b[1;32m   1792\u001b[0m     \u001b[39melse\u001b[39;00m:\n\u001b[1;32m   1793\u001b[0m         arr \u001b[39m=\u001b[39m blk\u001b[39m.\u001b[39mget_values(dtype)\n\u001b[0;32m-> 1794\u001b[0m     result[rl\u001b[39m.\u001b[39;49mindexer] \u001b[39m=\u001b[39m arr\n\u001b[1;32m   1795\u001b[0m     itemmask[rl\u001b[39m.\u001b[39mindexer] \u001b[39m=\u001b[39m \u001b[39m1\u001b[39m\n\u001b[1;32m   1797\u001b[0m \u001b[39mif\u001b[39;00m \u001b[39mnot\u001b[39;00m itemmask\u001b[39m.\u001b[39mall():\n",
            "\u001b[0;31mValueError\u001b[0m: could not convert string to float: 'infiniti'"
          ]
        },
        {
          "data": {
            "text/plain": [
              "<Figure size 1000x700 with 0 Axes>"
            ]
          },
          "metadata": {},
          "output_type": "display_data"
        }
      ],
      "source": [
        "\n",
        "#manual encoding\n",
        "car_data.replace({'Fuel_type':{'gas':0, 'diesel':1, 'hybrid':2,'electric':3,'other':4}}, inplace=True)\n",
        "#one hot encoding\n",
        "car_data = pd.get_dummies(car_data, columns=[ 'Transmission'], drop_first=True)\n",
        "\n",
        "plt.figure(figsize=(10,7))\n",
        "sns.heatmap(car_data.corr(), annot=True)\n",
        "plt.title('Correlation between the columns')\n",
        "plt.show()\n",
        "\n"
      ]
    },
    {
      "cell_type": "code",
      "execution_count": null,
      "id": "9svCi6qMJmtX",
      "metadata": {
        "colab": {
          "base_uri": "https://localhost:8080/",
          "height": 423
        },
        "id": "9svCi6qMJmtX",
        "outputId": "76d40d1b-de99-47d4-90d1-188c9c5b9240"
      },
      "outputs": [
        {
          "data": {
            "text/html": [
              "\n",
              "\n",
              "  <div id=\"df-0754022e-a821-4cd7-8ba7-6b221788b018\">\n",
              "    <div class=\"colab-df-container\">\n",
              "      <div>\n",
              "<style scoped>\n",
              "    .dataframe tbody tr th:only-of-type {\n",
              "        vertical-align: middle;\n",
              "    }\n",
              "\n",
              "    .dataframe tbody tr th {\n",
              "        vertical-align: top;\n",
              "    }\n",
              "\n",
              "    .dataframe thead th {\n",
              "        text-align: right;\n",
              "    }\n",
              "</style>\n",
              "<table border=\"1\" class=\"dataframe\">\n",
              "  <thead>\n",
              "    <tr style=\"text-align: right;\">\n",
              "      <th></th>\n",
              "      <th>Year</th>\n",
              "      <th>Car_Name</th>\n",
              "      <th>Fuel_type</th>\n",
              "      <th>Kms_Driven</th>\n",
              "      <th>price</th>\n",
              "      <th>Transmission_manual</th>\n",
              "      <th>Transmission_other</th>\n",
              "    </tr>\n",
              "  </thead>\n",
              "  <tbody>\n",
              "    <tr>\n",
              "      <th>0</th>\n",
              "      <td>2007</td>\n",
              "      <td>infiniti</td>\n",
              "      <td>0</td>\n",
              "      <td>214740.0</td>\n",
              "      <td>7995</td>\n",
              "      <td>0</td>\n",
              "      <td>0</td>\n",
              "    </tr>\n",
              "    <tr>\n",
              "      <th>1</th>\n",
              "      <td>2008</td>\n",
              "      <td>cadillac</td>\n",
              "      <td>0</td>\n",
              "      <td>170276.0</td>\n",
              "      <td>14999</td>\n",
              "      <td>0</td>\n",
              "      <td>0</td>\n",
              "    </tr>\n",
              "    <tr>\n",
              "      <th>2</th>\n",
              "      <td>2003</td>\n",
              "      <td>lexus</td>\n",
              "      <td>0</td>\n",
              "      <td>176910.0</td>\n",
              "      <td>5995</td>\n",
              "      <td>0</td>\n",
              "      <td>0</td>\n",
              "    </tr>\n",
              "    <tr>\n",
              "      <th>3</th>\n",
              "      <td>2017</td>\n",
              "      <td>bmw</td>\n",
              "      <td>0</td>\n",
              "      <td>41000.0</td>\n",
              "      <td>0</td>\n",
              "      <td>0</td>\n",
              "      <td>0</td>\n",
              "    </tr>\n",
              "    <tr>\n",
              "      <th>4</th>\n",
              "      <td>2008</td>\n",
              "      <td>toyota</td>\n",
              "      <td>0</td>\n",
              "      <td>138900.0</td>\n",
              "      <td>7995</td>\n",
              "      <td>0</td>\n",
              "      <td>0</td>\n",
              "    </tr>\n",
              "    <tr>\n",
              "      <th>...</th>\n",
              "      <td>...</td>\n",
              "      <td>...</td>\n",
              "      <td>...</td>\n",
              "      <td>...</td>\n",
              "      <td>...</td>\n",
              "      <td>...</td>\n",
              "      <td>...</td>\n",
              "    </tr>\n",
              "    <tr>\n",
              "      <th>290124</th>\n",
              "      <td>2007</td>\n",
              "      <td>dodge</td>\n",
              "      <td>0</td>\n",
              "      <td>1000.0</td>\n",
              "      <td>200</td>\n",
              "      <td>0</td>\n",
              "      <td>0</td>\n",
              "    </tr>\n",
              "    <tr>\n",
              "      <th>290125</th>\n",
              "      <td>2013</td>\n",
              "      <td>hyundai</td>\n",
              "      <td>0</td>\n",
              "      <td>114000.0</td>\n",
              "      <td>8900</td>\n",
              "      <td>0</td>\n",
              "      <td>0</td>\n",
              "    </tr>\n",
              "    <tr>\n",
              "      <th>290126</th>\n",
              "      <td>2013</td>\n",
              "      <td>infiniti</td>\n",
              "      <td>0</td>\n",
              "      <td>94000.0</td>\n",
              "      <td>7300</td>\n",
              "      <td>0</td>\n",
              "      <td>0</td>\n",
              "    </tr>\n",
              "    <tr>\n",
              "      <th>290127</th>\n",
              "      <td>2009</td>\n",
              "      <td>jeep</td>\n",
              "      <td>0</td>\n",
              "      <td>108000.0</td>\n",
              "      <td>4500</td>\n",
              "      <td>0</td>\n",
              "      <td>0</td>\n",
              "    </tr>\n",
              "    <tr>\n",
              "      <th>290128</th>\n",
              "      <td>2014</td>\n",
              "      <td>ford</td>\n",
              "      <td>1</td>\n",
              "      <td>79997.0</td>\n",
              "      <td>49995</td>\n",
              "      <td>0</td>\n",
              "      <td>0</td>\n",
              "    </tr>\n",
              "  </tbody>\n",
              "</table>\n",
              "<p>290129 rows × 7 columns</p>\n",
              "</div>\n",
              "      <button class=\"colab-df-convert\" onclick=\"convertToInteractive('df-0754022e-a821-4cd7-8ba7-6b221788b018')\"\n",
              "              title=\"Convert this dataframe to an interactive table.\"\n",
              "              style=\"display:none;\">\n",
              "\n",
              "  <svg xmlns=\"http://www.w3.org/2000/svg\" height=\"24px\"viewBox=\"0 0 24 24\"\n",
              "       width=\"24px\">\n",
              "    <path d=\"M0 0h24v24H0V0z\" fill=\"none\"/>\n",
              "    <path d=\"M18.56 5.44l.94 2.06.94-2.06 2.06-.94-2.06-.94-.94-2.06-.94 2.06-2.06.94zm-11 1L8.5 8.5l.94-2.06 2.06-.94-2.06-.94L8.5 2.5l-.94 2.06-2.06.94zm10 10l.94 2.06.94-2.06 2.06-.94-2.06-.94-.94-2.06-.94 2.06-2.06.94z\"/><path d=\"M17.41 7.96l-1.37-1.37c-.4-.4-.92-.59-1.43-.59-.52 0-1.04.2-1.43.59L10.3 9.45l-7.72 7.72c-.78.78-.78 2.05 0 2.83L4 21.41c.39.39.9.59 1.41.59.51 0 1.02-.2 1.41-.59l7.78-7.78 2.81-2.81c.8-.78.8-2.07 0-2.86zM5.41 20L4 18.59l7.72-7.72 1.47 1.35L5.41 20z\"/>\n",
              "  </svg>\n",
              "      </button>\n",
              "\n",
              "\n",
              "\n",
              "    <div id=\"df-217d96f5-d977-4562-92e6-3a12d7c8efbb\">\n",
              "      <button class=\"colab-df-quickchart\" onclick=\"quickchart('df-217d96f5-d977-4562-92e6-3a12d7c8efbb')\"\n",
              "              title=\"Suggest charts.\"\n",
              "              style=\"display:none;\">\n",
              "\n",
              "<svg xmlns=\"http://www.w3.org/2000/svg\" height=\"24px\"viewBox=\"0 0 24 24\"\n",
              "     width=\"24px\">\n",
              "    <g>\n",
              "        <path d=\"M19 3H5c-1.1 0-2 .9-2 2v14c0 1.1.9 2 2 2h14c1.1 0 2-.9 2-2V5c0-1.1-.9-2-2-2zM9 17H7v-7h2v7zm4 0h-2V7h2v10zm4 0h-2v-4h2v4z\"/>\n",
              "    </g>\n",
              "</svg>\n",
              "      </button>\n",
              "    </div>\n",
              "\n",
              "<style>\n",
              "  .colab-df-quickchart {\n",
              "    background-color: #E8F0FE;\n",
              "    border: none;\n",
              "    border-radius: 50%;\n",
              "    cursor: pointer;\n",
              "    display: none;\n",
              "    fill: #1967D2;\n",
              "    height: 32px;\n",
              "    padding: 0 0 0 0;\n",
              "    width: 32px;\n",
              "  }\n",
              "\n",
              "  .colab-df-quickchart:hover {\n",
              "    background-color: #E2EBFA;\n",
              "    box-shadow: 0px 1px 2px rgba(60, 64, 67, 0.3), 0px 1px 3px 1px rgba(60, 64, 67, 0.15);\n",
              "    fill: #174EA6;\n",
              "  }\n",
              "\n",
              "  [theme=dark] .colab-df-quickchart {\n",
              "    background-color: #3B4455;\n",
              "    fill: #D2E3FC;\n",
              "  }\n",
              "\n",
              "  [theme=dark] .colab-df-quickchart:hover {\n",
              "    background-color: #434B5C;\n",
              "    box-shadow: 0px 1px 3px 1px rgba(0, 0, 0, 0.15);\n",
              "    filter: drop-shadow(0px 1px 2px rgba(0, 0, 0, 0.3));\n",
              "    fill: #FFFFFF;\n",
              "  }\n",
              "</style>\n",
              "\n",
              "    <script>\n",
              "      async function quickchart(key) {\n",
              "        const containerElement = document.querySelector('#' + key);\n",
              "        const charts = await google.colab.kernel.invokeFunction(\n",
              "            'suggestCharts', [key], {});\n",
              "      }\n",
              "    </script>\n",
              "\n",
              "      <script>\n",
              "\n",
              "function displayQuickchartButton(domScope) {\n",
              "  let quickchartButtonEl =\n",
              "    domScope.querySelector('#df-217d96f5-d977-4562-92e6-3a12d7c8efbb button.colab-df-quickchart');\n",
              "  quickchartButtonEl.style.display =\n",
              "    google.colab.kernel.accessAllowed ? 'block' : 'none';\n",
              "}\n",
              "\n",
              "        displayQuickchartButton(document);\n",
              "      </script>\n",
              "      <style>\n",
              "    .colab-df-container {\n",
              "      display:flex;\n",
              "      flex-wrap:wrap;\n",
              "      gap: 12px;\n",
              "    }\n",
              "\n",
              "    .colab-df-convert {\n",
              "      background-color: #E8F0FE;\n",
              "      border: none;\n",
              "      border-radius: 50%;\n",
              "      cursor: pointer;\n",
              "      display: none;\n",
              "      fill: #1967D2;\n",
              "      height: 32px;\n",
              "      padding: 0 0 0 0;\n",
              "      width: 32px;\n",
              "    }\n",
              "\n",
              "    .colab-df-convert:hover {\n",
              "      background-color: #E2EBFA;\n",
              "      box-shadow: 0px 1px 2px rgba(60, 64, 67, 0.3), 0px 1px 3px 1px rgba(60, 64, 67, 0.15);\n",
              "      fill: #174EA6;\n",
              "    }\n",
              "\n",
              "    [theme=dark] .colab-df-convert {\n",
              "      background-color: #3B4455;\n",
              "      fill: #D2E3FC;\n",
              "    }\n",
              "\n",
              "    [theme=dark] .colab-df-convert:hover {\n",
              "      background-color: #434B5C;\n",
              "      box-shadow: 0px 1px 3px 1px rgba(0, 0, 0, 0.15);\n",
              "      filter: drop-shadow(0px 1px 2px rgba(0, 0, 0, 0.3));\n",
              "      fill: #FFFFFF;\n",
              "    }\n",
              "  </style>\n",
              "\n",
              "      <script>\n",
              "        const buttonEl =\n",
              "          document.querySelector('#df-0754022e-a821-4cd7-8ba7-6b221788b018 button.colab-df-convert');\n",
              "        buttonEl.style.display =\n",
              "          google.colab.kernel.accessAllowed ? 'block' : 'none';\n",
              "\n",
              "        async function convertToInteractive(key) {\n",
              "          const element = document.querySelector('#df-0754022e-a821-4cd7-8ba7-6b221788b018');\n",
              "          const dataTable =\n",
              "            await google.colab.kernel.invokeFunction('convertToInteractive',\n",
              "                                                     [key], {});\n",
              "          if (!dataTable) return;\n",
              "\n",
              "          const docLinkHtml = 'Like what you see? Visit the ' +\n",
              "            '<a target=\"_blank\" href=https://colab.research.google.com/notebooks/data_table.ipynb>data table notebook</a>'\n",
              "            + ' to learn more about interactive tables.';\n",
              "          element.innerHTML = '';\n",
              "          dataTable['output_type'] = 'display_data';\n",
              "          await google.colab.output.renderOutput(dataTable, element);\n",
              "          const docLink = document.createElement('div');\n",
              "          docLink.innerHTML = docLinkHtml;\n",
              "          element.appendChild(docLink);\n",
              "        }\n",
              "      </script>\n",
              "    </div>\n",
              "  </div>\n"
            ],
            "text/plain": [
              "        Year  Car_Name  Fuel_type  Kms_Driven  price  Transmission_manual  \\\n",
              "0       2007  infiniti          0    214740.0   7995                    0   \n",
              "1       2008  cadillac          0    170276.0  14999                    0   \n",
              "2       2003     lexus          0    176910.0   5995                    0   \n",
              "3       2017       bmw          0     41000.0      0                    0   \n",
              "4       2008    toyota          0    138900.0   7995                    0   \n",
              "...      ...       ...        ...         ...    ...                  ...   \n",
              "290124  2007     dodge          0      1000.0    200                    0   \n",
              "290125  2013   hyundai          0    114000.0   8900                    0   \n",
              "290126  2013  infiniti          0     94000.0   7300                    0   \n",
              "290127  2009      jeep          0    108000.0   4500                    0   \n",
              "290128  2014      ford          1     79997.0  49995                    0   \n",
              "\n",
              "        Transmission_other  \n",
              "0                        0  \n",
              "1                        0  \n",
              "2                        0  \n",
              "3                        0  \n",
              "4                        0  \n",
              "...                    ...  \n",
              "290124                   0  \n",
              "290125                   0  \n",
              "290126                   0  \n",
              "290127                   0  \n",
              "290128                   0  \n",
              "\n",
              "[290129 rows x 7 columns]"
            ]
          },
          "execution_count": 394,
          "metadata": {},
          "output_type": "execute_result"
        }
      ],
      "source": [
        "car_data"
      ]
    },
    {
      "cell_type": "code",
      "execution_count": null,
      "id": "94fdb392",
      "metadata": {
        "colab": {
          "base_uri": "https://localhost:8080/"
        },
        "id": "94fdb392",
        "outputId": "e38a0c28-b38b-40f4-b0d7-2d973bc105ec"
      },
      "outputs": [
        {
          "name": "stdout",
          "output_type": "stream",
          "text": [
            "Shape of X is:  (290129, 5)\n",
            "Shape of y is:  (290129,)\n",
            "X_test shape: (87039, 5)\n",
            "X_train shape: (203090, 5)\n",
            "y_test shape:  (87039,)\n",
            "y_train shape: (203090,)\n"
          ]
        }
      ],
      "source": [
        "\n",
        "X = car_data.drop(['Car_Name','price'], axis=1)\n",
        "y = car_data['price']\n",
        "\n",
        "print(\"Shape of X is: \",X.shape)\n",
        "print(\"Shape of y is: \", y.shape)\n",
        "\n",
        "X_train, X_test, y_train, y_test = train_test_split(X,y, test_size=0.3, random_state=42)\n",
        "\n",
        "print(\"X_test shape:\", X_test.shape)\n",
        "print(\"X_train shape:\", X_train.shape)\n",
        "print(\"y_test shape: \", y_test.shape)\n",
        "print(\"y_train shape:\", y_train.shape)\n",
        "\n"
      ]
    },
    {
      "cell_type": "code",
      "execution_count": null,
      "id": "2d790eb4",
      "metadata": {
        "colab": {
          "base_uri": "https://localhost:8080/",
          "height": 646
        },
        "id": "2d790eb4",
        "outputId": "d4aeb085-42bd-49a3-9086-e712b3a9d7d6"
      },
      "outputs": [
        {
          "name": "stdout",
          "output_type": "stream",
          "text": [
            "[[-0.69609217 -0.36685119  0.29009053 -0.24686686 -0.42118258]\n",
            " [ 0.83452765 -0.36685119 -0.3109955  -0.24686686 -0.42118258]\n",
            " [ 0.94385764 -0.36685119 -0.44944717 -0.24686686  2.37426726]\n",
            " ...\n",
            " [ 0.06921774 -0.36685119  0.20655401 -0.24686686 -0.42118258]\n",
            " [ 0.28787772 -0.36685119 -0.0341668  -0.24686686 -0.42118258]\n",
            " [-2.66403193 -0.36685119 -0.45290823 -0.24686686 -0.42118258]]\n",
            "MAE:  99794.6836953383\n",
            "MSE:  200966792661503.78\n",
            "R2 score:  -570538.7553039033\n"
          ]
        },
        {
          "data": {
            "image/png": "[encoded data removed]",
            "text/plain": [
              "<Figure size 640x480 with 1 Axes>"
            ]
          },
          "metadata": {},
          "output_type": "display_data"
        }
      ],
      "source": [
        "scaler = StandardScaler()\n",
        "\n",
        "X_train = scaler.fit_transform(X_train)\n",
        "X_test = scaler.transform(X_test)\n",
        "print(X_train)\n",
        "model = LinearRegression()\n",
        "\n",
        "model.fit(X_train, y_train)\n",
        "\n",
        "pred = model.predict(X_test)\n",
        "\n",
        "from sklearn.metrics import mean_absolute_error, mean_squared_error, r2_score\n",
        "\n",
        "print(\"MAE: \", (metrics.mean_absolute_error(pred, y_test)))\n",
        "print(\"MSE: \", (metrics.mean_squared_error(pred, y_test)))\n",
        "print(\"R2 score: \", (metrics.r2_score(pred, y_test)))\n",
        "\n",
        "sns.regplot(x=pred, y=y_test)\n",
        "plt.xlabel(\"Predicted Price\")\n",
        "plt.ylabel('Actual Price')\n",
        "plt.title(\"ACtual vs predicted price\")\n",
        "plt.show()"
      ]
    },
    {
      "cell_type": "code",
      "execution_count": null,
      "id": "4693b15f",
      "metadata": {
        "id": "4693b15f"
      },
      "outputs": [],
      "source": [
        "test = pd.read_csv('model_test.csv')"
      ]
    },
    {
      "cell_type": "code",
      "execution_count": null,
      "id": "879f31bf",
      "metadata": {
        "id": "879f31bf"
      },
      "outputs": [],
      "source": [
        "test.replace({'Fuel_type':{'gas':0, 'diesel':1, 'hybrid':2,'electric':3,'other':4}}, inplace=True)\n",
        "#one hot encoding\n",
        "test = pd.get_dummies(test, columns=[ 'Transmission'], drop_first=True)"
      ]
    },
    {
      "cell_type": "code",
      "execution_count": null,
      "id": "c89118ca",
      "metadata": {
        "id": "c89118ca"
      },
      "outputs": [],
      "source": [
        "test.drop(['Car_Name'],axis=1,inplace=True)"
      ]
    },
    {
      "cell_type": "code",
      "execution_count": null,
      "id": "5ba9ac79",
      "metadata": {
        "id": "5ba9ac79"
      },
      "outputs": [],
      "source": [
        "test = scaler.transform(test)"
      ]
    },
    {
      "cell_type": "code",
      "execution_count": null,
      "id": "c0039960",
      "metadata": {
        "id": "c0039960"
      },
      "outputs": [],
      "source": [
        "target = model.predict(test)"
      ]
    },
    {
      "cell_type": "code",
      "execution_count": null,
      "id": "7f64307e",
      "metadata": {
        "id": "7f64307e"
      },
      "outputs": [],
      "source": [
        "id_test = pd.read_csv('test.csv')\n",
        "id_test = id_test['id']"
      ]
    },
    {
      "cell_type": "code",
      "execution_count": null,
      "id": "60ceab9b",
      "metadata": {
        "id": "60ceab9b"
      },
      "outputs": [],
      "source": [
        "submission = pd.DataFrame({'id':id_test,'Target':target},columns=['id','Target'])"
      ]
    },
    {
      "cell_type": "code",
      "execution_count": null,
      "id": "20019b82",
      "metadata": {
        "id": "20019b82"
      },
      "outputs": [],
      "source": [
        "submission.to_csv('submit.csv',index=False)"
      ]
    },
    {
      "cell_type": "markdown",
      "id": "qgKwsCQlJUXZ",
      "metadata": {
        "id": "qgKwsCQlJUXZ"
      },
      "source": [
        "Save the model"
      ]
    },
    {
      "cell_type": "code",
      "execution_count": null,
      "id": "2ec45d0b",
      "metadata": {
        "id": "2ec45d0b"
      },
      "outputs": [],
      "source": [
        "import pickle\n",
        "filename =\"trained_model.pkl\"#naming the file we want to save it in\n",
        "pickle.dump(model,open(filename,\"wb\"))#saving the best model (GB)"
      ]
    },
    {
      "cell_type": "markdown",
      "id": "gC2pnCqOVFhD",
      "metadata": {
        "id": "gC2pnCqOVFhD"
      },
      "source": [
        "Streamlit"
      ]
    },
    {
      "cell_type": "code",
      "execution_count": null,
      "id": "gzxaOzSMWL8W",
      "metadata": {
        "colab": {
          "base_uri": "https://localhost:8080/",
          "height": 383
        },
        "id": "gzxaOzSMWL8W",
        "outputId": "1e68b18f-7389-48d8-faa0-1e0e70fb5fac"
      },
      "outputs": [
        {
          "ename": "ModuleNotFoundError",
          "evalue": "ignored",
          "output_type": "error",
          "traceback": [
            "\u001b[0;31m---------------------------------------------------------------------------\u001b[0m",
            "\u001b[0;31mModuleNotFoundError\u001b[0m                       Traceback (most recent call last)",
            "\u001b[0;32m<ipython-input-406-9a312d1b8138>\u001b[0m in \u001b[0;36m<cell line: 3>\u001b[0;34m()\u001b[0m\n\u001b[1;32m      1\u001b[0m \u001b[0;32mimport\u001b[0m \u001b[0mnumpy\u001b[0m \u001b[0;32mas\u001b[0m \u001b[0mnp\u001b[0m\u001b[0;34m\u001b[0m\u001b[0;34m\u001b[0m\u001b[0m\n\u001b[1;32m      2\u001b[0m \u001b[0;32mimport\u001b[0m \u001b[0mpickle\u001b[0m\u001b[0;34m\u001b[0m\u001b[0;34m\u001b[0m\u001b[0m\n\u001b[0;32m----> 3\u001b[0;31m \u001b[0;32mimport\u001b[0m \u001b[0mstreamlit\u001b[0m \u001b[0;32mas\u001b[0m \u001b[0mst\u001b[0m\u001b[0;34m\u001b[0m\u001b[0;34m\u001b[0m\u001b[0m\n\u001b[0m\u001b[1;32m      4\u001b[0m \u001b[0;32mimport\u001b[0m \u001b[0mpandas\u001b[0m \u001b[0;32mas\u001b[0m \u001b[0mpd\u001b[0m\u001b[0;34m\u001b[0m\u001b[0;34m\u001b[0m\u001b[0m\n\u001b[1;32m      5\u001b[0m \u001b[0;34m\u001b[0m\u001b[0m\n",
            "\u001b[0;31mModuleNotFoundError\u001b[0m: No module named 'streamlit'",
            "",
            "\u001b[0;31m---------------------------------------------------------------------------\u001b[0;32m\nNOTE: If your import is failing due to a missing package, you can\nmanually install dependencies using either !pip or !apt.\n\nTo view examples of installing some common dependencies, click the\n\"Open Examples\" button below.\n\u001b[0;31m---------------------------------------------------------------------------\u001b[0m\n"
          ]
        }
      ],
      "source": [
        "import numpy as np\n",
        "import pickle\n",
        "import streamlit as st\n",
        "import pandas as pd\n",
        "\n",
        "\n",
        "load_model=pickle.load(open(\"trained_model.pkl\",\"rb\"))\n",
        "df_before_dummies= pd.read_csv(\"/content/model_train.csv\")\n",
        "\n",
        "\n",
        "def full_input_data (data_before_dm,transmition=\"manual\",input_data=[2007,0,214740.0]) :\n",
        "  \"\"\"predection for any data input to the model\"\"\"\n",
        "  x=np.array(input_data)\n",
        "  x=pd.DataFrame(x)\n",
        "  x=x.transpose()\n",
        "  x.columns=[\"Year\",\"Fuel_type\",\"Kms_Driven\"]\n",
        "  df1=pd.get_dummies(pd.DataFrame({'Transmission':[transmition]}))\n",
        "  df1=df1.reindex(columns = pd.get_dummies(df_before_dummies[\"Transmission\"],drop_first=True).columns, fill_value=0)\n",
        "  new_test=pd.concat([x,df1],axis=1)\n",
        "  prediction=load_model.predict(new_test)\n",
        "  return prediction\n",
        "\n",
        "\n",
        "\n",
        "def main () :\n",
        "  #giving a title\n",
        "  st.title('House Pricing Predector')\n",
        "  #getting the input data from the user\n",
        "\n",
        "  Year = st.number_input('Year')\n",
        "  Fuel_type = st.number_input('Fuel_type')\n",
        "  Kms_Driven = st.number_input('Kms_Driven')\n",
        "\n",
        "  Transmission =st.selectbox(\"Transmission\",('manual', 'automatic', 'other'))\n",
        "  #code for prediction\n",
        "  price = ''\n",
        "  #creating a button for prediction\n",
        "\n",
        "  if st.button('Price of the Car:'):\n",
        "    price = full_input_data(df_before_dummies,city_name=city,input_data=[bedrooms,bathrooms,sqft_living,sqft_lot,floors,waterfront,view,condition,grade,sqft_above,sqft_basement,yr_built,lat,long,sqft_living15,sqft_lot15,is_renovated,year,month])\n",
        "\n",
        "  st.success(price)\n",
        "\n",
        "\n",
        "\n",
        "if __name__ == '__main__':\n",
        "  main()"
      ]
    },
    {
      "cell_type": "markdown",
      "id": "QYJAhv4_WU0l",
      "metadata": {
        "id": "QYJAhv4_WU0l"
      },
      "source": [
        "Test"
      ]
    },
    {
      "cell_type": "code",
      "execution_count": null,
      "id": "L8fX6sanRm97",
      "metadata": {
        "id": "L8fX6sanRm97"
      },
      "outputs": [],
      "source": [
        "x=np.array([2007,0,214740.0])\n",
        "x=pd.DataFrame(x)\n",
        "x=x.transpose()\n",
        "x.columns=[\"Year\",\"Fuel_type\",\"Kms_Driven\"]\n",
        "df1=pd.get_dummies(pd.DataFrame({'Transmission':[\"manual\"]}))\n",
        "df1=df1.reindex(columns = pd.get_dummies(df_before_dummies[\"Transmission\"],drop_first=True).columns, fill_value=0)\n",
        "new_test=pd.concat([x,df1],axis=1)\n",
        "prediction=load_model.predict(new_test)\n",
        "print(prediction)"
      ]
    },
    {
      "cell_type": "code",
      "execution_count": null,
      "id": "nXb43GGKR-NC",
      "metadata": {
        "id": "nXb43GGKR-NC"
      },
      "outputs": [],
      "source": [
        "new_test"
      ]
    },
    {
      "cell_type": "code",
      "execution_count": null,
      "id": "dxxJiRgRSLgF",
      "metadata": {
        "id": "dxxJiRgRSLgF"
      },
      "outputs": [],
      "source": []
    },
    {
      "cell_type": "code",
      "execution_count": null,
      "id": "ygxLDqnpTmw1",
      "metadata": {
        "id": "ygxLDqnpTmw1"
      },
      "outputs": [],
      "source": []
    }
  ],
  "metadata": {
    "colab": {
      "provenance": []
    },
    "kernelspec": {
      "display_name": "Python 3 (ipykernel)",
      "language": "python",
      "name": "python3"
    },
    "language_info": {
      "codemirror_mode": {
        "name": "ipython",
        "version": 3
      },
      "file_extension": ".py",
      "mimetype": "text/x-python",
      "name": "python",
      "nbconvert_exporter": "python",
      "pygments_lexer": "ipython3",
      "version": "3.9.6"
    }
  },
  "nbformat": 4,
  "nbformat_minor": 5
}
